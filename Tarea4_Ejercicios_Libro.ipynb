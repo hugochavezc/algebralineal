{
  "nbformat": 4,
  "nbformat_minor": 0,
  "metadata": {
    "colab": {
      "provenance": [],
      "authorship_tag": "ABX9TyMk9Uu4Wk4ukMsTNl6X+Udz",
      "include_colab_link": true
    },
    "kernelspec": {
      "name": "python3",
      "display_name": "Python 3"
    },
    "language_info": {
      "name": "python"
    }
  },
  "cells": [
    {
      "cell_type": "markdown",
      "metadata": {
        "id": "view-in-github",
        "colab_type": "text"
      },
      "source": [
        "<a href=\"https://colab.research.google.com/github/GabrielEzaitGuzmanRivera140562/practicas/blob/Algebra-lineal/Tarea_4.ipynb\" target=\"_parent\"><img src=\"https://colab.research.google.com/assets/colab-badge.svg\" alt=\"Open In Colab\"/></a>"
      ]
    },
    {
      "cell_type": "code",
      "execution_count": 1,
      "metadata": {
        "colab": {
          "base_uri": "https://localhost:8080/"
        },
        "id": "oFgLdvVN86TI",
        "outputId": "1bddaf35-1ee8-4c0e-d2fd-35744f2f6031"
      },
      "outputs": [
        {
          "output_type": "stream",
          "name": "stdout",
          "text": [
            "Collecting nacal\n",
            "  Downloading nacal-0.2.1-py3-none-any.whl (40 kB)\n",
            "\u001b[2K     \u001b[90m━━━━━━━━━━━━━━━━━━━━━━━━━━━━━━━━━━━━━━━━\u001b[0m \u001b[32m40.0/40.0 kB\u001b[0m \u001b[31m1.1 MB/s\u001b[0m eta \u001b[36m0:00:00\u001b[0m\n",
            "\u001b[?25hRequirement already satisfied: sympy>=1.1.0 in /usr/local/lib/python3.10/dist-packages (from nacal) (1.12)\n",
            "Requirement already satisfied: mpmath>=0.19 in /usr/local/lib/python3.10/dist-packages (from sympy>=1.1.0->nacal) (1.3.0)\n",
            "Installing collected packages: nacal\n",
            "Successfully installed nacal-0.2.1\n"
          ]
        }
      ],
      "source": [
        "!pip install --target=$nb_path nacal\n",
        "from nacal import *"
      ]
    },
    {
      "cell_type": "markdown",
      "source": [
        "### Ejercicio 1"
      ],
      "metadata": {
        "id": "YAfkg_WD9FTa"
      }
    },
    {
      "cell_type": "markdown",
      "source": [
        "Cree la matriz\n",
        "$${A}=\\begin{bmatrix}1&0&0&0\\\\2&0&0&0\\\\0&3&3&0\\\\0&3&4&1\\\\0&1&2&1\\end{bmatrix}$$"
      ],
      "metadata": {
        "id": "rmVIp20sAJJm"
      }
    },
    {
      "cell_type": "code",
      "source": [
        "a = Vector ([1,2,0,0,0])\n",
        "b = Vector ([0,0,3,3,1])\n",
        "c = Vector ([0,0,3,4,2])\n",
        "d = Vector ([0,0,0,1,1])\n",
        "A = Matrix ([a,b,c,d])\n",
        "print(A)\n",
        "A"
      ],
      "metadata": {
        "colab": {
          "base_uri": "https://localhost:8080/",
          "height": 133
        },
        "id": "EnLnplItAKa6",
        "outputId": "6e550dbf-1fdd-4d99-e335-4776431639ae"
      },
      "execution_count": 3,
      "outputs": [
        {
          "output_type": "stream",
          "name": "stdout",
          "text": [
            "|1 0 0 0|\n",
            "|2 0 0 0|\n",
            "|0 3 3 0|\n",
            "|0 3 4 1|\n",
            "|0 1 2 1|\n"
          ]
        },
        {
          "output_type": "execute_result",
          "data": {
            "text/plain": [
              "Matrix([Vector([1, 2, 0, 0, 0]), Vector([0, 0, 3, 3, 1]), Vector([0, 0, 3, 4, 2]), Vector([0, 0, 0, 1, 1])])"
            ],
            "text/html": [
              "<p style=\"text-align:center;\">$\\left[ \\begin{array}{cccc}1&0&0&0\\\\2&0&0&0\\\\0&3&3&0\\\\0&3&4&1\\\\0&1&2&1\\\\ \\end{array} \\right]$</p>"
            ],
            "image/png": "$\\left[ \\begin{array}{cccc}1&0&0&0\\\\2&0&0&0\\\\0&3&3&0\\\\0&3&4&1\\\\0&1&2&1\\\\ \\end{array} \\right]$",
            "text/latex": "$\\left[ \\begin{array}{cccc}1&0&0&0\\\\2&0&0&0\\\\0&3&3&0\\\\0&3&4&1\\\\0&1&2&1\\\\ \\end{array} \\right]$"
          },
          "metadata": {},
          "execution_count": 3
        }
      ]
    },
    {
      "cell_type": "markdown",
      "source": [
        "$\\left[ \\begin{array}{cccc}1&0&0&0\\\\2&0&0&0\\\\0&3&3&0\\\\0&3&4&1\\\\0&1&2&1\\\\ \\end{array} \\right]$"
      ],
      "metadata": {
        "id": "Z8KXmx8IAkU8"
      }
    },
    {
      "cell_type": "markdown",
      "source": [
        "Cree a partir de ${A}$ una matriz cuya única columna sea la\n",
        "primera columna de ${A}$"
      ],
      "metadata": {
        "id": "Gc0BlAxBAphw"
      }
    },
    {
      "cell_type": "code",
      "source": [
        "x = Matrix ([a])\n",
        "print(x)\n",
        "x"
      ],
      "metadata": {
        "colab": {
          "base_uri": "https://localhost:8080/",
          "height": 133
        },
        "id": "AUyP7qaMArs6",
        "outputId": "b8f86204-1d6b-4b56-f1ed-5553802234fd"
      },
      "execution_count": 4,
      "outputs": [
        {
          "output_type": "stream",
          "name": "stdout",
          "text": [
            "|1|\n",
            "|2|\n",
            "|0|\n",
            "|0|\n",
            "|0|\n"
          ]
        },
        {
          "output_type": "execute_result",
          "data": {
            "text/plain": [
              "Matrix([Vector([1, 2, 0, 0, 0])])"
            ],
            "text/html": [
              "<p style=\"text-align:center;\">$\\left[ \\begin{array}{c}1\\\\2\\\\0\\\\0\\\\0\\\\ \\end{array} \\right]$</p>"
            ],
            "image/png": "$\\left[ \\begin{array}{c}1\\\\2\\\\0\\\\0\\\\0\\\\ \\end{array} \\right]$",
            "text/latex": "$\\left[ \\begin{array}{c}1\\\\2\\\\0\\\\0\\\\0\\\\ \\end{array} \\right]$"
          },
          "metadata": {},
          "execution_count": 4
        }
      ]
    },
    {
      "cell_type": "markdown",
      "source": [
        "$\\left[ \\begin{array}{c}1\\\\2\\\\0\\\\0\\\\0\\\\ \\end{array} \\right]$"
      ],
      "metadata": {
        "id": "dxAVEocqAz-l"
      }
    },
    {
      "cell_type": "markdown",
      "source": [
        "Cree a partir de ${A}$ una matriz cuya única columna sea la segunda\n",
        "fila de ${A}$"
      ],
      "metadata": {
        "id": "w3bTlpf9A1ey"
      }
    },
    {
      "cell_type": "code",
      "source": [
        "y = Matrix ([b])\n",
        "print(y)\n",
        "y"
      ],
      "metadata": {
        "colab": {
          "base_uri": "https://localhost:8080/",
          "height": 133
        },
        "id": "ty0sNPiWA9V0",
        "outputId": "bea0df54-70e6-4166-e41d-a5081dabb96d"
      },
      "execution_count": 5,
      "outputs": [
        {
          "output_type": "stream",
          "name": "stdout",
          "text": [
            "|0|\n",
            "|0|\n",
            "|3|\n",
            "|3|\n",
            "|1|\n"
          ]
        },
        {
          "output_type": "execute_result",
          "data": {
            "text/plain": [
              "Matrix([Vector([0, 0, 3, 3, 1])])"
            ],
            "text/html": [
              "<p style=\"text-align:center;\">$\\left[ \\begin{array}{c}0\\\\0\\\\3\\\\3\\\\1\\\\ \\end{array} \\right]$</p>"
            ],
            "image/png": "$\\left[ \\begin{array}{c}0\\\\0\\\\3\\\\3\\\\1\\\\ \\end{array} \\right]$",
            "text/latex": "$\\left[ \\begin{array}{c}0\\\\0\\\\3\\\\3\\\\1\\\\ \\end{array} \\right]$"
          },
          "metadata": {},
          "execution_count": 5
        }
      ]
    },
    {
      "cell_type": "markdown",
      "source": [
        "$\\left[ \\begin{array}{c}0\\\\0\\\\3\\\\3\\\\1\\\\ \\end{array} \\right]$"
      ],
      "metadata": {
        "id": "Pm8MOXFuA_yr"
      }
    },
    {
      "cell_type": "markdown",
      "source": [
        "Cree a partir de $A$ una matriz cuya única fila sea la primera\n",
        "fila de $A$"
      ],
      "metadata": {
        "id": "SA7r6CW2BAbx"
      }
    },
    {
      "cell_type": "code",
      "source": [
        "z = Matrix ([1|A])\n",
        "print(z)\n",
        "z"
      ],
      "metadata": {
        "colab": {
          "base_uri": "https://localhost:8080/",
          "height": 116
        },
        "id": "ssw4nQ2JBG2G",
        "outputId": "9b4f8e11-a047-4a0e-f78f-88c07edab313"
      },
      "execution_count": 6,
      "outputs": [
        {
          "output_type": "stream",
          "name": "stdout",
          "text": [
            "|1|\n",
            "|0|\n",
            "|0|\n",
            "|0|\n"
          ]
        },
        {
          "output_type": "execute_result",
          "data": {
            "text/plain": [
              "Matrix([Vector([1, 0, 0, 0])])"
            ],
            "text/html": [
              "<p style=\"text-align:center;\">$\\left[ \\begin{array}{c}1\\\\0\\\\0\\\\0\\\\ \\end{array} \\right]$</p>"
            ],
            "image/png": "$\\left[ \\begin{array}{c}1\\\\0\\\\0\\\\0\\\\ \\end{array} \\right]$",
            "text/latex": "$\\left[ \\begin{array}{c}1\\\\0\\\\0\\\\0\\\\ \\end{array} \\right]$"
          },
          "metadata": {},
          "execution_count": 6
        }
      ]
    },
    {
      "cell_type": "markdown",
      "source": [
        "$\\left[ \\begin{array}{c}1\\\\0\\\\0\\\\0\\\\ \\end{array} \\right]$"
      ],
      "metadata": {
        "id": "Y1CHGufLBN6J"
      }
    },
    {
      "cell_type": "markdown",
      "source": [
        "###Ejercicio 2"
      ],
      "metadata": {
        "id": "2Kt745fkBO1f"
      }
    },
    {
      "cell_type": "markdown",
      "source": [
        "Calcule el siguiente vector: 3 veces la primera columna de $A$\n",
        "menos la segunda columna de $A$ mas 2 veces la tercera columna\n",
        "menos 3 veces la última columna de $A$"
      ],
      "metadata": {
        "id": "YFOSdtt7BTmO"
      }
    },
    {
      "cell_type": "code",
      "source": [
        "print(((3*(1|A))-(2|A)+(2*(3|A)-(3*(4|A)))))"
      ],
      "metadata": {
        "colab": {
          "base_uri": "https://localhost:8080/"
        },
        "id": "6UkS3Z-sBV78",
        "outputId": "5b756c8d-f534-40dc-ef99-7e61d3ab41d1"
      },
      "execution_count": 7,
      "outputs": [
        {
          "output_type": "stream",
          "name": "stdout",
          "text": [
            "(1, -3, -6, -3,)\n"
          ]
        }
      ]
    },
    {
      "cell_type": "markdown",
      "source": [
        "$\\left[ \\begin{array}{c}1\\\\-3\\\\-6\\\\-3\\\\ \\end{array} \\right]$"
      ],
      "metadata": {
        "id": "LP-PK0V-B8Dt"
      }
    },
    {
      "cell_type": "markdown",
      "source": [
        "### Ejercicio 3"
      ],
      "metadata": {
        "id": "oJM43eaFCEuD"
      }
    },
    {
      "cell_type": "markdown",
      "source": [
        "Proporcione ejemplos de matrices 3 por 3 no nulas de los siguientes\n",
        "tipos de matrices:\n",
        "\n",
        "-   Una matriz diagonal"
      ],
      "metadata": {
        "id": "2vz_pgRvDSjt"
      }
    },
    {
      "cell_type": "code",
      "source": [
        "x = Vector ([1,0,0])\n",
        "y = Vector ([0,2,0])\n",
        "z = Vector ([0,0,3])\n",
        "W = Matrix ([x,y,z])\n",
        "print(W)\n",
        "W"
      ],
      "metadata": {
        "colab": {
          "base_uri": "https://localhost:8080/",
          "height": 98
        },
        "id": "gzNvNcvaDTJx",
        "outputId": "97e01b4b-907d-4111-8949-3358f114b7eb"
      },
      "execution_count": 8,
      "outputs": [
        {
          "output_type": "stream",
          "name": "stdout",
          "text": [
            "|1 0 0|\n",
            "|0 2 0|\n",
            "|0 0 3|\n"
          ]
        },
        {
          "output_type": "execute_result",
          "data": {
            "text/plain": [
              "Matrix([Vector([1, 0, 0]), Vector([0, 2, 0]), Vector([0, 0, 3])])"
            ],
            "text/html": [
              "<p style=\"text-align:center;\">$\\left[ \\begin{array}{ccc}1&0&0\\\\0&2&0\\\\0&0&3\\\\ \\end{array} \\right]$</p>"
            ],
            "image/png": "$\\left[ \\begin{array}{ccc}1&0&0\\\\0&2&0\\\\0&0&3\\\\ \\end{array} \\right]$",
            "text/latex": "$\\left[ \\begin{array}{ccc}1&0&0\\\\0&2&0\\\\0&0&3\\\\ \\end{array} \\right]$"
          },
          "metadata": {},
          "execution_count": 8
        }
      ]
    },
    {
      "cell_type": "markdown",
      "source": [
        "$\\left[ \\begin{array}{ccc}1&0&0\\\\0&2&0\\\\0&0&3\\\\ \\end{array} \\right]$"
      ],
      "metadata": {
        "id": "Cuj4e73QDcZ4"
      }
    },
    {
      "cell_type": "markdown",
      "source": [
        "-   Una matriz simétrica"
      ],
      "metadata": {
        "id": "X3r9eA-8DdlZ"
      }
    },
    {
      "cell_type": "code",
      "source": [
        "x = Vector ([1,4,9])\n",
        "y = Vector ([4,2,5])\n",
        "z = Vector ([9,5,3])\n",
        "H = Matrix ([x,y,z])\n",
        "print(H)\n",
        "H"
      ],
      "metadata": {
        "colab": {
          "base_uri": "https://localhost:8080/",
          "height": 98
        },
        "id": "-FEPxK_ID7jQ",
        "outputId": "c5a5e2a3-4df3-4e0a-82e4-dc12bfaa4ab8"
      },
      "execution_count": 9,
      "outputs": [
        {
          "output_type": "stream",
          "name": "stdout",
          "text": [
            "|1 4 9|\n",
            "|4 2 5|\n",
            "|9 5 3|\n"
          ]
        },
        {
          "output_type": "execute_result",
          "data": {
            "text/plain": [
              "Matrix([Vector([1, 4, 9]), Vector([4, 2, 5]), Vector([9, 5, 3])])"
            ],
            "text/html": [
              "<p style=\"text-align:center;\">$\\left[ \\begin{array}{ccc}1&4&9\\\\4&2&5\\\\9&5&3\\\\ \\end{array} \\right]$</p>"
            ],
            "image/png": "$\\left[ \\begin{array}{ccc}1&4&9\\\\4&2&5\\\\9&5&3\\\\ \\end{array} \\right]$",
            "text/latex": "$\\left[ \\begin{array}{ccc}1&4&9\\\\4&2&5\\\\9&5&3\\\\ \\end{array} \\right]$"
          },
          "metadata": {},
          "execution_count": 9
        }
      ]
    },
    {
      "cell_type": "markdown",
      "source": [
        "$\\left[ \\begin{array}{ccc}1&4&9\\\\4&2&5\\\\9&5&3\\\\ \\end{array} \\right]$"
      ],
      "metadata": {
        "id": "2hRQzrIKEEK4"
      }
    },
    {
      "cell_type": "markdown",
      "source": [
        "-   Una matriz triangular superior (es decir, que todos los elementos\n",
        "    por *debajo* de la diagonal son nulos)."
      ],
      "metadata": {
        "id": "fnv8blMOEFnU"
      }
    },
    {
      "cell_type": "code",
      "source": [
        "a = Vector ([1,0,0])\n",
        "b = Vector ([4,2,0])\n",
        "c = Vector ([5,0,3])\n",
        "L = Matrix ([a,b,c])\n",
        "print(L)\n",
        "L"
      ],
      "metadata": {
        "colab": {
          "base_uri": "https://localhost:8080/",
          "height": 98
        },
        "id": "ANkpQNuuEH5b",
        "outputId": "cbab4870-aa67-4116-d746-3bc46df5da7b"
      },
      "execution_count": 10,
      "outputs": [
        {
          "output_type": "stream",
          "name": "stdout",
          "text": [
            "|1 4 5|\n",
            "|0 2 0|\n",
            "|0 0 3|\n"
          ]
        },
        {
          "output_type": "execute_result",
          "data": {
            "text/plain": [
              "Matrix([Vector([1, 0, 0]), Vector([4, 2, 0]), Vector([5, 0, 3])])"
            ],
            "text/html": [
              "<p style=\"text-align:center;\">$\\left[ \\begin{array}{ccc}1&4&5\\\\0&2&0\\\\0&0&3\\\\ \\end{array} \\right]$</p>"
            ],
            "image/png": "$\\left[ \\begin{array}{ccc}1&4&5\\\\0&2&0\\\\0&0&3\\\\ \\end{array} \\right]$",
            "text/latex": "$\\left[ \\begin{array}{ccc}1&4&5\\\\0&2&0\\\\0&0&3\\\\ \\end{array} \\right]$"
          },
          "metadata": {},
          "execution_count": 10
        }
      ]
    },
    {
      "cell_type": "markdown",
      "source": [
        "$\\left[ \\begin{array}{ccc}1&4&5\\\\0&2&0\\\\0&0&3\\\\ \\end{array} \\right]$"
      ],
      "metadata": {
        "id": "ABTr8nbnEOZX"
      }
    },
    {
      "cell_type": "markdown",
      "source": [
        "###Ejercicio 4"
      ],
      "metadata": {
        "id": "tggwkxyVEW-r"
      }
    },
    {
      "cell_type": "markdown",
      "source": [
        "# Propiedades del producto Matriz por vector\n",
        "\n",
        "Genere una matriz $A$ (con el número de filas y columnas que\n",
        "desee) y dos vectores ${b}$ y ${c}$ con tantos componentes\n",
        "como columnas tenga $A$."
      ],
      "metadata": {
        "id": "FWg-iwmoFz5B"
      }
    },
    {
      "cell_type": "code",
      "source": [
        "# Defina una matriz A\n",
        "x = Vector ([1,2,3])\n",
        "y = Vector ([4,5,6])\n",
        "z = Vector ([7,8,9])\n",
        "A = Matrix ([x,y,z])\n",
        "print(A)\n",
        "A"
      ],
      "metadata": {
        "colab": {
          "base_uri": "https://localhost:8080/",
          "height": 98
        },
        "id": "w47YxN8vF1gq",
        "outputId": "9cd389fc-9412-4b90-8796-9773b08555b8"
      },
      "execution_count": 11,
      "outputs": [
        {
          "output_type": "stream",
          "name": "stdout",
          "text": [
            "|1 4 7|\n",
            "|2 5 8|\n",
            "|3 6 9|\n"
          ]
        },
        {
          "output_type": "execute_result",
          "data": {
            "text/plain": [
              "Matrix([Vector([1, 2, 3]), Vector([4, 5, 6]), Vector([7, 8, 9])])"
            ],
            "text/html": [
              "<p style=\"text-align:center;\">$\\left[ \\begin{array}{ccc}1&4&7\\\\2&5&8\\\\3&6&9\\\\ \\end{array} \\right]$</p>"
            ],
            "image/png": "$\\left[ \\begin{array}{ccc}1&4&7\\\\2&5&8\\\\3&6&9\\\\ \\end{array} \\right]$",
            "text/latex": "$\\left[ \\begin{array}{ccc}1&4&7\\\\2&5&8\\\\3&6&9\\\\ \\end{array} \\right]$"
          },
          "metadata": {},
          "execution_count": 11
        }
      ]
    },
    {
      "cell_type": "markdown",
      "source": [
        "$\\left[ \\begin{array}{ccc}1&4&7\\\\2&5&8\\\\3&6&9\\\\ \\end{array} \\right]$"
      ],
      "metadata": {
        "id": "PAKCU187F7CW"
      }
    },
    {
      "cell_type": "code",
      "source": [
        "# Defina el vector b con tantos componentes como columnas tenga la matriz A\n",
        "b = Vector ([10,11,12,13,14,15,16,17,18,19])\n",
        "print(b)\n",
        "b"
      ],
      "metadata": {
        "colab": {
          "base_uri": "https://localhost:8080/",
          "height": 64
        },
        "id": "YVCfNSfGF-W4",
        "outputId": "d5df85f6-b0da-4f30-a5e8-9287ffe66149"
      },
      "execution_count": 12,
      "outputs": [
        {
          "output_type": "stream",
          "name": "stdout",
          "text": [
            "(10, 11, 12, 13, 14, 15, 16, 17, 18, 19,)\n"
          ]
        },
        {
          "output_type": "execute_result",
          "data": {
            "text/plain": [
              "Vector([10, 11, 12, 13, 14, 15, 16, 17, 18, 19])"
            ],
            "text/html": [
              "<p style=\"text-align:center;\">$\\begin{pmatrix}10\\\\ 11\\\\ 12\\\\ 13\\\\ 14\\\\ 15\\\\ 16\\\\ 17\\\\ 18\\\\ 19\\end{pmatrix}$</p>"
            ],
            "image/png": "$\\begin{pmatrix}10\\\\ 11\\\\ 12\\\\ 13\\\\ 14\\\\ 15\\\\ 16\\\\ 17\\\\ 18\\\\ 19\\end{pmatrix}$",
            "text/latex": "$\\begin{pmatrix}10\\\\ 11\\\\ 12\\\\ 13\\\\ 14\\\\ 15\\\\ 16\\\\ 17\\\\ 18\\\\ 19\\end{pmatrix}$"
          },
          "metadata": {},
          "execution_count": 12
        }
      ]
    },
    {
      "cell_type": "markdown",
      "source": [
        "$\\begin{pmatrix}10\\\\ 11\\\\ 12\\\\ 13\\\\ 14\\\\ 15\\\\ 16\\\\ 17\\\\ 18\\\\ 19\\end{pmatrix}$"
      ],
      "metadata": {
        "id": "Szi4gTW0GAVq"
      }
    },
    {
      "cell_type": "code",
      "source": [
        "# Defina el vector c con tantos componentes como el vector b\n",
        "c = Vector ([20,21,22,23,24,25,26,27,28])\n",
        "print(c)\n",
        "c"
      ],
      "metadata": {
        "colab": {
          "base_uri": "https://localhost:8080/",
          "height": 64
        },
        "id": "6kZfUwQ8GA3f",
        "outputId": "180f8199-f042-471f-d9ed-e21168735d5c"
      },
      "execution_count": 13,
      "outputs": [
        {
          "output_type": "stream",
          "name": "stdout",
          "text": [
            "(20, 21, 22, 23, 24, 25, 26, 27, 28,)\n"
          ]
        },
        {
          "output_type": "execute_result",
          "data": {
            "text/plain": [
              "Vector([20, 21, 22, 23, 24, 25, 26, 27, 28])"
            ],
            "text/html": [
              "<p style=\"text-align:center;\">$\\begin{pmatrix}20\\\\ 21\\\\ 22\\\\ 23\\\\ 24\\\\ 25\\\\ 26\\\\ 27\\\\ 28\\end{pmatrix}$</p>"
            ],
            "image/png": "$\\begin{pmatrix}20\\\\ 21\\\\ 22\\\\ 23\\\\ 24\\\\ 25\\\\ 26\\\\ 27\\\\ 28\\end{pmatrix}$",
            "text/latex": "$\\begin{pmatrix}20\\\\ 21\\\\ 22\\\\ 23\\\\ 24\\\\ 25\\\\ 26\\\\ 27\\\\ 28\\end{pmatrix}$"
          },
          "metadata": {},
          "execution_count": 13
        }
      ]
    },
    {
      "cell_type": "markdown",
      "source": [
        "$\\begin{pmatrix}20\\\\ 21\\\\ 22\\\\ 23\\\\ 24\\\\ 25\\\\ 26\\\\ 27\\\\ 28\\end{pmatrix}$"
      ],
      "metadata": {
        "id": "mbkg1w_UGEPu"
      }
    },
    {
      "cell_type": "markdown",
      "source": [
        "Y ahora verifique las propiedades vistas en el curso (en todos los casos, verifique sus ejemplos también con lapiz y papel... recuerde que primero se realizan las operaciones encerradas entre paréntesis).\n",
        "\n",
        "A(b+c)=Ab+Ac"
      ],
      "metadata": {
        "id": "PyNwbXxMGG5N"
      }
    },
    {
      "cell_type": "code",
      "source": [
        "# escriba aquí la parte izquierda de la ecuación=A*(b+c)\n",
        "print (A*(b+c))\n",
        "A*(b+c)"
      ],
      "metadata": {
        "colab": {
          "base_uri": "https://localhost:8080/",
          "height": 297
        },
        "collapsed": true,
        "id": "rBXxGpJxGKpE",
        "outputId": "d9128364-907a-4620-fbc5-5797721a19c8"
      },
      "execution_count": 17,
      "outputs": [
        {
          "output_type": "error",
          "ename": "ValueError",
          "evalue": "Solo se suman Sistemas del mismo tipo y misma longitud",
          "traceback": [
            "\u001b[0;31m---------------------------------------------------------------------------\u001b[0m",
            "\u001b[0;31mValueError\u001b[0m                                Traceback (most recent call last)",
            "\u001b[0;32m<ipython-input-17-c20635d59c01>\u001b[0m in \u001b[0;36m<cell line: 2>\u001b[0;34m()\u001b[0m\n\u001b[1;32m      1\u001b[0m \u001b[0;31m# escriba aquí la parte izquierda de la ecuación=A*(b+c)\u001b[0m\u001b[0;34m\u001b[0m\u001b[0;34m\u001b[0m\u001b[0m\n\u001b[0;32m----> 2\u001b[0;31m \u001b[0mprint\u001b[0m \u001b[0;34m(\u001b[0m\u001b[0mA\u001b[0m\u001b[0;34m*\u001b[0m\u001b[0;34m(\u001b[0m\u001b[0mb\u001b[0m\u001b[0;34m+\u001b[0m\u001b[0mc\u001b[0m\u001b[0;34m)\u001b[0m\u001b[0;34m)\u001b[0m\u001b[0;34m\u001b[0m\u001b[0;34m\u001b[0m\u001b[0m\n\u001b[0m\u001b[1;32m      3\u001b[0m \u001b[0mA\u001b[0m\u001b[0;34m*\u001b[0m\u001b[0;34m(\u001b[0m\u001b[0mb\u001b[0m\u001b[0;34m+\u001b[0m\u001b[0mc\u001b[0m\u001b[0;34m)\u001b[0m\u001b[0;34m\u001b[0m\u001b[0;34m\u001b[0m\u001b[0m\n",
            "\u001b[0;32m/usr/local/lib/python3.10/dist-packages/nacal/nacal.py\u001b[0m in \u001b[0;36m__add__\u001b[0;34m(self, other)\u001b[0m\n\u001b[1;32m    614\u001b[0m \u001b[0;34m\u001b[0m\u001b[0m\n\u001b[1;32m    615\u001b[0m         \u001b[0;32mif\u001b[0m \u001b[0;32mnot\u001b[0m \u001b[0mtype\u001b[0m\u001b[0;34m(\u001b[0m\u001b[0mself\u001b[0m\u001b[0;34m)\u001b[0m\u001b[0;34m==\u001b[0m\u001b[0mtype\u001b[0m\u001b[0;34m(\u001b[0m\u001b[0mother\u001b[0m\u001b[0;34m)\u001b[0m \u001b[0;32mor\u001b[0m \u001b[0;32mnot\u001b[0m \u001b[0mlen\u001b[0m\u001b[0;34m(\u001b[0m\u001b[0mself\u001b[0m\u001b[0;34m)\u001b[0m\u001b[0;34m==\u001b[0m\u001b[0mlen\u001b[0m\u001b[0;34m(\u001b[0m\u001b[0mother\u001b[0m\u001b[0;34m)\u001b[0m\u001b[0;34m:\u001b[0m\u001b[0;34m\u001b[0m\u001b[0;34m\u001b[0m\u001b[0m\n\u001b[0;32m--> 616\u001b[0;31m             \u001b[0;32mraise\u001b[0m \u001b[0mValueError\u001b[0m \u001b[0;34m(\u001b[0m\u001b[0;34m'Solo se suman Sistemas del mismo tipo y misma longitud'\u001b[0m\u001b[0;34m)\u001b[0m\u001b[0;34m\u001b[0m\u001b[0;34m\u001b[0m\u001b[0m\n\u001b[0m\u001b[1;32m    617\u001b[0m         \u001b[0msuma\u001b[0m \u001b[0;34m=\u001b[0m \u001b[0mself\u001b[0m\u001b[0;34m.\u001b[0m\u001b[0mfullcopy\u001b[0m\u001b[0;34m(\u001b[0m\u001b[0;34m)\u001b[0m\u001b[0;34m\u001b[0m\u001b[0;34m\u001b[0m\u001b[0m\n\u001b[1;32m    618\u001b[0m         \u001b[0msuma\u001b[0m\u001b[0;34m.\u001b[0m\u001b[0mlista\u001b[0m \u001b[0;34m=\u001b[0m \u001b[0;34m[\u001b[0m \u001b[0;34m(\u001b[0m\u001b[0mself\u001b[0m\u001b[0;34m|\u001b[0m\u001b[0mi\u001b[0m\u001b[0;34m)\u001b[0m \u001b[0;34m+\u001b[0m \u001b[0;34m(\u001b[0m\u001b[0mother\u001b[0m\u001b[0;34m|\u001b[0m\u001b[0mi\u001b[0m\u001b[0;34m)\u001b[0m \u001b[0;32mfor\u001b[0m \u001b[0mi\u001b[0m \u001b[0;32min\u001b[0m \u001b[0mrange\u001b[0m\u001b[0;34m(\u001b[0m\u001b[0;36m1\u001b[0m\u001b[0;34m,\u001b[0m\u001b[0mlen\u001b[0m\u001b[0;34m(\u001b[0m\u001b[0mself\u001b[0m\u001b[0;34m)\u001b[0m\u001b[0;34m+\u001b[0m\u001b[0;36m1\u001b[0m\u001b[0;34m)\u001b[0m \u001b[0;34m]\u001b[0m\u001b[0;34m\u001b[0m\u001b[0;34m\u001b[0m\u001b[0m\n",
            "\u001b[0;31mValueError\u001b[0m: Solo se suman Sistemas del mismo tipo y misma longitud"
          ]
        }
      ]
    },
    {
      "cell_type": "code",
      "source": [
        "# escriba aquí la parte derecha de la ecuación\n",
        "print((A*b)+(A*c))\n",
        "(A*b)+(A*c)"
      ],
      "metadata": {
        "colab": {
          "base_uri": "https://localhost:8080/",
          "height": 315
        },
        "id": "MN8QVtL0G_BJ",
        "outputId": "2075dd0b-43e1-4772-b9e2-fd1446e16b96"
      },
      "execution_count": 18,
      "outputs": [
        {
          "output_type": "error",
          "ename": "ValueError",
          "evalue": "Sistema y Vector incompatibles",
          "traceback": [
            "\u001b[0;31m---------------------------------------------------------------------------\u001b[0m",
            "\u001b[0;31mValueError\u001b[0m                                Traceback (most recent call last)",
            "\u001b[0;32m<ipython-input-18-46820b54f9ab>\u001b[0m in \u001b[0;36m<cell line: 2>\u001b[0;34m()\u001b[0m\n\u001b[1;32m      1\u001b[0m \u001b[0;31m# escriba aquí la parte derecha de la ecuación\u001b[0m\u001b[0;34m\u001b[0m\u001b[0;34m\u001b[0m\u001b[0m\n\u001b[0;32m----> 2\u001b[0;31m \u001b[0mprint\u001b[0m\u001b[0;34m(\u001b[0m\u001b[0;34m(\u001b[0m\u001b[0mA\u001b[0m\u001b[0;34m*\u001b[0m\u001b[0mb\u001b[0m\u001b[0;34m)\u001b[0m\u001b[0;34m+\u001b[0m\u001b[0;34m(\u001b[0m\u001b[0mA\u001b[0m\u001b[0;34m*\u001b[0m\u001b[0mc\u001b[0m\u001b[0;34m)\u001b[0m\u001b[0;34m)\u001b[0m\u001b[0;34m\u001b[0m\u001b[0;34m\u001b[0m\u001b[0m\n\u001b[0m\u001b[1;32m      3\u001b[0m \u001b[0;34m(\u001b[0m\u001b[0mA\u001b[0m\u001b[0;34m*\u001b[0m\u001b[0mb\u001b[0m\u001b[0;34m)\u001b[0m\u001b[0;34m+\u001b[0m\u001b[0;34m(\u001b[0m\u001b[0mA\u001b[0m\u001b[0;34m*\u001b[0m\u001b[0mc\u001b[0m\u001b[0;34m)\u001b[0m\u001b[0;34m\u001b[0m\u001b[0;34m\u001b[0m\u001b[0m\n",
            "\u001b[0;32m/usr/local/lib/python3.10/dist-packages/nacal/nacal.py\u001b[0m in \u001b[0;36m__mul__\u001b[0;34m(self, x)\u001b[0m\n\u001b[1;32m    714\u001b[0m         \u001b[0;32melif\u001b[0m \u001b[0misinstance\u001b[0m\u001b[0;34m(\u001b[0m\u001b[0mx\u001b[0m\u001b[0;34m,\u001b[0m \u001b[0mVector\u001b[0m\u001b[0;34m)\u001b[0m\u001b[0;34m:\u001b[0m\u001b[0;34m\u001b[0m\u001b[0;34m\u001b[0m\u001b[0m\n\u001b[1;32m    715\u001b[0m             \u001b[0;32mif\u001b[0m \u001b[0mlen\u001b[0m\u001b[0;34m(\u001b[0m\u001b[0mself\u001b[0m\u001b[0;34m)\u001b[0m \u001b[0;34m!=\u001b[0m \u001b[0mx\u001b[0m\u001b[0;34m.\u001b[0m\u001b[0mn\u001b[0m\u001b[0;34m:\u001b[0m\u001b[0;34m\u001b[0m\u001b[0;34m\u001b[0m\u001b[0m\n\u001b[0;32m--> 716\u001b[0;31m                 \u001b[0;32mraise\u001b[0m \u001b[0mValueError\u001b[0m\u001b[0;34m(\u001b[0m\u001b[0;34m'Sistema y Vector incompatibles'\u001b[0m\u001b[0;34m)\u001b[0m\u001b[0;34m\u001b[0m\u001b[0;34m\u001b[0m\u001b[0m\n\u001b[0m\u001b[1;32m    717\u001b[0m             \u001b[0;32mif\u001b[0m \u001b[0mself\u001b[0m\u001b[0;34m.\u001b[0m\u001b[0mes_arreglo_rectangular\u001b[0m\u001b[0;34m(\u001b[0m\u001b[0;34m)\u001b[0m\u001b[0;34m:\u001b[0m\u001b[0;34m\u001b[0m\u001b[0;34m\u001b[0m\u001b[0m\n\u001b[1;32m    718\u001b[0m                 \u001b[0;32mif\u001b[0m \u001b[0;32mnot\u001b[0m \u001b[0mall\u001b[0m\u001b[0;34m(\u001b[0m\u001b[0;34m[\u001b[0m\u001b[0mf\u001b[0m\u001b[0;34m.\u001b[0m\u001b[0mes_de_composicion_y_longitud_uniforme\u001b[0m\u001b[0;34m(\u001b[0m\u001b[0;34m)\u001b[0m \u001b[0;32mfor\u001b[0m \u001b[0mf\u001b[0m \u001b[0;32min\u001b[0m \u001b[0;34m~\u001b[0m\u001b[0mBlockM\u001b[0m\u001b[0;34m(\u001b[0m\u001b[0;34m[\u001b[0m\u001b[0mBlockV\u001b[0m\u001b[0;34m(\u001b[0m\u001b[0;34m[\u001b[0m\u001b[0mi\u001b[0m\u001b[0;34m]\u001b[0m\u001b[0;34m)\u001b[0m \u001b[0;32mfor\u001b[0m \u001b[0mi\u001b[0m \u001b[0;32min\u001b[0m \u001b[0mself\u001b[0m\u001b[0;34m]\u001b[0m\u001b[0;34m)\u001b[0m\u001b[0;34m]\u001b[0m\u001b[0;34m)\u001b[0m\u001b[0;34m:\u001b[0m\u001b[0;34m\u001b[0m\u001b[0;34m\u001b[0m\u001b[0m\n",
            "\u001b[0;31mValueError\u001b[0m: Sistema y Vector incompatibles"
          ]
        }
      ]
    },
    {
      "cell_type": "markdown",
      "source": [
        "### Ejercicio 5"
      ],
      "metadata": {
        "id": "XK_4BhAxHBnt"
      }
    },
    {
      "cell_type": "markdown",
      "source": [
        "Decida un valor para el escalar $\\lambda$ y verifique que\n",
        "$$ A(\\lambda{b}) = \\lambda(A{b})$$"
      ],
      "metadata": {
        "id": "i5m9YbQOHEH9"
      }
    },
    {
      "cell_type": "code",
      "source": [
        "# escriba aquí la parte izquierda de la ecuación\n",
        "print(A*(2*b))"
      ],
      "metadata": {
        "colab": {
          "base_uri": "https://localhost:8080/",
          "height": 297
        },
        "id": "b-CU4CU4HHzY",
        "outputId": "6d710d07-df96-4516-cca0-9af39217cef1"
      },
      "execution_count": 19,
      "outputs": [
        {
          "output_type": "error",
          "ename": "ValueError",
          "evalue": "Sistema y Vector incompatibles",
          "traceback": [
            "\u001b[0;31m---------------------------------------------------------------------------\u001b[0m",
            "\u001b[0;31mValueError\u001b[0m                                Traceback (most recent call last)",
            "\u001b[0;32m<ipython-input-19-236b067de062>\u001b[0m in \u001b[0;36m<cell line: 2>\u001b[0;34m()\u001b[0m\n\u001b[1;32m      1\u001b[0m \u001b[0;31m# escriba aquí la parte izquierda de la ecuación\u001b[0m\u001b[0;34m\u001b[0m\u001b[0;34m\u001b[0m\u001b[0m\n\u001b[0;32m----> 2\u001b[0;31m \u001b[0mprint\u001b[0m\u001b[0;34m(\u001b[0m\u001b[0mA\u001b[0m\u001b[0;34m*\u001b[0m\u001b[0;34m(\u001b[0m\u001b[0;36m2\u001b[0m\u001b[0;34m*\u001b[0m\u001b[0mb\u001b[0m\u001b[0;34m)\u001b[0m\u001b[0;34m)\u001b[0m\u001b[0;34m\u001b[0m\u001b[0;34m\u001b[0m\u001b[0m\n\u001b[0m",
            "\u001b[0;32m/usr/local/lib/python3.10/dist-packages/nacal/nacal.py\u001b[0m in \u001b[0;36m__mul__\u001b[0;34m(self, x)\u001b[0m\n\u001b[1;32m    714\u001b[0m         \u001b[0;32melif\u001b[0m \u001b[0misinstance\u001b[0m\u001b[0;34m(\u001b[0m\u001b[0mx\u001b[0m\u001b[0;34m,\u001b[0m \u001b[0mVector\u001b[0m\u001b[0;34m)\u001b[0m\u001b[0;34m:\u001b[0m\u001b[0;34m\u001b[0m\u001b[0;34m\u001b[0m\u001b[0m\n\u001b[1;32m    715\u001b[0m             \u001b[0;32mif\u001b[0m \u001b[0mlen\u001b[0m\u001b[0;34m(\u001b[0m\u001b[0mself\u001b[0m\u001b[0;34m)\u001b[0m \u001b[0;34m!=\u001b[0m \u001b[0mx\u001b[0m\u001b[0;34m.\u001b[0m\u001b[0mn\u001b[0m\u001b[0;34m:\u001b[0m\u001b[0;34m\u001b[0m\u001b[0;34m\u001b[0m\u001b[0m\n\u001b[0;32m--> 716\u001b[0;31m                 \u001b[0;32mraise\u001b[0m \u001b[0mValueError\u001b[0m\u001b[0;34m(\u001b[0m\u001b[0;34m'Sistema y Vector incompatibles'\u001b[0m\u001b[0;34m)\u001b[0m\u001b[0;34m\u001b[0m\u001b[0;34m\u001b[0m\u001b[0m\n\u001b[0m\u001b[1;32m    717\u001b[0m             \u001b[0;32mif\u001b[0m \u001b[0mself\u001b[0m\u001b[0;34m.\u001b[0m\u001b[0mes_arreglo_rectangular\u001b[0m\u001b[0;34m(\u001b[0m\u001b[0;34m)\u001b[0m\u001b[0;34m:\u001b[0m\u001b[0;34m\u001b[0m\u001b[0;34m\u001b[0m\u001b[0m\n\u001b[1;32m    718\u001b[0m                 \u001b[0;32mif\u001b[0m \u001b[0;32mnot\u001b[0m \u001b[0mall\u001b[0m\u001b[0;34m(\u001b[0m\u001b[0;34m[\u001b[0m\u001b[0mf\u001b[0m\u001b[0;34m.\u001b[0m\u001b[0mes_de_composicion_y_longitud_uniforme\u001b[0m\u001b[0;34m(\u001b[0m\u001b[0;34m)\u001b[0m \u001b[0;32mfor\u001b[0m \u001b[0mf\u001b[0m \u001b[0;32min\u001b[0m \u001b[0;34m~\u001b[0m\u001b[0mBlockM\u001b[0m\u001b[0;34m(\u001b[0m\u001b[0;34m[\u001b[0m\u001b[0mBlockV\u001b[0m\u001b[0;34m(\u001b[0m\u001b[0;34m[\u001b[0m\u001b[0mi\u001b[0m\u001b[0;34m]\u001b[0m\u001b[0;34m)\u001b[0m \u001b[0;32mfor\u001b[0m \u001b[0mi\u001b[0m \u001b[0;32min\u001b[0m \u001b[0mself\u001b[0m\u001b[0;34m]\u001b[0m\u001b[0;34m)\u001b[0m\u001b[0;34m]\u001b[0m\u001b[0;34m)\u001b[0m\u001b[0;34m:\u001b[0m\u001b[0;34m\u001b[0m\u001b[0;34m\u001b[0m\u001b[0m\n",
            "\u001b[0;31mValueError\u001b[0m: Sistema y Vector incompatibles"
          ]
        }
      ]
    },
    {
      "cell_type": "markdown",
      "source": [
        "Verifique que\n",
        "$$ A(\\lambda{b}) = (\\lambda A){b}$$"
      ],
      "metadata": {
        "id": "Y_c4wKlaHQ8u"
      }
    },
    {
      "cell_type": "code",
      "source": [
        "# escriba aquí la parte derecha de la ecuación\n",
        "print(2*(A*b))"
      ],
      "metadata": {
        "id": "930SzoXwHR2l"
      },
      "execution_count": null,
      "outputs": []
    },
    {
      "cell_type": "markdown",
      "source": [
        "Compuebe que en este caso no son necesarios los paréntesis:\n",
        "$$\\lambda A{b}\\;$$ (aunque en Python siempre necesite\n",
        "escribir los símbolos de producto `*`). Pruebe a colocar el escalar en\n",
        "cualquier posición, pero mantenga la matriz a la izquierda del vector."
      ],
      "metadata": {
        "id": "sQhXl3agHTWf"
      }
    },
    {
      "cell_type": "code",
      "source": [
        "# Por ejemplo 3*A*b, o A*3*b, o A*b*3\n",
        "print(3*A*b)"
      ],
      "metadata": {
        "id": "Q2GbWSTBHVkz"
      },
      "execution_count": null,
      "outputs": []
    },
    {
      "cell_type": "markdown",
      "source": [
        "### Ejercicio 6"
      ],
      "metadata": {
        "id": "8wPF5ZZYHXld"
      }
    },
    {
      "cell_type": "markdown",
      "source": [
        "Genere una matriz ${B}$ del mismo orden que $A$\n",
        "\n",
        "*   List item\n",
        "*   List item"
      ],
      "metadata": {
        "id": "KgxIGw6OHd3c"
      }
    },
    {
      "cell_type": "code",
      "source": [
        "i = Vector ([30,31,32])\n",
        "o = Vector ([33,34,35])\n",
        "p = Vector ([36,37,38])\n",
        "B = Matrix ([i,o,p])\n",
        "print(B)\n",
        "B"
      ],
      "metadata": {
        "colab": {
          "base_uri": "https://localhost:8080/",
          "height": 98
        },
        "id": "KE8nPHA3HgDx",
        "outputId": "feea074b-52e1-4a65-f271-de67146f40ab"
      },
      "execution_count": 21,
      "outputs": [
        {
          "output_type": "stream",
          "name": "stdout",
          "text": [
            "|30 33 36|\n",
            "|31 34 37|\n",
            "|32 35 38|\n"
          ]
        },
        {
          "output_type": "execute_result",
          "data": {
            "text/plain": [
              "Matrix([Vector([30, 31, 32]), Vector([33, 34, 35]), Vector([36, 37, 38])])"
            ],
            "text/html": [
              "<p style=\"text-align:center;\">$\\left[ \\begin{array}{ccc}30&33&36\\\\31&34&37\\\\32&35&38\\\\ \\end{array} \\right]$</p>"
            ],
            "image/png": "$\\left[ \\begin{array}{ccc}30&33&36\\\\31&34&37\\\\32&35&38\\\\ \\end{array} \\right]$",
            "text/latex": "$\\left[ \\begin{array}{ccc}30&33&36\\\\31&34&37\\\\32&35&38\\\\ \\end{array} \\right]$"
          },
          "metadata": {},
          "execution_count": 21
        }
      ]
    },
    {
      "cell_type": "markdown",
      "source": [
        "$\\left[ \\begin{array}{ccc}30&33&36\\\\31&34&37\\\\32&35&38\\\\ \\end{array} \\right]$"
      ],
      "metadata": {
        "id": "R8F64g5JHm-n"
      }
    },
    {
      "cell_type": "markdown",
      "source": [
        "Verifique que\n",
        "\n",
        "$$ (A+B){c} = A{c} + B{c}$$"
      ],
      "metadata": {
        "id": "DqhMaL6nHxnB"
      }
    },
    {
      "cell_type": "code",
      "source": [
        "# escriba aquí la parte izquierda de la ecuación (¿funciona sin paréntesis?)\n",
        "print(A+B*c)"
      ],
      "metadata": {
        "colab": {
          "base_uri": "https://localhost:8080/",
          "height": 280
        },
        "id": "YYiPQMOnHzL3",
        "outputId": "0c170223-566c-49a8-a2e5-97b4c67bc560"
      },
      "execution_count": 22,
      "outputs": [
        {
          "output_type": "error",
          "ename": "ValueError",
          "evalue": "Solo se suman Sistemas del mismo tipo y misma longitud",
          "traceback": [
            "\u001b[0;31m---------------------------------------------------------------------------\u001b[0m",
            "\u001b[0;31mValueError\u001b[0m                                Traceback (most recent call last)",
            "\u001b[0;32m<ipython-input-22-d72de3cb6231>\u001b[0m in \u001b[0;36m<cell line: 2>\u001b[0;34m()\u001b[0m\n\u001b[1;32m      1\u001b[0m \u001b[0;31m# escriba aquí la parte izquierda de la ecuación (¿funciona sin paréntesis?)\u001b[0m\u001b[0;34m\u001b[0m\u001b[0;34m\u001b[0m\u001b[0m\n\u001b[0;32m----> 2\u001b[0;31m \u001b[0mprint\u001b[0m\u001b[0;34m(\u001b[0m\u001b[0mA\u001b[0m\u001b[0;34m+\u001b[0m\u001b[0mB\u001b[0m\u001b[0;34m*\u001b[0m\u001b[0mc\u001b[0m\u001b[0;34m)\u001b[0m\u001b[0;34m\u001b[0m\u001b[0;34m\u001b[0m\u001b[0m\n\u001b[0m",
            "\u001b[0;32m/usr/local/lib/python3.10/dist-packages/nacal/nacal.py\u001b[0m in \u001b[0;36m__add__\u001b[0;34m(self, other)\u001b[0m\n\u001b[1;32m    614\u001b[0m \u001b[0;34m\u001b[0m\u001b[0m\n\u001b[1;32m    615\u001b[0m         \u001b[0;32mif\u001b[0m \u001b[0;32mnot\u001b[0m \u001b[0mtype\u001b[0m\u001b[0;34m(\u001b[0m\u001b[0mself\u001b[0m\u001b[0;34m)\u001b[0m\u001b[0;34m==\u001b[0m\u001b[0mtype\u001b[0m\u001b[0;34m(\u001b[0m\u001b[0mother\u001b[0m\u001b[0;34m)\u001b[0m \u001b[0;32mor\u001b[0m \u001b[0;32mnot\u001b[0m \u001b[0mlen\u001b[0m\u001b[0;34m(\u001b[0m\u001b[0mself\u001b[0m\u001b[0;34m)\u001b[0m\u001b[0;34m==\u001b[0m\u001b[0mlen\u001b[0m\u001b[0;34m(\u001b[0m\u001b[0mother\u001b[0m\u001b[0;34m)\u001b[0m\u001b[0;34m:\u001b[0m\u001b[0;34m\u001b[0m\u001b[0;34m\u001b[0m\u001b[0m\n\u001b[0;32m--> 616\u001b[0;31m             \u001b[0;32mraise\u001b[0m \u001b[0mValueError\u001b[0m \u001b[0;34m(\u001b[0m\u001b[0;34m'Solo se suman Sistemas del mismo tipo y misma longitud'\u001b[0m\u001b[0;34m)\u001b[0m\u001b[0;34m\u001b[0m\u001b[0;34m\u001b[0m\u001b[0m\n\u001b[0m\u001b[1;32m    617\u001b[0m         \u001b[0msuma\u001b[0m \u001b[0;34m=\u001b[0m \u001b[0mself\u001b[0m\u001b[0;34m.\u001b[0m\u001b[0mfullcopy\u001b[0m\u001b[0;34m(\u001b[0m\u001b[0;34m)\u001b[0m\u001b[0;34m\u001b[0m\u001b[0;34m\u001b[0m\u001b[0m\n\u001b[1;32m    618\u001b[0m         \u001b[0msuma\u001b[0m\u001b[0;34m.\u001b[0m\u001b[0mlista\u001b[0m \u001b[0;34m=\u001b[0m \u001b[0;34m[\u001b[0m \u001b[0;34m(\u001b[0m\u001b[0mself\u001b[0m\u001b[0;34m|\u001b[0m\u001b[0mi\u001b[0m\u001b[0;34m)\u001b[0m \u001b[0;34m+\u001b[0m \u001b[0;34m(\u001b[0m\u001b[0mother\u001b[0m\u001b[0;34m|\u001b[0m\u001b[0mi\u001b[0m\u001b[0;34m)\u001b[0m \u001b[0;32mfor\u001b[0m \u001b[0mi\u001b[0m \u001b[0;32min\u001b[0m \u001b[0mrange\u001b[0m\u001b[0;34m(\u001b[0m\u001b[0;36m1\u001b[0m\u001b[0;34m,\u001b[0m\u001b[0mlen\u001b[0m\u001b[0;34m(\u001b[0m\u001b[0mself\u001b[0m\u001b[0;34m)\u001b[0m\u001b[0;34m+\u001b[0m\u001b[0;36m1\u001b[0m\u001b[0;34m)\u001b[0m \u001b[0;34m]\u001b[0m\u001b[0;34m\u001b[0m\u001b[0;34m\u001b[0m\u001b[0m\n",
            "\u001b[0;31mValueError\u001b[0m: Solo se suman Sistemas del mismo tipo y misma longitud"
          ]
        }
      ]
    },
    {
      "cell_type": "code",
      "source": [
        "# escriba aquí la parte derecha de la ecuación\n",
        "print(A*c+A*b)"
      ],
      "metadata": {
        "id": "9yblYbRxH1Zp"
      },
      "execution_count": null,
      "outputs": []
    },
    {
      "cell_type": "markdown",
      "source": [
        "# Dos propiedades de la transposición\n",
        "\n",
        "Recuerde que `~A` es la transpuesta de `A`.\n",
        "\n",
        "Verfique que\n",
        "$$\n",
        "(A+B)^T=A^{T}+B^{T}\n",
        "$$"
      ],
      "metadata": {
        "id": "t1jjD_4hH22K"
      }
    },
    {
      "cell_type": "code",
      "source": [
        "# escriba aquí la parte izquierda de la ecuación: ~(A + B)\n",
        "print(~(A+B))"
      ],
      "metadata": {
        "colab": {
          "base_uri": "https://localhost:8080/"
        },
        "id": "HmJTezkTH46S",
        "outputId": "c0478cfc-c32f-4826-cb30-ceb62ffc00a5"
      },
      "execution_count": 23,
      "outputs": [
        {
          "output_type": "stream",
          "name": "stdout",
          "text": [
            "|31 33 35|\n",
            "|37 39 41|\n",
            "|43 45 47|\n"
          ]
        }
      ]
    },
    {
      "cell_type": "code",
      "source": [
        "# escriba aquí la parte derecha de la ecuación\n",
        "print(~A+~B)"
      ],
      "metadata": {
        "colab": {
          "base_uri": "https://localhost:8080/"
        },
        "id": "UAAekQU9H70e",
        "outputId": "22f5d65c-ef36-49cf-ef40-2f3bf0212d2f"
      },
      "execution_count": 24,
      "outputs": [
        {
          "output_type": "stream",
          "name": "stdout",
          "text": [
            "|31 33 35|\n",
            "|37 39 41|\n",
            "|43 45 47|\n"
          ]
        }
      ]
    },
    {
      "cell_type": "markdown",
      "source": [
        "¿Necesitamos usar paréntesis para el lado izquierdo? ¿Y para el derecho?"
      ],
      "metadata": {
        "id": "yxMcDkAzH88y"
      }
    },
    {
      "cell_type": "markdown",
      "source": [
        "Decida un valor para  λ  y verfique que\n",
        "(λA)T=λ(AT)"
      ],
      "metadata": {
        "id": "ZHErhbRJH-hx"
      }
    },
    {
      "cell_type": "code",
      "source": [
        "# escriba aquí la parte izquierda de la ecuación:\n",
        "print(3*~A)"
      ],
      "metadata": {
        "colab": {
          "base_uri": "https://localhost:8080/"
        },
        "id": "mdU8XN83IAGz",
        "outputId": "d385f17c-07a9-442d-ac84-095e142b204e"
      },
      "execution_count": 25,
      "outputs": [
        {
          "output_type": "stream",
          "name": "stdout",
          "text": [
            "| 3  6  9|\n",
            "|12 15 18|\n",
            "|21 24 27|\n"
          ]
        }
      ]
    },
    {
      "cell_type": "code",
      "source": [
        "# escriba aquí la parte derecha de la ecuación\n",
        "print(3*(~A))"
      ],
      "metadata": {
        "colab": {
          "base_uri": "https://localhost:8080/"
        },
        "id": "MaBHnmIlIBkF",
        "outputId": "3cce68d8-4af6-49f5-cd72-ad4e8310703c"
      },
      "execution_count": 26,
      "outputs": [
        {
          "output_type": "stream",
          "name": "stdout",
          "text": [
            "| 3  6  9|\n",
            "|12 15 18|\n",
            "|21 24 27|\n"
          ]
        }
      ]
    }
  ]
}