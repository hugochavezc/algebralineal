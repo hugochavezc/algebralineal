{
  "nbformat": 4,
  "nbformat_minor": 0,
  "metadata": {
    "colab": {
      "provenance": []
    },
    "kernelspec": {
      "name": "python3",
      "display_name": "Python 3"
    },
    "language_info": {
      "name": "python"
    }
  },
  "cells": [
    {
      "cell_type": "code",
      "execution_count": 1,
      "metadata": {
        "colab": {
          "base_uri": "https://localhost:8080/"
        },
        "id": "_vkuEGLRb_8I",
        "outputId": "bd103738-8d3a-4dcf-d4e1-f804a3d38d99"
      },
      "outputs": [
        {
          "output_type": "stream",
          "name": "stdout",
          "text": [
            "Drive already mounted at /content/drive; to attempt to forcibly remount, call drive.mount(\"/content/drive\", force_remount=True).\n",
            "Collecting nacal\n",
            "  Using cached nacal-0.2.1-py3-none-any.whl (40 kB)\n",
            "Collecting sympy>=1.1.0 (from nacal)\n",
            "  Using cached sympy-1.12.1-py3-none-any.whl (5.7 MB)\n",
            "Collecting mpmath<1.4.0,>=1.1.0 (from sympy>=1.1.0->nacal)\n",
            "  Using cached mpmath-1.3.0-py3-none-any.whl (536 kB)\n",
            "Installing collected packages: mpmath, sympy, nacal\n",
            "\u001b[31mERROR: pip's dependency resolver does not currently take into account all the packages that are installed. This behaviour is the source of the following dependency conflicts.\n",
            "torch 2.3.0+cu121 requires nvidia-cublas-cu12==12.1.3.1; platform_system == \"Linux\" and platform_machine == \"x86_64\", which is not installed.\n",
            "torch 2.3.0+cu121 requires nvidia-cuda-cupti-cu12==12.1.105; platform_system == \"Linux\" and platform_machine == \"x86_64\", which is not installed.\n",
            "torch 2.3.0+cu121 requires nvidia-cuda-nvrtc-cu12==12.1.105; platform_system == \"Linux\" and platform_machine == \"x86_64\", which is not installed.\n",
            "torch 2.3.0+cu121 requires nvidia-cuda-runtime-cu12==12.1.105; platform_system == \"Linux\" and platform_machine == \"x86_64\", which is not installed.\n",
            "torch 2.3.0+cu121 requires nvidia-cudnn-cu12==8.9.2.26; platform_system == \"Linux\" and platform_machine == \"x86_64\", which is not installed.\n",
            "torch 2.3.0+cu121 requires nvidia-cufft-cu12==11.0.2.54; platform_system == \"Linux\" and platform_machine == \"x86_64\", which is not installed.\n",
            "torch 2.3.0+cu121 requires nvidia-curand-cu12==10.3.2.106; platform_system == \"Linux\" and platform_machine == \"x86_64\", which is not installed.\n",
            "torch 2.3.0+cu121 requires nvidia-cusolver-cu12==11.4.5.107; platform_system == \"Linux\" and platform_machine == \"x86_64\", which is not installed.\n",
            "torch 2.3.0+cu121 requires nvidia-cusparse-cu12==12.1.0.106; platform_system == \"Linux\" and platform_machine == \"x86_64\", which is not installed.\n",
            "torch 2.3.0+cu121 requires nvidia-nccl-cu12==2.20.5; platform_system == \"Linux\" and platform_machine == \"x86_64\", which is not installed.\n",
            "torch 2.3.0+cu121 requires nvidia-nvtx-cu12==12.1.105; platform_system == \"Linux\" and platform_machine == \"x86_64\", which is not installed.\u001b[0m\u001b[31m\n",
            "\u001b[0mSuccessfully installed mpmath-1.3.0 nacal-0.2.1 sympy-1.12.1\n",
            "\u001b[33mWARNING: Target directory /content/notebooks/mpmath already exists. Specify --upgrade to force replacement.\u001b[0m\u001b[33m\n",
            "\u001b[0m\u001b[33mWARNING: Target directory /content/notebooks/mpmath-1.3.0.dist-info already exists. Specify --upgrade to force replacement.\u001b[0m\u001b[33m\n",
            "\u001b[0m\u001b[33mWARNING: Target directory /content/notebooks/isympy.py already exists. Specify --upgrade to force replacement.\u001b[0m\u001b[33m\n",
            "\u001b[0m\u001b[33mWARNING: Target directory /content/notebooks/nacal-0.2.1.dist-info already exists. Specify --upgrade to force replacement.\u001b[0m\u001b[33m\n",
            "\u001b[0m\u001b[33mWARNING: Target directory /content/notebooks/sympy-1.12.1.dist-info already exists. Specify --upgrade to force replacement.\u001b[0m\u001b[33m\n",
            "\u001b[0m\u001b[33mWARNING: Target directory /content/notebooks/nacal already exists. Specify --upgrade to force replacement.\u001b[0m\u001b[33m\n",
            "\u001b[0m\u001b[33mWARNING: Target directory /content/notebooks/sympy already exists. Specify --upgrade to force replacement.\u001b[0m\u001b[33m\n",
            "\u001b[0m\u001b[33mWARNING: Target directory /content/notebooks/__pycache__ already exists. Specify --upgrade to force replacement.\u001b[0m\u001b[33m\n",
            "\u001b[0m\u001b[33mWARNING: Target directory /content/notebooks/share already exists. Specify --upgrade to force replacement.\u001b[0m\u001b[33m\n",
            "\u001b[0m\u001b[33mWARNING: Target directory /content/notebooks/bin already exists. Specify --upgrade to force replacement.\u001b[0m\u001b[33m\n",
            "\u001b[0m"
          ]
        }
      ],
      "source": [
        "import os, sys\n",
        "from google.colab import drive\n",
        "drive.mount('/content/drive')\n",
        "nb_path = '/content/notebooks'\n",
        "# Check if the target directory exists before creating the symlink\n",
        "if not os.path.exists(nb_path):\n",
        "  os.symlink('/content/drive/My Drive/Colab Notebooks', nb_path)\n",
        "sys.path.insert(0,nb_path)\n",
        "!pip install --target=$nb_path nacal"
      ]
    },
    {
      "cell_type": "markdown",
      "source": [
        "Tarea 1 preguntas pagina 8 y 9 del libro"
      ],
      "metadata": {
        "id": "hwykIiJAc9nT"
      }
    },
    {
      "cell_type": "code",
      "source": [
        "from nacal import *\n",
        "from IPython.display import display, Math, Latex\n",
        "b = Vector( [0, 4, 6] )\n",
        "print(2*b)\n",
        "latex(2*b)"
      ],
      "metadata": {
        "colab": {
          "base_uri": "https://localhost:8080/",
          "height": 53
        },
        "id": "ZoxXEVSkeBlJ",
        "outputId": "f7721fb3-c1ac-4f14-fccc-124e31a88c3e"
      },
      "execution_count": 2,
      "outputs": [
        {
          "output_type": "stream",
          "name": "stdout",
          "text": [
            "(0, 8, 12,)\n"
          ]
        },
        {
          "output_type": "execute_result",
          "data": {
            "text/plain": [
              "'\\\\begin{pmatrix}0\\\\\\\\ 8\\\\\\\\ 12\\\\end{pmatrix}'"
            ],
            "application/vnd.google.colaboratory.intrinsic+json": {
              "type": "string"
            }
          },
          "metadata": {},
          "execution_count": 2
        }
      ]
    },
    {
      "cell_type": "markdown",
      "source": [
        "Pregunta 1"
      ],
      "metadata": {
        "id": "kjDqtp_YeMeN"
      }
    },
    {
      "cell_type": "code",
      "source": [
        "a = Vector( [1, 2, 3] )\n",
        "b = Vector( [4, 5, 6] )\n",
        "latex(a+b)\n",
        "latex(b+a)"
      ],
      "metadata": {
        "colab": {
          "base_uri": "https://localhost:8080/",
          "height": 35
        },
        "id": "c4BkuQhOeWE_",
        "outputId": "bb07fc3c-886e-4575-f0af-2b0e70ba908d"
      },
      "execution_count": 3,
      "outputs": [
        {
          "output_type": "execute_result",
          "data": {
            "text/plain": [
              "'\\\\begin{pmatrix}5\\\\\\\\ 7\\\\\\\\ 9\\\\end{pmatrix}'"
            ],
            "application/vnd.google.colaboratory.intrinsic+json": {
              "type": "string"
            }
          },
          "metadata": {},
          "execution_count": 3
        }
      ]
    },
    {
      "cell_type": "markdown",
      "source": [
        "Pregunta 2"
      ],
      "metadata": {
        "id": "o8N3PxYZergS"
      }
    },
    {
      "cell_type": "code",
      "source": [
        "a=Vector([1,2])\n",
        "b=Vector([4,5])\n",
        "c=Vector([1,0])\n",
        "latex(a+(b+c))\n",
        "latex((a+b)+c)"
      ],
      "metadata": {
        "colab": {
          "base_uri": "https://localhost:8080/",
          "height": 35
        },
        "id": "ZNiJ9ajget2i",
        "outputId": "aa755258-db08-47b1-e14a-b0810b975bec"
      },
      "execution_count": 4,
      "outputs": [
        {
          "output_type": "execute_result",
          "data": {
            "text/plain": [
              "'\\\\begin{pmatrix}6\\\\\\\\ 7\\\\end{pmatrix}'"
            ],
            "application/vnd.google.colaboratory.intrinsic+json": {
              "type": "string"
            }
          },
          "metadata": {},
          "execution_count": 4
        }
      ]
    },
    {
      "cell_type": "markdown",
      "source": [
        "pregunta 3"
      ],
      "metadata": {
        "id": "_tWDZq8bew05"
      }
    },
    {
      "cell_type": "code",
      "source": [
        "a=Vector([4,5,6])\n",
        "b=Vector([7,8,9])\n",
        "c=Vector([0,0,0])\n",
        "latex(a+c)\n",
        "latex(b+c)"
      ],
      "metadata": {
        "colab": {
          "base_uri": "https://localhost:8080/",
          "height": 35
        },
        "id": "RxV8MjnPey1b",
        "outputId": "00e90fa7-29cb-490a-937d-da7406916a3b"
      },
      "execution_count": 5,
      "outputs": [
        {
          "output_type": "execute_result",
          "data": {
            "text/plain": [
              "'\\\\begin{pmatrix}7\\\\\\\\ 8\\\\\\\\ 9\\\\end{pmatrix}'"
            ],
            "application/vnd.google.colaboratory.intrinsic+json": {
              "type": "string"
            }
          },
          "metadata": {},
          "execution_count": 5
        }
      ]
    },
    {
      "cell_type": "markdown",
      "source": [
        "Pregunta 4\n"
      ],
      "metadata": {
        "id": "J14Ek8NSe0JW"
      }
    },
    {
      "cell_type": "code",
      "source": [
        "a=Vector([4,5,6])\n",
        "b=Vector([-4,-5,-6])\n",
        "latex(a+b)"
      ],
      "metadata": {
        "colab": {
          "base_uri": "https://localhost:8080/",
          "height": 35
        },
        "id": "MrI2_5lJe2yT",
        "outputId": "821e4703-e02f-45e1-f9be-ce0bbf599ab8"
      },
      "execution_count": 6,
      "outputs": [
        {
          "output_type": "execute_result",
          "data": {
            "text/plain": [
              "'\\\\begin{pmatrix}0\\\\\\\\ 0\\\\\\\\ 0\\\\end{pmatrix}'"
            ],
            "application/vnd.google.colaboratory.intrinsic+json": {
              "type": "string"
            }
          },
          "metadata": {},
          "execution_count": 6
        }
      ]
    },
    {
      "cell_type": "markdown",
      "source": [
        "Pregunta 5"
      ],
      "metadata": {
        "id": "a3eGUH5te4xQ"
      }
    },
    {
      "cell_type": "code",
      "source": [
        "a=Vector([1,-1])\n",
        "b=Vector([4,5])\n",
        "latex(2*(a+b))\n",
        "latex((2*a)+(2*b))"
      ],
      "metadata": {
        "colab": {
          "base_uri": "https://localhost:8080/",
          "height": 35
        },
        "id": "WH9aJtjce6gX",
        "outputId": "e389a7c5-6d89-4043-91ba-2b89636677d4"
      },
      "execution_count": 7,
      "outputs": [
        {
          "output_type": "execute_result",
          "data": {
            "text/plain": [
              "'\\\\begin{pmatrix}10\\\\\\\\ 8\\\\end{pmatrix}'"
            ],
            "application/vnd.google.colaboratory.intrinsic+json": {
              "type": "string"
            }
          },
          "metadata": {},
          "execution_count": 7
        }
      ]
    },
    {
      "cell_type": "markdown",
      "source": [
        "Pregunta 6"
      ],
      "metadata": {
        "id": "uRVl-EZzfBxN"
      }
    },
    {
      "cell_type": "code",
      "source": [
        "a=Vector([1,2,3])\n",
        "latex((2+3)*a)\n",
        "latex((2*a)+(3*a))"
      ],
      "metadata": {
        "colab": {
          "base_uri": "https://localhost:8080/",
          "height": 35
        },
        "id": "4v1XaK5efFW3",
        "outputId": "b8657477-d1ad-43ed-9a6a-a9d347b0828f"
      },
      "execution_count": 8,
      "outputs": [
        {
          "output_type": "execute_result",
          "data": {
            "text/plain": [
              "'\\\\begin{pmatrix}5\\\\\\\\ 10\\\\\\\\ 15\\\\end{pmatrix}'"
            ],
            "application/vnd.google.colaboratory.intrinsic+json": {
              "type": "string"
            }
          },
          "metadata": {},
          "execution_count": 8
        }
      ]
    },
    {
      "cell_type": "markdown",
      "source": [
        "Pregunta 7"
      ],
      "metadata": {
        "id": "HxaRV9g4fG63"
      }
    },
    {
      "cell_type": "code",
      "source": [
        "a=Vector([1,2])\n",
        "latex((2*(3*a)))\n",
        "latex((2*3)*a)"
      ],
      "metadata": {
        "id": "B_5z3GMHfK_p",
        "colab": {
          "base_uri": "https://localhost:8080/",
          "height": 35
        },
        "outputId": "bdce7544-8d6b-4b12-9b39-620105bfd556"
      },
      "execution_count": 9,
      "outputs": [
        {
          "output_type": "execute_result",
          "data": {
            "text/plain": [
              "'\\\\begin{pmatrix}6\\\\\\\\ 12\\\\end{pmatrix}'"
            ],
            "application/vnd.google.colaboratory.intrinsic+json": {
              "type": "string"
            }
          },
          "metadata": {},
          "execution_count": 9
        }
      ]
    },
    {
      "cell_type": "markdown",
      "source": [
        "Pregunta 8"
      ],
      "metadata": {
        "id": "JBnDQGwhfP4a"
      }
    },
    {
      "cell_type": "code",
      "source": [
        "a=Vector([1,2,3])\n",
        "latex(1*a)"
      ],
      "metadata": {
        "id": "P6uafolmfSNx",
        "colab": {
          "base_uri": "https://localhost:8080/",
          "height": 35
        },
        "outputId": "8d7b4b57-148b-4bfa-fec0-5d812672eb76"
      },
      "execution_count": 10,
      "outputs": [
        {
          "output_type": "execute_result",
          "data": {
            "text/plain": [
              "'\\\\begin{pmatrix}1\\\\\\\\ 2\\\\\\\\ 3\\\\end{pmatrix}'"
            ],
            "application/vnd.google.colaboratory.intrinsic+json": {
              "type": "string"
            }
          },
          "metadata": {},
          "execution_count": 10
        }
      ]
    }
  ]
}