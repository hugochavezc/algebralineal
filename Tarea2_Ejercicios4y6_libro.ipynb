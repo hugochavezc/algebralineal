{
  "nbformat": 4,
  "nbformat_minor": 0,
  "metadata": {
    "colab": {
      "provenance": []
    },
    "kernelspec": {
      "name": "python3",
      "display_name": "Python 3"
    },
    "language_info": {
      "name": "python"
    }
  },
  "cells": [
    {
      "cell_type": "markdown",
      "source": [],
      "metadata": {
        "id": "Ryj4NqyTGqFB"
      }
    },
    {
      "cell_type": "code",
      "source": [
        "import os, sys\n",
        "from google.colab import drive\n",
        "drive.mount('/content/drive')\n",
        "nb_path = '/content/notebooks'\n",
        "os.symlink('/content/drive/My Drive/Colab Notebooks', nb_path)\n",
        "sys.path.insert(0,nb_path)\n",
        "\n",
        "\n",
        "!pip install --target=$nb_path nacal"
      ],
      "metadata": {
        "id": "paaMhyXfNSis"
      },
      "execution_count": null,
      "outputs": []
    },
    {
      "cell_type": "code",
      "source": [
        "Mounted at /content/drive\n",
        "Collecting nacal\n",
        "  Downloading nacal-0.1.30-py3-none-any.whl (33 kB)\n",
        "Collecting sympy>=1.1.0 (from nacal)\n",
        "  Downloading sympy-1.12-py3-none-any.whl (5.7 MB)\n",
        "     ━━━━━━━━━━━━━━━━━━━━━━━━━━━━━━━━━━━━━━━━ 5.7/5.7 MB 23.8 MB/s eta 0:00:00\n",
        "Collecting mpmath>=0.19 (from sympy>=1.1.0->nacal)\n",
        "  Downloading mpmath-1.3.0-py3-none-any.whl (536 kB)\n",
        "     ━━━━━━━━━━━━━━━━━━━━━━━━━━━━━━━━━━━━━━━━ 536.2/536.2 kB 38.2 MB/s eta 0:00:00"
      ],
      "metadata": {
        "id": "a0kmHVcwNTf3"
      },
      "execution_count": null,
      "outputs": []
    },
    {
      "cell_type": "markdown",
      "source": [
        "Ejercicio 4.\n",
        "\n",
        "¿Cómo evalúa el módulo NAcAL las siguientes expresiones?\n",
        "\n",
        "(a) 3*b|1\n",
        "\n",
        "(b) 3*1|b\n",
        "\n",
        "(c) 1*3|b\n",
        "\n",
        "(d) 1|b*3"
      ],
      "metadata": {
        "id": "3zIoWWg7Nbnw"
      }
    },
    {
      "cell_type": "code",
      "source": [
        "!pip install --target=$nb_path nacal\n",
        "from nacal import*\n",
        "B = Matrix( ( [1,1,1], [2,4,8], [3,9,0] ) )\n",
        "B"
      ],
      "metadata": {
        "colab": {
          "base_uri": "https://localhost:8080/",
          "height": 150
        },
        "id": "nHvzAaWCNgfb",
        "outputId": "f2d6bf9a-29f4-4d51-81a2-9f44ce2131bb"
      },
      "execution_count": 2,
      "outputs": [
        {
          "output_type": "stream",
          "name": "stdout",
          "text": [
            "Collecting nacal\n",
            "  Downloading nacal-0.1.30-py3-none-any.whl (33 kB)\n",
            "Requirement already satisfied: sympy>=1.1.0 in /usr/local/lib/python3.10/dist-packages (from nacal) (1.12)\n",
            "Requirement already satisfied: mpmath>=0.19 in /usr/local/lib/python3.10/dist-packages (from sympy>=1.1.0->nacal) (1.3.0)\n",
            "Installing collected packages: nacal\n",
            "Successfully installed nacal-0.1.30\n"
          ]
        },
        {
          "output_type": "execute_result",
          "data": {
            "text/plain": [
              "Matrix([Vector([1, 2, 3]), Vector([1, 4, 9]), Vector([1, 8, 0])])"
            ],
            "text/html": [
              "<p style=\"text-align:center;\">$\\left[ \\begin{array}{ccc}1&1&1\\\\2&4&8\\\\3&9&0\\\\ \\end{array} \\right]$</p>"
            ],
            "image/png": "$\\left[ \\begin{array}{ccc}1&1&1\\\\2&4&8\\\\3&9&0\\\\ \\end{array} \\right]$",
            "text/latex": "$\\left[ \\begin{array}{ccc}1&1&1\\\\2&4&8\\\\3&9&0\\\\ \\end{array} \\right]$"
          },
          "metadata": {},
          "execution_count": 2
        }
      ]
    },
    {
      "cell_type": "markdown",
      "source": [
        "$\\left[ \\begin{array}{ccc}1&1&1\\\\2&4&8\\\\3&9&0\\\\ \\end{array} \\right]$"
      ],
      "metadata": {
        "id": "nYmIblk-N5PU"
      }
    },
    {
      "cell_type": "markdown",
      "source": [
        "(a) 3*b|1"
      ],
      "metadata": {
        "id": "p1LtGxiYOAWw"
      }
    },
    {
      "cell_type": "code",
      "source": [
        "3*Matrix( [B|1] )"
      ],
      "metadata": {
        "colab": {
          "base_uri": "https://localhost:8080/",
          "height": 46
        },
        "id": "fHqaMJV4OGkB",
        "outputId": "8477c91c-7e53-4cad-e7a7-6cd358302ee7"
      },
      "execution_count": 3,
      "outputs": [
        {
          "output_type": "execute_result",
          "data": {
            "text/plain": [
              "Matrix([Vector([3, 6, 9])])"
            ],
            "text/html": [
              "<p style=\"text-align:center;\">$\\left[ \\begin{array}{c}3\\\\6\\\\9\\\\ \\end{array} \\right]$</p>"
            ],
            "image/png": "$\\left[ \\begin{array}{c}3\\\\6\\\\9\\\\ \\end{array} \\right]$",
            "text/latex": "$\\left[ \\begin{array}{c}3\\\\6\\\\9\\\\ \\end{array} \\right]$"
          },
          "metadata": {},
          "execution_count": 3
        }
      ]
    },
    {
      "cell_type": "markdown",
      "source": [
        "$\\left[ \\begin{array}{c}3\\\\6\\\\9\\\\ \\end{array} \\right]$"
      ],
      "metadata": {
        "id": "ZzvEisqsOJ6I"
      }
    },
    {
      "cell_type": "markdown",
      "source": [
        "(b) 3*1|b"
      ],
      "metadata": {
        "id": "qDZhM8SqOPSP"
      }
    },
    {
      "cell_type": "code",
      "source": [
        "3*Matrix( [1|B] )"
      ],
      "metadata": {
        "colab": {
          "base_uri": "https://localhost:8080/",
          "height": 46
        },
        "id": "4HZJeK1QOVT5",
        "outputId": "1018e137-c841-4e7d-b615-b79a0c18bd4b"
      },
      "execution_count": 4,
      "outputs": [
        {
          "output_type": "execute_result",
          "data": {
            "text/plain": [
              "Matrix([Vector([3, 3, 3])])"
            ],
            "text/html": [
              "<p style=\"text-align:center;\">$\\left[ \\begin{array}{c}3\\\\3\\\\3\\\\ \\end{array} \\right]$</p>"
            ],
            "image/png": "$\\left[ \\begin{array}{c}3\\\\3\\\\3\\\\ \\end{array} \\right]$",
            "text/latex": "$\\left[ \\begin{array}{c}3\\\\3\\\\3\\\\ \\end{array} \\right]$"
          },
          "metadata": {},
          "execution_count": 4
        }
      ]
    },
    {
      "cell_type": "markdown",
      "source": [
        "$\\left[ \\begin{array}{c}3\\\\3\\\\3\\\\ \\end{array} \\right]$"
      ],
      "metadata": {
        "id": "W0V7t1QMOaxD"
      }
    },
    {
      "cell_type": "markdown",
      "source": [
        "(c) 1*3|b"
      ],
      "metadata": {
        "id": "rvBxIUbgOikr"
      }
    },
    {
      "cell_type": "code",
      "source": [
        "1*Matrix( [3|B] )"
      ],
      "metadata": {
        "colab": {
          "base_uri": "https://localhost:8080/",
          "height": 46
        },
        "id": "d9U9tid1OlqB",
        "outputId": "f1180f1f-07e0-499c-c9e1-71a75dfe723b"
      },
      "execution_count": 5,
      "outputs": [
        {
          "output_type": "execute_result",
          "data": {
            "text/plain": [
              "Matrix([Vector([3, 9, 0])])"
            ],
            "text/html": [
              "<p style=\"text-align:center;\">$\\left[ \\begin{array}{c}3\\\\9\\\\0\\\\ \\end{array} \\right]$</p>"
            ],
            "image/png": "$\\left[ \\begin{array}{c}3\\\\9\\\\0\\\\ \\end{array} \\right]$",
            "text/latex": "$\\left[ \\begin{array}{c}3\\\\9\\\\0\\\\ \\end{array} \\right]$"
          },
          "metadata": {},
          "execution_count": 5
        }
      ]
    },
    {
      "cell_type": "markdown",
      "source": [
        "$\\left[ \\begin{array}{c}3\\\\9\\\\0\\\\ \\end{array} \\right]$"
      ],
      "metadata": {
        "id": "6i8UO9uxOqea"
      }
    },
    {
      "cell_type": "markdown",
      "source": [
        "(d) 1|b*3"
      ],
      "metadata": {
        "id": "V6nZZZo0O5-s"
      }
    },
    {
      "cell_type": "code",
      "source": [
        "Matrix( [1|B] )*3"
      ],
      "metadata": {
        "colab": {
          "base_uri": "https://localhost:8080/",
          "height": 46
        },
        "id": "JvKBxS3NO__N",
        "outputId": "96b213b2-fd52-42f6-a683-8e32767e4871"
      },
      "execution_count": 6,
      "outputs": [
        {
          "output_type": "execute_result",
          "data": {
            "text/plain": [
              "Matrix([Vector([3, 3, 3])])"
            ],
            "text/html": [
              "<p style=\"text-align:center;\">$\\left[ \\begin{array}{c}3\\\\3\\\\3\\\\ \\end{array} \\right]$</p>"
            ],
            "image/png": "$\\left[ \\begin{array}{c}3\\\\3\\\\3\\\\ \\end{array} \\right]$",
            "text/latex": "$\\left[ \\begin{array}{c}3\\\\3\\\\3\\\\ \\end{array} \\right]$"
          },
          "metadata": {},
          "execution_count": 6
        }
      ]
    },
    {
      "cell_type": "markdown",
      "source": [
        "$\\left[ \\begin{array}{c}3\\\\3\\\\3\\\\ \\end{array} \\right]$"
      ],
      "metadata": {
        "id": "Y7spUvaaPDdf"
      }
    },
    {
      "cell_type": "markdown",
      "source": [
        "#TAREA 2"
      ],
      "metadata": {
        "id": "ZFT-3jx2tbdm"
      }
    },
    {
      "cell_type": "code",
      "source": [],
      "metadata": {
        "id": "oZV2XPRXNKsO"
      },
      "execution_count": null,
      "outputs": []
    },
    {
      "cell_type": "code",
      "source": [
        "d = Vector( [4, 5, 6, 7, 8] )\n",
        "e = Vector( [1, 2, 3, 4, 5] )\n",
        "f = Vector( [9, 10, 11, 12, 13] )\n",
        "b = Matrix([d, e, f])\n",
        "a = Matrix([f, e, d])\n",
        "c = Matrix([e, f, d])\n",
        "display(Latex(latex(b)))\n",
        "display(Latex(latex(a)))"
      ],
      "metadata": {
        "colab": {
          "base_uri": "https://localhost:8080/",
          "height": 220
        },
        "id": "HHfS9dMgnLb_",
        "outputId": "7a327ba5-af7f-46c6-8832-229e1c41d73a"
      },
      "execution_count": null,
      "outputs": [
        {
          "output_type": "display_data",
          "data": {
            "text/plain": [
              "<IPython.core.display.Latex object>"
            ],
            "text/latex": "\\left[ \\begin{array}{ccc}4&1&9\\\\5&2&10\\\\6&3&11\\\\7&4&12\\\\8&5&13\\\\ \\end{array} \\right]"
          },
          "metadata": {}
        },
        {
          "output_type": "display_data",
          "data": {
            "text/plain": [
              "<IPython.core.display.Latex object>"
            ],
            "text/latex": "\\left[ \\begin{array}{ccc}9&1&4\\\\10&2&5\\\\11&3&6\\\\12&4&7\\\\13&5&8\\\\ \\end{array} \\right]"
          },
          "metadata": {}
        }
      ]
    },
    {
      "cell_type": "markdown",
      "source": [
        "##Ejercicio 6"
      ],
      "metadata": {
        "id": "6tGOt0HetklR"
      }
    },
    {
      "cell_type": "markdown",
      "source": [
        "Demuestre las propiedades de la siguiente proposición:"
      ],
      "metadata": {
        "id": "oREhaIP4pJ-l"
      }
    },
    {
      "cell_type": "markdown",
      "source": [
        "A+B=B+A"
      ],
      "metadata": {
        "id": "LGLDz6zGs_dO"
      }
    },
    {
      "cell_type": "code",
      "source": [
        "display(Latex(latex(a+b)))\n",
        "display(Latex(latex(b+a)))"
      ],
      "metadata": {
        "colab": {
          "base_uri": "https://localhost:8080/",
          "height": 220
        },
        "id": "2-k7qaFOtDD3",
        "outputId": "40bb1c10-ede1-4ec1-a326-ce1c11365e9c"
      },
      "execution_count": null,
      "outputs": [
        {
          "output_type": "display_data",
          "data": {
            "text/plain": [
              "<IPython.core.display.Latex object>"
            ],
            "text/latex": "\\left[ \\begin{array}{ccc}13&2&13\\\\15&4&15\\\\17&6&17\\\\19&8&19\\\\21&10&21\\\\ \\end{array} \\right]"
          },
          "metadata": {}
        },
        {
          "output_type": "display_data",
          "data": {
            "text/plain": [
              "<IPython.core.display.Latex object>"
            ],
            "text/latex": "\\left[ \\begin{array}{ccc}13&2&13\\\\15&4&15\\\\17&6&17\\\\19&8&19\\\\21&10&21\\\\ \\end{array} \\right]"
          },
          "metadata": {}
        }
      ]
    },
    {
      "cell_type": "markdown",
      "source": [
        " La propiedad es correcta"
      ],
      "metadata": {
        "id": "qTUmfVsNtQe-"
      }
    },
    {
      "cell_type": "markdown",
      "source": [
        "A+(B+C)=(A+B)+C"
      ],
      "metadata": {
        "id": "tUu21RymtpLu"
      }
    },
    {
      "cell_type": "code",
      "source": [
        "display(Latex(latex(a+(b+c))))\n",
        "display(Latex(latex((a+b)+c)))"
      ],
      "metadata": {
        "colab": {
          "base_uri": "https://localhost:8080/",
          "height": 220
        },
        "id": "Iqs8TKmItw8z",
        "outputId": "f7750426-1a79-403c-baeb-a3354310f436"
      },
      "execution_count": null,
      "outputs": [
        {
          "output_type": "display_data",
          "data": {
            "text/plain": [
              "<IPython.core.display.Latex object>"
            ],
            "text/latex": "\\left[ \\begin{array}{ccc}14&11&17\\\\17&14&20\\\\20&17&23\\\\23&20&26\\\\26&23&29\\\\ \\end{array} \\right]"
          },
          "metadata": {}
        },
        {
          "output_type": "display_data",
          "data": {
            "text/plain": [
              "<IPython.core.display.Latex object>"
            ],
            "text/latex": "\\left[ \\begin{array}{ccc}14&11&17\\\\17&14&20\\\\20&17&23\\\\23&20&26\\\\26&23&29\\\\ \\end{array} \\right]"
          },
          "metadata": {}
        }
      ]
    },
    {
      "cell_type": "markdown",
      "source": [
        "La propiedad es correcta"
      ],
      "metadata": {
        "id": "9XQsmwnBvOgw"
      }
    },
    {
      "cell_type": "markdown",
      "source": [
        "0+A=A"
      ],
      "metadata": {
        "id": "LR_3QiRivQ5A"
      }
    },
    {
      "cell_type": "code",
      "source": [
        "display(Latex(latex(0+(1|a|1))))\n",
        "display(Latex(latex(1|a|1)))"
      ],
      "metadata": {
        "colab": {
          "base_uri": "https://localhost:8080/",
          "height": 58
        },
        "id": "z8HoV7_qv_QH",
        "outputId": "cc50188f-6276-4e29-a24d-02743c7565c7"
      },
      "execution_count": null,
      "outputs": [
        {
          "output_type": "display_data",
          "data": {
            "text/plain": [
              "<IPython.core.display.Latex object>"
            ],
            "text/latex": "9"
          },
          "metadata": {}
        },
        {
          "output_type": "display_data",
          "data": {
            "text/plain": [
              "<IPython.core.display.Latex object>"
            ],
            "text/latex": "9"
          },
          "metadata": {}
        }
      ]
    },
    {
      "cell_type": "markdown",
      "source": [
        "La propiedad es correcta"
      ],
      "metadata": {
        "id": "Cr21MAPAyKlF"
      }
    },
    {
      "cell_type": "markdown",
      "source": [
        "A+(-A)=0"
      ],
      "metadata": {
        "id": "X1lQODJSyOFM"
      }
    },
    {
      "cell_type": "code",
      "source": [
        "display(Latex(latex(a+(-a))))"
      ],
      "metadata": {
        "colab": {
          "base_uri": "https://localhost:8080/",
          "height": 119
        },
        "id": "4clbQqCEyaDt",
        "outputId": "92191ef6-a817-4595-9484-80e788407c2d"
      },
      "execution_count": null,
      "outputs": [
        {
          "output_type": "display_data",
          "data": {
            "text/plain": [
              "<IPython.core.display.Latex object>"
            ],
            "text/latex": "\\left[ \\begin{array}{ccc}0&0&0\\\\0&0&0\\\\0&0&0\\\\0&0&0\\\\0&0&0\\\\ \\end{array} \\right]"
          },
          "metadata": {}
        }
      ]
    },
    {
      "cell_type": "markdown",
      "source": [
        "La propiedad es correcta"
      ],
      "metadata": {
        "id": "vaZKPEOAysig"
      }
    },
    {
      "cell_type": "markdown",
      "source": [
        "λ(A+B)=λA+λB"
      ],
      "metadata": {
        "id": "gwsYXXF_zsCp"
      }
    },
    {
      "cell_type": "code",
      "source": [
        "display(Latex(latex(3*(a+b))))\n",
        "display(Latex(latex((3*a)+(3*b))))"
      ],
      "metadata": {
        "colab": {
          "base_uri": "https://localhost:8080/",
          "height": 220
        },
        "id": "Wgk2YF-_z0_G",
        "outputId": "4f31baa0-7259-4048-add4-b672490d8a1a"
      },
      "execution_count": null,
      "outputs": [
        {
          "output_type": "display_data",
          "data": {
            "text/plain": [
              "<IPython.core.display.Latex object>"
            ],
            "text/latex": "\\left[ \\begin{array}{ccc}39&6&39\\\\45&12&45\\\\51&18&51\\\\57&24&57\\\\63&30&63\\\\ \\end{array} \\right]"
          },
          "metadata": {}
        },
        {
          "output_type": "display_data",
          "data": {
            "text/plain": [
              "<IPython.core.display.Latex object>"
            ],
            "text/latex": "\\left[ \\begin{array}{ccc}39&6&39\\\\45&12&45\\\\51&18&51\\\\57&24&57\\\\63&30&63\\\\ \\end{array} \\right]"
          },
          "metadata": {}
        }
      ]
    },
    {
      "cell_type": "markdown",
      "source": [
        "La propiedad es correcta"
      ],
      "metadata": {
        "id": "r99DLj6Q0L6f"
      }
    },
    {
      "cell_type": "markdown",
      "source": [
        "(λ+n)A=λA+n*A"
      ],
      "metadata": {
        "id": "rh9dX-6N0UwO"
      }
    },
    {
      "cell_type": "code",
      "source": [
        "display(Latex(latex((3+2)*a)))\n",
        "display(Latex(latex((3*a)+(2*a))))"
      ],
      "metadata": {
        "colab": {
          "base_uri": "https://localhost:8080/",
          "height": 220
        },
        "id": "wPOP9gBa1IKe",
        "outputId": "87e980b3-8b48-415c-b635-3733fa3c338c"
      },
      "execution_count": null,
      "outputs": [
        {
          "output_type": "display_data",
          "data": {
            "text/plain": [
              "<IPython.core.display.Latex object>"
            ],
            "text/latex": "\\left[ \\begin{array}{ccc}45&5&20\\\\50&10&25\\\\55&15&30\\\\60&20&35\\\\65&25&40\\\\ \\end{array} \\right]"
          },
          "metadata": {}
        },
        {
          "output_type": "display_data",
          "data": {
            "text/plain": [
              "<IPython.core.display.Latex object>"
            ],
            "text/latex": "\\left[ \\begin{array}{ccc}45&5&20\\\\50&10&25\\\\55&15&30\\\\60&20&35\\\\65&25&40\\\\ \\end{array} \\right]"
          },
          "metadata": {}
        }
      ]
    },
    {
      "cell_type": "markdown",
      "source": [
        "La propiedad es correcta"
      ],
      "metadata": {
        "id": "Ib60nhrU1Xdo"
      }
    },
    {
      "cell_type": "markdown",
      "source": [
        "λ(nA)=(λn)A"
      ],
      "metadata": {
        "id": "GP9ejC1y1Z8J"
      }
    },
    {
      "cell_type": "code",
      "source": [
        "display(Latex(latex(3*(2*a))))\n",
        "display(Latex(latex((2*3)*a)))"
      ],
      "metadata": {
        "colab": {
          "base_uri": "https://localhost:8080/",
          "height": 220
        },
        "id": "DKeZoy5R10eT",
        "outputId": "0a85bf20-faf2-4588-9b3a-891566d3037a"
      },
      "execution_count": null,
      "outputs": [
        {
          "output_type": "display_data",
          "data": {
            "text/plain": [
              "<IPython.core.display.Latex object>"
            ],
            "text/latex": "\\left[ \\begin{array}{ccc}54&6&24\\\\60&12&30\\\\66&18&36\\\\72&24&42\\\\78&30&48\\\\ \\end{array} \\right]"
          },
          "metadata": {}
        },
        {
          "output_type": "display_data",
          "data": {
            "text/plain": [
              "<IPython.core.display.Latex object>"
            ],
            "text/latex": "\\left[ \\begin{array}{ccc}54&6&24\\\\60&12&30\\\\66&18&36\\\\72&24&42\\\\78&30&48\\\\ \\end{array} \\right]"
          },
          "metadata": {}
        }
      ]
    },
    {
      "cell_type": "markdown",
      "source": [
        "La propiedad es correcta"
      ],
      "metadata": {
        "id": "BmdA06LX2Crh"
      }
    },
    {
      "cell_type": "markdown",
      "source": [
        "1A=A"
      ],
      "metadata": {
        "id": "53frGPJ92EmZ"
      }
    },
    {
      "cell_type": "code",
      "source": [
        "display(Latex(latex(a)))\n",
        "display(Latex(latex(1*a)))"
      ],
      "metadata": {
        "colab": {
          "base_uri": "https://localhost:8080/",
          "height": 220
        },
        "id": "9SZaFj2G2HGq",
        "outputId": "933c8dce-0cf9-4d9e-ed90-ebbfeda7aa27"
      },
      "execution_count": null,
      "outputs": [
        {
          "output_type": "display_data",
          "data": {
            "text/plain": [
              "<IPython.core.display.Latex object>"
            ],
            "text/latex": "\\left[ \\begin{array}{ccc}9&1&4\\\\10&2&5\\\\11&3&6\\\\12&4&7\\\\13&5&8\\\\ \\end{array} \\right]"
          },
          "metadata": {}
        },
        {
          "output_type": "display_data",
          "data": {
            "text/plain": [
              "<IPython.core.display.Latex object>"
            ],
            "text/latex": "\\left[ \\begin{array}{ccc}9&1&4\\\\10&2&5\\\\11&3&6\\\\12&4&7\\\\13&5&8\\\\ \\end{array} \\right]"
          },
          "metadata": {}
        }
      ]
    },
    {
      "cell_type": "markdown",
      "source": [
        "La propiedad es correcta"
      ],
      "metadata": {
        "id": "sQvqw8BX2PCK"
      }
    }
  ]
}