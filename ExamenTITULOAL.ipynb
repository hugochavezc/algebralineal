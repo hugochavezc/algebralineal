{
  "nbformat": 4,
  "nbformat_minor": 0,
  "metadata": {
    "colab": {
      "provenance": [],
      "include_colab_link": true
    },
    "kernelspec": {
      "name": "python3",
      "display_name": "Python 3"
    },
    "language_info": {
      "name": "python"
    }
  },
  "cells": [
    {
      "cell_type": "markdown",
      "metadata": {
        "id": "view-in-github",
        "colab_type": "text"
      },
      "source": [
        "<a href=\"https://colab.research.google.com/github/hugochavezc/algebralineal/blob/main/ExamenTITULOAL.ipynb\" target=\"_parent\"><img src=\"https://colab.research.google.com/assets/colab-badge.svg\" alt=\"Open In Colab\"/></a>"
      ]
    },
    {
      "cell_type": "markdown",
      "source": [
        "## Algebra Lineal\n",
        "\n",
        "### 1er examen parcial"
      ],
      "metadata": {
        "id": "m93nhBA98vRW"
      }
    },
    {
      "cell_type": "markdown",
      "source": [
        "EN este notebook deberás realizar cada uno de los ejercicios utilizando Python dentro de los bloques de código, si alguna salida requiere la visualización mediante Latex escribe el bloque correspondiente."
      ],
      "metadata": {
        "id": "OWBcJp7z9U8G"
      }
    },
    {
      "cell_type": "markdown",
      "metadata": {
        "id": "kXLRi02u_bK6"
      },
      "source": [
        "1. Genere los vectores $a$ y $ {b}$:\n",
        "\n",
        "-   el vector ${a}$ está formado por la lista de números: 1, $\\frac{1}{3}$, -5, π\n",
        "-   el vector ${b}$ está formado por la lista de números: 1, $\\frac{2}{3}$, 0.01,  $\\sqrt 2$\n",
        "-   súmelos"
      ]
    },
    {
      "cell_type": "code",
      "execution_count": 2,
      "metadata": {
        "id": "7GzeUtyj8qwb",
        "outputId": "7a4f7b68-a1fa-4af3-9f14-9b0ae8e40008",
        "colab": {
          "base_uri": "https://localhost:8080/"
        }
      },
      "outputs": [
        {
          "output_type": "stream",
          "name": "stdout",
          "text": [
            "Vector a: [ 1.          0.33333333 -5.          3.14159265]\n",
            "Vector b: [1.         0.66666667 0.01       1.41421356]\n",
            "Suma de a y b: [ 2.          1.         -4.99        4.55580622]\n"
          ]
        }
      ],
      "source": [
        "import numpy as np\n",
        "a = np.array([1,1/3,-5, np.pi])\n",
        "b = np.array([1,2/3,0.01, np.sqrt(2)])\n",
        "suma = a + b\n",
        "print(\"Vector a:\", a)\n",
        "print(\"Vector b:\", b)\n",
        "print(\"Suma de a y b:\", suma)\n"
      ]
    },
    {
      "cell_type": "markdown",
      "metadata": {
        "id": "6FIT3apxOYdq"
      },
      "source": [
        "2. Proporcione ejemplos de matrices 3 por 3 no nulas de los siguientes\n",
        "tipos de matrices:\n",
        "\n",
        "-   Una matriz diagonal\n",
        "\n"
      ]
    },
    {
      "cell_type": "code",
      "source": [
        "import numpy as np\n",
        "matriz_diagonal = np.diag([1, 2, 3])\n",
        "print(\"Matriz diagonal:\")\n",
        "print(matriz_diagonal)\n"
      ],
      "metadata": {
        "id": "EDWliG5H17ec",
        "outputId": "81b549e7-e594-4f0b-ca2a-4db32ac6513a",
        "colab": {
          "base_uri": "https://localhost:8080/"
        }
      },
      "execution_count": 3,
      "outputs": [
        {
          "output_type": "stream",
          "name": "stdout",
          "text": [
            "Matriz diagonal:\n",
            "[[1 0 0]\n",
            " [0 2 0]\n",
            " [0 0 3]]\n"
          ]
        }
      ]
    },
    {
      "cell_type": "markdown",
      "metadata": {
        "id": "WMMsUBTtOYdq"
      },
      "source": [
        "-   Una matriz simétrica\n",
        "\n"
      ]
    },
    {
      "cell_type": "code",
      "execution_count": 4,
      "metadata": {
        "id": "a7YW_5VFOYdq",
        "outputId": "b9df956b-c33b-4220-b7f8-5ebbc9516a3d",
        "colab": {
          "base_uri": "https://localhost:8080/"
        }
      },
      "outputs": [
        {
          "output_type": "stream",
          "name": "stdout",
          "text": [
            "Matriz simétrica:\n",
            "[[2 3 1]\n",
            " [3 5 4]\n",
            " [1 4 6]]\n"
          ]
        }
      ],
      "source": [
        "import numpy as np\n",
        "matriz_simetrica = np.array([\n",
        "    [2, 3, 1],\n",
        "    [3, 5, 4],\n",
        "    [1, 4, 6]\n",
        "])\n",
        "print(\"Matriz simétrica:\")\n",
        "print(matriz_simetrica)\n"
      ]
    },
    {
      "cell_type": "markdown",
      "metadata": {
        "id": "roLWrzwXj1X6"
      },
      "source": [
        "3. Cree la matriz\n",
        "$${A}=\\begin{bmatrix}1&0&0&7\\\\2&0&7&6\\\\-4&3&3&5\\\\0&3&4&-1\\end{bmatrix}$$\n",
        "\n"
      ]
    },
    {
      "cell_type": "markdown",
      "metadata": {
        "id": "96CPH5a_j1X9"
      },
      "source": [
        "Calcule el siguiente vector: 3 veces la primera columna de $A$\n",
        "mas la segunda columna de $A$ menos 2 veces la tercera columna\n",
        "menos 3 veces la última columna de $A$\n",
        "\n"
      ]
    },
    {
      "cell_type": "code",
      "execution_count": 5,
      "metadata": {
        "id": "DLRtU4HDOYdq",
        "outputId": "91413de1-7e26-488f-bce1-1f56bbbf981b",
        "colab": {
          "base_uri": "https://localhost:8080/"
        }
      },
      "outputs": [
        {
          "output_type": "stream",
          "name": "stdout",
          "text": [
            "Matriz A:\n",
            "[[ 1  0  0  7]\n",
            " [ 2  0  7  6]\n",
            " [-4  3  3  5]\n",
            " [ 0  3  4 -1]]\n",
            "\n",
            "Vector resultado:\n",
            "[-18 -26 -30  -2]\n"
          ]
        }
      ],
      "source": [
        "import numpy as np\n",
        "A = np.array([\n",
        "    [1, 0, 0, 7],\n",
        "    [2, 0, 7, 6],\n",
        "    [-4, 3, 3, 5],\n",
        "    [0, 3, 4, -1]\n",
        "])\n",
        "vector_resultado = 3 * A[:, 0] + A[:, 1] - 2 * A[:, 2] - 3 * A[:, 3]\n",
        "print(\"Matriz A:\")\n",
        "print(A)\n",
        "print(\"\\nVector resultado:\")\n",
        "print(vector_resultado)\n"
      ]
    },
    {
      "cell_type": "markdown",
      "metadata": {
        "ein.tags": "worksheet-0",
        "id": "Hin_mRv6cDtt"
      },
      "source": [
        "**4**.Genera la matriz identidad  I de rango 4 y 10\n"
      ]
    },
    {
      "cell_type": "code",
      "execution_count": 6,
      "metadata": {
        "autoscroll": false,
        "ein.hycell": false,
        "ein.tags": "worksheet-0",
        "id": "8dfGpxIdcDtt",
        "outputId": "73f229c1-4f8f-40e9-f203-814ccb52bd99",
        "colab": {
          "base_uri": "https://localhost:8080/"
        }
      },
      "outputs": [
        {
          "output_type": "stream",
          "name": "stdout",
          "text": [
            "Matriz identidad de rango 4:\n",
            "[[1. 0. 0. 0.]\n",
            " [0. 1. 0. 0.]\n",
            " [0. 0. 1. 0.]\n",
            " [0. 0. 0. 1.]]\n",
            "\n",
            "Matriz identidad de rango 10:\n",
            "[[1. 0. 0. 0. 0. 0. 0. 0. 0. 0.]\n",
            " [0. 1. 0. 0. 0. 0. 0. 0. 0. 0.]\n",
            " [0. 0. 1. 0. 0. 0. 0. 0. 0. 0.]\n",
            " [0. 0. 0. 1. 0. 0. 0. 0. 0. 0.]\n",
            " [0. 0. 0. 0. 1. 0. 0. 0. 0. 0.]\n",
            " [0. 0. 0. 0. 0. 1. 0. 0. 0. 0.]\n",
            " [0. 0. 0. 0. 0. 0. 1. 0. 0. 0.]\n",
            " [0. 0. 0. 0. 0. 0. 0. 1. 0. 0.]\n",
            " [0. 0. 0. 0. 0. 0. 0. 0. 1. 0.]\n",
            " [0. 0. 0. 0. 0. 0. 0. 0. 0. 1.]]\n"
          ]
        }
      ],
      "source": [
        "import numpy as np\n",
        "I4 = np.identity(4)\n",
        "I10 = np.identity(10)\n",
        "print(\"Matriz identidad de rango 4:\")\n",
        "print(I4)\n",
        "print(\"\\nMatriz identidad de rango 10:\")\n",
        "print(I10)\n"
      ]
    },
    {
      "cell_type": "markdown",
      "source": [
        "5. Producto punto\n",
        "Considere los vectores ${x}=(1, 1, -2)$, ${y}=(1, -2, 1)$\n",
        "calcula el producto punto"
      ],
      "metadata": {
        "id": "aHZ16S1peAeY"
      }
    },
    {
      "cell_type": "code",
      "source": [
        "import numpy as np\n",
        "x = np.array([1, 1, -2])\n",
        "y = np.array([1, -2, 1])\n",
        "producto_punto = np.dot(x, y)\n",
        "print(\"El producto punto de los vectores x e y es:\", producto_punto)\n"
      ],
      "metadata": {
        "id": "QPfhac1geMQK",
        "outputId": "e311b673-8a20-4792-da96-fb11615f5bef",
        "colab": {
          "base_uri": "https://localhost:8080/"
        }
      },
      "execution_count": 7,
      "outputs": [
        {
          "output_type": "stream",
          "name": "stdout",
          "text": [
            "El producto punto de los vectores x e y es: -3\n"
          ]
        }
      ]
    },
    {
      "cell_type": "markdown",
      "source": [
        "6. Para la siguiente matriz $$\\left[ \\begin{array}{cccc}3&-2&2\\\\1&-1&-1\\\\2&1&2\\\\ \\end{array} \\right]$$ lleva a cabo el algoritmo de eliminación paso a paso.\n",
        "\n",
        "Escribe en una celda separada cada operacion elemental."
      ],
      "metadata": {
        "id": "hBXBxw0VcrAh"
      }
    },
    {
      "cell_type": "code",
      "source": [
        "import numpy as np\n",
        "A = np.array([\n",
        "    [3, -2, 2],\n",
        "    [1, -1, -1],\n",
        "    [2, 1, 2]\n",
        "])\n",
        "print(\"Matriz inicial:\")\n",
        "print(A)\n",
        "A[1] = A[1] - (1/3) * A[0]\n",
        "print(\"\\nDespués de hacer que el elemento (2,1) sea 0:\")\n",
        "print(A)\n",
        "A[2] = A[2] - (2/3) * A[0]\n",
        "print(\"\\nDespués de hacer que el elemento (3,1) sea 0:\")\n",
        "print(A)\n",
        "A[2] = A[2] - (7) * A[1]\n",
        "print(\"\\nDespués de hacer que el elemento (3,2) sea 0:\")\n",
        "print(A)\n"
      ],
      "metadata": {
        "id": "7nkkufBT4bIc",
        "outputId": "8566d914-8a30-4494-a916-fe021439409a",
        "colab": {
          "base_uri": "https://localhost:8080/"
        }
      },
      "execution_count": 8,
      "outputs": [
        {
          "output_type": "stream",
          "name": "stdout",
          "text": [
            "Matriz inicial:\n",
            "[[ 3 -2  2]\n",
            " [ 1 -1 -1]\n",
            " [ 2  1  2]]\n",
            "\n",
            "Después de hacer que el elemento (2,1) sea 0:\n",
            "[[ 3 -2  2]\n",
            " [ 0  0 -1]\n",
            " [ 2  1  2]]\n",
            "\n",
            "Después de hacer que el elemento (3,1) sea 0:\n",
            "[[ 3 -2  2]\n",
            " [ 0  0 -1]\n",
            " [ 0  2  0]]\n",
            "\n",
            "Después de hacer que el elemento (3,2) sea 0:\n",
            "[[ 3 -2  2]\n",
            " [ 0  0 -1]\n",
            " [ 0  2  7]]\n"
          ]
        }
      ]
    },
    {
      "cell_type": "markdown",
      "source": [
        "7. Escriba las siguientes matrices elementales de orden 4.\n",
        "\n",
        "\n",
        "(a) I τ\n",
        "[(−2)1+3]\n",
        "\n",
        "(b) I τ\n",
        "[(0.5)1+4]\n",
        "\n",
        "(c) I τ\n",
        "[(-3)2+1]\n",
        "\n",
        "(d) I τ\n",
        "[(−10)3]"
      ],
      "metadata": {
        "id": "2wXEkEH9hXGe"
      }
    },
    {
      "cell_type": "code",
      "source": [
        "import numpy as np\n",
        "I = np.identity(4)\n",
        "E_a = I.copy()\n",
        "E_a[2, 0] = -2\n",
        "print(\"Matriz elemental (a):\")\n",
        "print(E_a)\n",
        "E_b = I.copy()\n",
        "E_b[3, 0] = 0.5\n",
        "print(\"\\nMatriz elemental (b):\")\n",
        "print(E_b)\n",
        "E_c = I.copy()\n",
        "E_c[0, 1] = -3\n",
        "print(\"\\nMatriz elemental (c):\")\n",
        "print(E_c)\n",
        "E_d = I.copy()\n",
        "E_d[2, 2] = -10\n",
        "print(\"\\nMatriz elemental (d):\")\n",
        "print(E_d)\n"
      ],
      "metadata": {
        "id": "7YIwgA1j43Tu",
        "outputId": "e1401ec6-cc75-47cc-837f-584483d8c812",
        "colab": {
          "base_uri": "https://localhost:8080/"
        }
      },
      "execution_count": 9,
      "outputs": [
        {
          "output_type": "stream",
          "name": "stdout",
          "text": [
            "Matriz elemental (a):\n",
            "[[ 1.  0.  0.  0.]\n",
            " [ 0.  1.  0.  0.]\n",
            " [-2.  0.  1.  0.]\n",
            " [ 0.  0.  0.  1.]]\n",
            "\n",
            "Matriz elemental (b):\n",
            "[[1.  0.  0.  0. ]\n",
            " [0.  1.  0.  0. ]\n",
            " [0.  0.  1.  0. ]\n",
            " [0.5 0.  0.  1. ]]\n",
            "\n",
            "Matriz elemental (c):\n",
            "[[ 1. -3.  0.  0.]\n",
            " [ 0.  1.  0.  0.]\n",
            " [ 0.  0.  1.  0.]\n",
            " [ 0.  0.  0.  1.]]\n",
            "\n",
            "Matriz elemental (d):\n",
            "[[  1.   0.   0.   0.]\n",
            " [  0.   1.   0.   0.]\n",
            " [  0.   0. -10.   0.]\n",
            " [  0.   0.   0.   1.]]\n"
          ]
        }
      ]
    },
    {
      "cell_type": "markdown",
      "source": [
        "8. Realiza el algoritmo de eliminación de Gauss-Jordan para la matriz del ejercicio 6, es decir continua las modificaciones de la matriz mediante operaciones elementales.\n",
        "Por cada paso del algoritmo escribe la celda de código correspondiente."
      ],
      "metadata": {
        "id": "NRMqK0VmB6px"
      }
    },
    {
      "cell_type": "code",
      "source": [
        "import numpy as np\n",
        "A = np.array([\n",
        "    [3, -2, 2],\n",
        "    [1, -1, -1],\n",
        "    [2, 1, 2]\n",
        "])\n",
        "A[0] = A[0] / 3\n",
        "print(\"Paso 1:\\n\", A)\n",
        "A[1] = A[1] - A[0]\n",
        "A[2] = A[2] - 2 * A[0]\n",
        "print(\"Paso 2:\\n\", A)\n",
        "A[1] = A[1] / (-1/3)\n",
        "print(\"Paso 3:\\n\", A)\n",
        "A[0] = A[0] + (2/3) * A[1]\n",
        "A[2] = A[2] - (1/3) * A[1]\n",
        "print(\"Paso 4:\\n\", A)\n",
        "A[2] = A[2] / (-2/3)\n",
        "print(\"Paso 5:\\n\", A)\n",
        "A[0] = A[0] - (2/9) * A[2]\n",
        "A[1] = A[1] + (4/9) * A[2]\n",
        "print(\"Paso 6:\\n\", A)\n"
      ],
      "metadata": {
        "id": "aSQ1lukT7ZOJ",
        "outputId": "af274ea6-e4e5-43e6-d55f-890ff49833e4",
        "colab": {
          "base_uri": "https://localhost:8080/"
        }
      },
      "execution_count": 10,
      "outputs": [
        {
          "output_type": "stream",
          "name": "stdout",
          "text": [
            "Paso 1:\n",
            " [[ 1  0  0]\n",
            " [ 1 -1 -1]\n",
            " [ 2  1  2]]\n",
            "Paso 2:\n",
            " [[ 1  0  0]\n",
            " [ 0 -1 -1]\n",
            " [ 0  1  2]]\n",
            "Paso 3:\n",
            " [[1 0 0]\n",
            " [0 3 3]\n",
            " [0 1 2]]\n",
            "Paso 4:\n",
            " [[1 2 2]\n",
            " [0 3 3]\n",
            " [0 0 1]]\n",
            "Paso 5:\n",
            " [[ 1  2  2]\n",
            " [ 0  3  3]\n",
            " [ 0  0 -1]]\n",
            "Paso 6:\n",
            " [[ 1  2  2]\n",
            " [ 0  3  2]\n",
            " [ 0  0 -1]]\n"
          ]
        }
      ]
    },
    {
      "cell_type": "markdown",
      "source": [
        "9. Encuentra la inversa de la matriz del ejercicio 6."
      ],
      "metadata": {
        "id": "2F3XtwbpIhOO"
      }
    },
    {
      "cell_type": "code",
      "source": [
        "import numpy as np\n",
        "A = np.array([[3, -2, 2],\n",
        "              [1, -1, -1],\n",
        "              [2, 1, 2]])\n",
        "\n",
        "A_inv = np.linalg.inv(A)\n",
        "print(\"Inversa de A:\")\n",
        "print(A_inv)\n"
      ],
      "metadata": {
        "id": "_I5caU3Y8Dq1",
        "outputId": "1b374ba1-ffbf-484e-b29b-52b12039b459",
        "colab": {
          "base_uri": "https://localhost:8080/"
        }
      },
      "execution_count": 14,
      "outputs": [
        {
          "output_type": "stream",
          "name": "stdout",
          "text": [
            "Inversa de A:\n",
            "[[-0.09090909  0.54545455  0.36363636]\n",
            " [-0.36363636  0.18181818  0.45454545]\n",
            " [ 0.27272727 -0.63636364 -0.09090909]]\n"
          ]
        }
      ]
    },
    {
      "cell_type": "markdown",
      "source": [
        "10. Resuelva el siguiente sistema de ecuaciones:\n",
        "\n",
        "$$ \\begin{array}{ccc}5x&+7y&-z&=6\\\\2x&+10y&-2z&=4\\\\x&+y&+z&=0\\\\ \\end{array} $$"
      ],
      "metadata": {
        "id": "tABrI61xarPE"
      }
    },
    {
      "cell_type": "code",
      "source": [
        "import numpy as np\n",
        "A = np.array([[5, 7, -1],\n",
        "              [2, 10, -2],\n",
        "              [1, 1, 1]])\n",
        "b = np.array([6, 4, 0])\n",
        "x = np.linalg.solve(A, b)\n",
        "print(f\"La solución del sistema es: x = {x[0]}, y = {x[1]}, z = {x[2]}\")\n"
      ],
      "metadata": {
        "id": "5iiMZkDR8wPW",
        "outputId": "9708182f-460f-4e04-c058-3e2d674b199a",
        "colab": {
          "base_uri": "https://localhost:8080/"
        }
      },
      "execution_count": 16,
      "outputs": [
        {
          "output_type": "stream",
          "name": "stdout",
          "text": [
            "La solución del sistema es: x = 1.0000000000000002, y = -1.2335811384723962e-16, z = -1.0000000000000002\n"
          ]
        }
      ]
    }
  ]
}