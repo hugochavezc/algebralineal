{
  "nbformat": 4,
  "nbformat_minor": 0,
  "metadata": {
    "colab": {
      "provenance": []
    },
    "kernelspec": {
      "name": "python3",
      "display_name": "Python 3"
    },
    "language_info": {
      "name": "python"
    }
  },
  "cells": [
    {
      "cell_type": "code",
      "source": [
        "!pip install --target=$nb_path nacal\n",
        "from nacal import*"
      ],
      "metadata": {
        "colab": {
          "base_uri": "https://localhost:8080/"
        },
        "id": "jnNwP3QCf9GF",
        "outputId": "426bd21d-5e51-4a36-832e-d5601350da67"
      },
      "execution_count": 5,
      "outputs": [
        {
          "output_type": "stream",
          "name": "stdout",
          "text": [
            "Requirement already satisfied: nacal in /usr/local/lib/python3.10/dist-packages (0.2.1)\n",
            "Requirement already satisfied: sympy>=1.1.0 in /usr/local/lib/python3.10/dist-packages (from nacal) (1.12)\n",
            "Requirement already satisfied: mpmath>=0.19 in /usr/local/lib/python3.10/dist-packages (from sympy>=1.1.0->nacal) (1.3.0)\n"
          ]
        }
      ]
    },
    {
      "cell_type": "markdown",
      "source": [
        "1. Para la siguiente matriz $$\\left[ \\begin{array}{cccc}3&-2&2&1\\\\1&-1&-1&-3\\\\2&1&2&4\\\\4&-4&1&2\\\\ \\end{array} \\right]$$ lleva a cabo el algoritmo de eliminación paso a paso.\n",
        "\n",
        "Escribe en una celda separada cada operacion elemental."
      ],
      "metadata": {
        "id": "hBXBxw0VcrAh"
      }
    },
    {
      "cell_type": "code",
      "source": [
        "a= Vector((3,1,2,4)); b=Vector((-2,-1,1,-4)); c= Vector((2,-1,2,1)); d=Vector((1,-3,4,2))\n",
        "M= Matrix([a,b,c,d])\n",
        "M"
      ],
      "metadata": {
        "colab": {
          "base_uri": "https://localhost:8080/",
          "height": 46
        },
        "id": "hB7QJaJ4jqQs",
        "outputId": "1b98a5f9-8f2f-4ab6-adad-d98b5aec5e03"
      },
      "execution_count": null,
      "outputs": [
        {
          "output_type": "execute_result",
          "data": {
            "text/plain": [
              "Matrix([Vector([3, 1, 2, 4]), Vector([-2, -1, 1, -4]), Vector([2, -1, 2, 1]), Vector([1, -3, 4, 2])])"
            ],
            "text/html": [
              "<p style=\"text-align:center;\">$\\left[ \\begin{array}{cccc}3&-2&2&1\\\\1&-1&-1&-3\\\\2&1&2&4\\\\4&-4&1&2\\\\ \\end{array} \\right]$</p>"
            ],
            "image/png": "$\\left[ \\begin{array}{cccc}3&-2&2&1\\\\1&-1&-1&-3\\\\2&1&2&4\\\\4&-4&1&2\\\\ \\end{array} \\right]$",
            "text/latex": "$\\left[ \\begin{array}{cccc}3&-2&2&1\\\\1&-1&-1&-3\\\\2&1&2&4\\\\4&-4&1&2\\\\ \\end{array} \\right]$"
          },
          "metadata": {},
          "execution_count": 3
        }
      ]
    },
    {
      "cell_type": "markdown",
      "source": [
        "$\\left[ \\begin{array}{cccc}3&-2&2&1\\\\1&-1&-1&-3\\\\2&1&2&4\\\\4&-4&1&2\\\\ \\end{array} \\right]$"
      ],
      "metadata": {
        "id": "d5s9EeyEkYOo"
      }
    },
    {
      "cell_type": "code",
      "source": [
        "M&T((2,4,2))"
      ],
      "metadata": {
        "colab": {
          "base_uri": "https://localhost:8080/",
          "height": 46
        },
        "id": "xstTHh-lku4Y",
        "outputId": "6c5b64c2-a0e8-4b46-8cfd-0d29c527cddc"
      },
      "execution_count": null,
      "outputs": [
        {
          "output_type": "execute_result",
          "data": {
            "text/plain": [
              "Matrix([Vector([3, 1, 2, 4]), Vector([0, -7, 9, 0]), Vector([2, -1, 2, 1]), Vector([1, -3, 4, 2])])"
            ],
            "text/html": [
              "<p style=\"text-align:center;\">$\\left[ \\begin{array}{cccc}3&0&2&1\\\\1&-7&-1&-3\\\\2&9&2&4\\\\4&0&1&2\\\\ \\end{array} \\right]$</p>"
            ],
            "image/png": "$\\left[ \\begin{array}{cccc}3&0&2&1\\\\1&-7&-1&-3\\\\2&9&2&4\\\\4&0&1&2\\\\ \\end{array} \\right]$",
            "text/latex": "$\\left[ \\begin{array}{cccc}3&0&2&1\\\\1&-7&-1&-3\\\\2&9&2&4\\\\4&0&1&2\\\\ \\end{array} \\right]$"
          },
          "metadata": {},
          "execution_count": 40
        }
      ]
    },
    {
      "cell_type": "markdown",
      "source": [
        "$\\left[ \\begin{array}{cccc}3&0&2&1\\\\1&-7&-1&-3\\\\2&9&2&4\\\\4&0&1&2\\\\ \\end{array} \\right]$"
      ],
      "metadata": {
        "id": "itHRnZHDs8ZS"
      }
    },
    {
      "cell_type": "code",
      "source": [
        "M&T((-2,4,3))"
      ],
      "metadata": {
        "colab": {
          "base_uri": "https://localhost:8080/",
          "height": 46
        },
        "id": "3L1VKMDhsf_B",
        "outputId": "af01dd53-f5e9-4512-d51b-d3eb0e755468"
      },
      "execution_count": null,
      "outputs": [
        {
          "output_type": "execute_result",
          "data": {
            "text/plain": [
              "Matrix([Vector([3, 1, 2, 4]), Vector([0, -7, 9, 0]), Vector([0, 5, -6, -3]), Vector([1, -3, 4, 2])])"
            ],
            "text/html": [
              "<p style=\"text-align:center;\">$\\left[ \\begin{array}{cccc}3&0&0&1\\\\1&-7&5&-3\\\\2&9&-6&4\\\\4&0&-3&2\\\\ \\end{array} \\right]$</p>"
            ],
            "image/png": "$\\left[ \\begin{array}{cccc}3&0&0&1\\\\1&-7&5&-3\\\\2&9&-6&4\\\\4&0&-3&2\\\\ \\end{array} \\right]$",
            "text/latex": "$\\left[ \\begin{array}{cccc}3&0&0&1\\\\1&-7&5&-3\\\\2&9&-6&4\\\\4&0&-3&2\\\\ \\end{array} \\right]$"
          },
          "metadata": {},
          "execution_count": 41
        }
      ]
    },
    {
      "cell_type": "markdown",
      "source": [
        "$\\left[ \\begin{array}{cccc}3&0&0&1\\\\1&-7&5&-3\\\\2&9&-6&4\\\\4&0&-3&2\\\\ \\end{array} \\right]$"
      ],
      "metadata": {
        "id": "aeiM85Hpt4qV"
      }
    },
    {
      "cell_type": "code",
      "source": [
        "M&T((fracc(1,3),1))"
      ],
      "metadata": {
        "colab": {
          "base_uri": "https://localhost:8080/",
          "height": 46
        },
        "id": "iJu3uiHAsZ9J",
        "outputId": "9a81b653-2bde-4e30-f1e4-9329d95b01fe"
      },
      "execution_count": null,
      "outputs": [
        {
          "output_type": "execute_result",
          "data": {
            "text/plain": [
              "Matrix([Vector([1, 1/3, 2/3, 4/3]), Vector([0, -7, 9, 0]), Vector([0, 5, -6, -3]), Vector([1, -3, 4, 2])])"
            ],
            "text/html": [
              "<p style=\"text-align:center;\">$\\left[ \\begin{array}{cccc}1&0&0&1\\\\\\frac{1}{3}&-7&5&-3\\\\\\frac{2}{3}&9&-6&4\\\\\\frac{4}{3}&0&-3&2\\\\ \\end{array} \\right]$</p>"
            ],
            "image/png": "$\\left[ \\begin{array}{cccc}1&0&0&1\\\\\\frac{1}{3}&-7&5&-3\\\\\\frac{2}{3}&9&-6&4\\\\\\frac{4}{3}&0&-3&2\\\\ \\end{array} \\right]$",
            "text/latex": "$\\left[ \\begin{array}{cccc}1&0&0&1\\\\\\frac{1}{3}&-7&5&-3\\\\\\frac{2}{3}&9&-6&4\\\\\\frac{4}{3}&0&-3&2\\\\ \\end{array} \\right]$"
          },
          "metadata": {},
          "execution_count": 42
        }
      ]
    },
    {
      "cell_type": "markdown",
      "source": [
        "$\\left[ \\begin{array}{cccc}1&0&0&1\\\\\\frac{1}{3}&-7&5&-3\\\\\\frac{2}{3}&9&-6&4\\\\\\frac{4}{3}&0&-3&2\\\\ \\end{array} \\right]$"
      ],
      "metadata": {
        "id": "aDdyF59cuPzC"
      }
    },
    {
      "cell_type": "code",
      "source": [
        "M&T((-1,1,4))\n",
        "M&T((fracc(-3,10),4))"
      ],
      "metadata": {
        "colab": {
          "base_uri": "https://localhost:8080/",
          "height": 46
        },
        "id": "h-SwYZxaub3B",
        "outputId": "72c57e54-4a8c-4b11-9ea5-f07b4506749b"
      },
      "execution_count": null,
      "outputs": [
        {
          "output_type": "execute_result",
          "data": {
            "text/plain": [
              "Matrix([Vector([1, 1/3, 2/3, 4/3]), Vector([0, -7, 9, 0]), Vector([0, 5, -6, -3]), Vector([0, 1, -1, -1/5])])"
            ],
            "text/html": [
              "<p style=\"text-align:center;\">$\\left[ \\begin{array}{cccc}1&0&0&0\\\\\\frac{1}{3}&-7&5&1\\\\\\frac{2}{3}&9&-6&-1\\\\\\frac{4}{3}&0&-3&- \\frac{1}{5}\\\\ \\end{array} \\right]$</p>"
            ],
            "image/png": "$\\left[ \\begin{array}{cccc}1&0&0&0\\\\\\frac{1}{3}&-7&5&1\\\\\\frac{2}{3}&9&-6&-1\\\\\\frac{4}{3}&0&-3&- \\frac{1}{5}\\\\ \\end{array} \\right]$",
            "text/latex": "$\\left[ \\begin{array}{cccc}1&0&0&0\\\\\\frac{1}{3}&-7&5&1\\\\\\frac{2}{3}&9&-6&-1\\\\\\frac{4}{3}&0&-3&- \\frac{1}{5}\\\\ \\end{array} \\right]$"
          },
          "metadata": {},
          "execution_count": 43
        }
      ]
    },
    {
      "cell_type": "markdown",
      "source": [
        "$\\left[ \\begin{array}{cccc}1&0&0&0\\\\\\frac{1}{3}&-7&5&1\\\\\\frac{2}{3}&9&-6&-1\\\\\\frac{4}{3}&0&-3&- \\frac{1}{5}\\\\ \\end{array} \\right]$"
      ],
      "metadata": {
        "id": "XBo6riNbykc6"
      }
    },
    {
      "cell_type": "code",
      "source": [
        "M&T((-5,4,3))\n",
        "M&T((fracc(-1,3),4,1))"
      ],
      "metadata": {
        "colab": {
          "base_uri": "https://localhost:8080/",
          "height": 46
        },
        "id": "yk5i-Pgav_c4",
        "outputId": "815c6d2a-d8f1-41cc-b81f-7695c5ef56a9"
      },
      "execution_count": null,
      "outputs": [
        {
          "output_type": "execute_result",
          "data": {
            "text/plain": [
              "Matrix([Vector([1, -2/3, 5/3, 23/15]), Vector([0, -7, 9, 0]), Vector([0, -10, 9, 0]), Vector([0, 1, -1, -1/5])])"
            ],
            "text/html": [
              "<p style=\"text-align:center;\">$\\left[ \\begin{array}{cccc}1&0&0&0\\\\- \\frac{2}{3}&-7&-10&1\\\\\\frac{5}{3}&9&9&-1\\\\\\frac{23}{15}&0&0&- \\frac{1}{5}\\\\ \\end{array} \\right]$</p>"
            ],
            "image/png": "$\\left[ \\begin{array}{cccc}1&0&0&0\\\\- \\frac{2}{3}&-7&-10&1\\\\\\frac{5}{3}&9&9&-1\\\\\\frac{23}{15}&0&0&- \\frac{1}{5}\\\\ \\end{array} \\right]$",
            "text/latex": "$\\left[ \\begin{array}{cccc}1&0&0&0\\\\- \\frac{2}{3}&-7&-10&1\\\\\\frac{5}{3}&9&9&-1\\\\\\frac{23}{15}&0&0&- \\frac{1}{5}\\\\ \\end{array} \\right]$"
          },
          "metadata": {},
          "execution_count": 46
        }
      ]
    },
    {
      "cell_type": "markdown",
      "source": [
        "$\\left[ \\begin{array}{cccc}1&0&0&0\\\\0&-7&0&1\\\\1&9&-1&-1\\\\\\frac{7}{5}&0&-2&- \\frac{1}{5}\\\\ \\end{array} \\right]$"
      ],
      "metadata": {
        "id": "E_FmMAr_z-gu"
      }
    },
    {
      "cell_type": "code",
      "source": [
        "M&T((fracc(-1,7),2))"
      ],
      "metadata": {
        "colab": {
          "base_uri": "https://localhost:8080/",
          "height": 46
        },
        "id": "qbJefYx10b-X",
        "outputId": "9cde1ac5-e819-4eec-ef66-42fe1a3db4ef"
      },
      "execution_count": null,
      "outputs": [
        {
          "output_type": "execute_result",
          "data": {
            "text/plain": [
              "Matrix([Vector([1, -2/3, 5/3, 23/15]), Vector([0, 1, -9/7, 0]), Vector([0, -10, 9, 0]), Vector([0, 1, -1, -1/5])])"
            ],
            "text/html": [
              "<p style=\"text-align:center;\">$\\left[ \\begin{array}{cccc}1&0&0&0\\\\- \\frac{2}{3}&1&-10&1\\\\\\frac{5}{3}&- \\frac{9}{7}&9&-1\\\\\\frac{23}{15}&0&0&- \\frac{1}{5}\\\\ \\end{array} \\right]$</p>"
            ],
            "image/png": "$\\left[ \\begin{array}{cccc}1&0&0&0\\\\- \\frac{2}{3}&1&-10&1\\\\\\frac{5}{3}&- \\frac{9}{7}&9&-1\\\\\\frac{23}{15}&0&0&- \\frac{1}{5}\\\\ \\end{array} \\right]$",
            "text/latex": "$\\left[ \\begin{array}{cccc}1&0&0&0\\\\- \\frac{2}{3}&1&-10&1\\\\\\frac{5}{3}&- \\frac{9}{7}&9&-1\\\\\\frac{23}{15}&0&0&- \\frac{1}{5}\\\\ \\end{array} \\right]$"
          },
          "metadata": {},
          "execution_count": 47
        }
      ]
    },
    {
      "cell_type": "markdown",
      "source": [
        "$\\left[ \\begin{array}{cccc}1&0&0&0\\\\0&1&0&1\\\\1&- \\frac{9}{7}&-1&-1\\\\\\frac{7}{5}&0&-2&- \\frac{1}{5}\\\\ \\end{array} \\right]$"
      ],
      "metadata": {
        "id": "D_zoy6Br0q9-"
      }
    },
    {
      "cell_type": "code",
      "source": [
        "M&T((-1,2,4))"
      ],
      "metadata": {
        "colab": {
          "base_uri": "https://localhost:8080/",
          "height": 46
        },
        "id": "q4wRH8-X0uZ5",
        "outputId": "953df5db-5aa1-4512-eedb-719896e57884"
      },
      "execution_count": null,
      "outputs": [
        {
          "output_type": "execute_result",
          "data": {
            "text/plain": [
              "Matrix([Vector([1, -2/3, 5/3, 23/15]), Vector([0, 1, -9/7, 0]), Vector([0, -10, 9, 0]), Vector([0, 0, 2/7, -1/5])])"
            ],
            "text/html": [
              "<p style=\"text-align:center;\">$\\left[ \\begin{array}{cccc}1&0&0&0\\\\- \\frac{2}{3}&1&-10&0\\\\\\frac{5}{3}&- \\frac{9}{7}&9&\\frac{2}{7}\\\\\\frac{23}{15}&0&0&- \\frac{1}{5}\\\\ \\end{array} \\right]$</p>"
            ],
            "image/png": "$\\left[ \\begin{array}{cccc}1&0&0&0\\\\- \\frac{2}{3}&1&-10&0\\\\\\frac{5}{3}&- \\frac{9}{7}&9&\\frac{2}{7}\\\\\\frac{23}{15}&0&0&- \\frac{1}{5}\\\\ \\end{array} \\right]$",
            "text/latex": "$\\left[ \\begin{array}{cccc}1&0&0&0\\\\- \\frac{2}{3}&1&-10&0\\\\\\frac{5}{3}&- \\frac{9}{7}&9&\\frac{2}{7}\\\\\\frac{23}{15}&0&0&- \\frac{1}{5}\\\\ \\end{array} \\right]$"
          },
          "metadata": {},
          "execution_count": 48
        }
      ]
    },
    {
      "cell_type": "markdown",
      "source": [
        "$\\left[ \\begin{array}{cccc}1&0&0&0\\\\0&1&0&0\\\\1&- \\frac{9}{7}&-1&\\frac{2}{7}\\\\\\frac{7}{5}&0&-2&- \\frac{1}{5}\\\\ \\end{array} \\right]$"
      ],
      "metadata": {
        "id": "0Gxg9PSqnkyO"
      }
    },
    {
      "cell_type": "code",
      "source": [
        "M&T((fracc(-1,1),3))"
      ],
      "metadata": {
        "colab": {
          "base_uri": "https://localhost:8080/",
          "height": 46
        },
        "id": "nkvbn_htim6c",
        "outputId": "65d64c4a-deb1-40a3-d7f1-a0346f5e0e14"
      },
      "execution_count": null,
      "outputs": [
        {
          "output_type": "execute_result",
          "data": {
            "text/plain": [
              "Matrix([Vector([1, -2/3, 5/3, 23/15]), Vector([0, 1, -9/7, 0]), Vector([0, 10, -9, 0]), Vector([0, 0, 2/7, -1/5])])"
            ],
            "text/html": [
              "<p style=\"text-align:center;\">$\\left[ \\begin{array}{cccc}1&0&0&0\\\\- \\frac{2}{3}&1&10&0\\\\\\frac{5}{3}&- \\frac{9}{7}&-9&\\frac{2}{7}\\\\\\frac{23}{15}&0&0&- \\frac{1}{5}\\\\ \\end{array} \\right]$</p>"
            ],
            "image/png": "$\\left[ \\begin{array}{cccc}1&0&0&0\\\\- \\frac{2}{3}&1&10&0\\\\\\frac{5}{3}&- \\frac{9}{7}&-9&\\frac{2}{7}\\\\\\frac{23}{15}&0&0&- \\frac{1}{5}\\\\ \\end{array} \\right]$",
            "text/latex": "$\\left[ \\begin{array}{cccc}1&0&0&0\\\\- \\frac{2}{3}&1&10&0\\\\\\frac{5}{3}&- \\frac{9}{7}&-9&\\frac{2}{7}\\\\\\frac{23}{15}&0&0&- \\frac{1}{5}\\\\ \\end{array} \\right]$"
          },
          "metadata": {},
          "execution_count": 49
        }
      ]
    },
    {
      "cell_type": "markdown",
      "source": [
        "$\\left[ \\begin{array}{cccc}1&0&0&0\\\\0&1&0&0\\\\1&- \\frac{9}{7}&1&\\frac{2}{7}\\\\\\frac{7}{5}&0&2&- \\frac{1}{5}\\\\ \\end{array} \\right]$"
      ],
      "metadata": {
        "id": "kiBX2J0PnrsP"
      }
    },
    {
      "cell_type": "code",
      "source": [
        "M&T((-1,3,1))"
      ],
      "metadata": {
        "colab": {
          "base_uri": "https://localhost:8080/",
          "height": 46
        },
        "id": "PrEIIPM3n8e0",
        "outputId": "a7302b57-6a8a-4f00-8a17-fde197930708"
      },
      "execution_count": null,
      "outputs": [
        {
          "output_type": "execute_result",
          "data": {
            "text/plain": [
              "Matrix([Vector([1, -32/3, 32/3, 23/15]), Vector([0, 1, -9/7, 0]), Vector([0, 10, -9, 0]), Vector([0, 0, 2/7, -1/5])])"
            ],
            "text/html": [
              "<p style=\"text-align:center;\">$\\left[ \\begin{array}{cccc}1&0&0&0\\\\- \\frac{32}{3}&1&10&0\\\\\\frac{32}{3}&- \\frac{9}{7}&-9&\\frac{2}{7}\\\\\\frac{23}{15}&0&0&- \\frac{1}{5}\\\\ \\end{array} \\right]$</p>"
            ],
            "image/png": "$\\left[ \\begin{array}{cccc}1&0&0&0\\\\- \\frac{32}{3}&1&10&0\\\\\\frac{32}{3}&- \\frac{9}{7}&-9&\\frac{2}{7}\\\\\\frac{23}{15}&0&0&- \\frac{1}{5}\\\\ \\end{array} \\right]$",
            "text/latex": "$\\left[ \\begin{array}{cccc}1&0&0&0\\\\- \\frac{32}{3}&1&10&0\\\\\\frac{32}{3}&- \\frac{9}{7}&-9&\\frac{2}{7}\\\\\\frac{23}{15}&0&0&- \\frac{1}{5}\\\\ \\end{array} \\right]$"
          },
          "metadata": {},
          "execution_count": 50
        }
      ]
    },
    {
      "cell_type": "markdown",
      "source": [
        "$\\left[ \\begin{array}{cccc}1&0&0&0\\\\0&1&0&0\\\\0&- \\frac{9}{7}&1&\\frac{2}{7}\\\\- \\frac{3}{5}&0&2&- \\frac{1}{5}\\\\ \\end{array} \\right]$"
      ],
      "metadata": {
        "id": "aEYeAEtWoeOF"
      }
    },
    {
      "cell_type": "code",
      "source": [
        "M&T((fracc(9,7),3,2))\n",
        "M&T((fracc(-2,7),3,4))"
      ],
      "metadata": {
        "colab": {
          "base_uri": "https://localhost:8080/",
          "height": 46
        },
        "id": "txV6aZCcpEV6",
        "outputId": "ae1d7123-0d49-4a61-e07c-4bd664046a51"
      },
      "execution_count": null,
      "outputs": [
        {
          "output_type": "execute_result",
          "data": {
            "text/plain": [
              "Matrix([Vector([1, -32/3, 32/3, 23/15]), Vector([0, 97/7, -90/7, 0]), Vector([0, 10, -9, 0]), Vector([0, -20/7, 20/7, -1/5])])"
            ],
            "text/html": [
              "<p style=\"text-align:center;\">$\\left[ \\begin{array}{cccc}1&0&0&0\\\\- \\frac{32}{3}&\\frac{97}{7}&10&- \\frac{20}{7}\\\\\\frac{32}{3}&- \\frac{90}{7}&-9&\\frac{20}{7}\\\\\\frac{23}{15}&0&0&- \\frac{1}{5}\\\\ \\end{array} \\right]$</p>"
            ],
            "image/png": "$\\left[ \\begin{array}{cccc}1&0&0&0\\\\- \\frac{32}{3}&\\frac{97}{7}&10&- \\frac{20}{7}\\\\\\frac{32}{3}&- \\frac{90}{7}&-9&\\frac{20}{7}\\\\\\frac{23}{15}&0&0&- \\frac{1}{5}\\\\ \\end{array} \\right]$",
            "text/latex": "$\\left[ \\begin{array}{cccc}1&0&0&0\\\\- \\frac{32}{3}&\\frac{97}{7}&10&- \\frac{20}{7}\\\\\\frac{32}{3}&- \\frac{90}{7}&-9&\\frac{20}{7}\\\\\\frac{23}{15}&0&0&- \\frac{1}{5}\\\\ \\end{array} \\right]$"
          },
          "metadata": {},
          "execution_count": 51
        }
      ]
    },
    {
      "cell_type": "markdown",
      "source": [
        "$\\left[ \\begin{array}{cccc}1&0&0&0\\\\0&1&0&0\\\\0&0&1&0\\\\- \\frac{3}{5}&\\frac{18}{7}&2&- \\frac{27}{35}\\\\ \\end{array} \\right]$"
      ],
      "metadata": {
        "id": "RTixXmekqMr2"
      }
    },
    {
      "cell_type": "code",
      "source": [
        "M&T((fracc(-35,27),4))"
      ],
      "metadata": {
        "colab": {
          "base_uri": "https://localhost:8080/",
          "height": 46
        },
        "id": "2qGSiF7R07Ds",
        "outputId": "b5fd8507-4edb-46c6-d17e-c0b2faebabe3"
      },
      "execution_count": null,
      "outputs": [
        {
          "output_type": "execute_result",
          "data": {
            "text/plain": [
              "Matrix([Vector([1, -32/3, 32/3, 23/15]), Vector([0, 97/7, -90/7, 0]), Vector([0, 10, -9, 0]), Vector([0, 100/27, -100/27, 7/27])])"
            ],
            "text/html": [
              "<p style=\"text-align:center;\">$\\left[ \\begin{array}{cccc}1&0&0&0\\\\- \\frac{32}{3}&\\frac{97}{7}&10&\\frac{100}{27}\\\\\\frac{32}{3}&- \\frac{90}{7}&-9&- \\frac{100}{27}\\\\\\frac{23}{15}&0&0&\\frac{7}{27}\\\\ \\end{array} \\right]$</p>"
            ],
            "image/png": "$\\left[ \\begin{array}{cccc}1&0&0&0\\\\- \\frac{32}{3}&\\frac{97}{7}&10&\\frac{100}{27}\\\\\\frac{32}{3}&- \\frac{90}{7}&-9&- \\frac{100}{27}\\\\\\frac{23}{15}&0&0&\\frac{7}{27}\\\\ \\end{array} \\right]$",
            "text/latex": "$\\left[ \\begin{array}{cccc}1&0&0&0\\\\- \\frac{32}{3}&\\frac{97}{7}&10&\\frac{100}{27}\\\\\\frac{32}{3}&- \\frac{90}{7}&-9&- \\frac{100}{27}\\\\\\frac{23}{15}&0&0&\\frac{7}{27}\\\\ \\end{array} \\right]$"
          },
          "metadata": {},
          "execution_count": 52
        }
      ]
    },
    {
      "cell_type": "markdown",
      "source": [
        "$\\left[ \\begin{array}{cccc}1&0&0&0\\\\0&1&0&0\\\\0&0&1&0\\\\- \\frac{3}{5}&\\frac{18}{7}&2&1\\\\ \\end{array} \\right]$"
      ],
      "metadata": {
        "id": "8iJOnfrowH6a"
      }
    },
    {
      "cell_type": "code",
      "source": [
        "M&T((fracc(3,5),4,1))\n",
        "M&T((fracc(-18,7),4,2))\n",
        "M&T((-2,4,3))"
      ],
      "metadata": {
        "colab": {
          "base_uri": "https://localhost:8080/",
          "height": 46
        },
        "id": "bYNTMRMBwTmZ",
        "outputId": "79c9787f-f13e-402f-9215-8fff0a5dedf5"
      },
      "execution_count": null,
      "outputs": [
        {
          "output_type": "execute_result",
          "data": {
            "text/plain": [
              "Matrix([Vector([18/5, -4/5, 22/5, 26/5]), Vector([-32/7, 47/7, -65/7, -64/7]), Vector([0, 5, -6, -3]), Vector([1, -3, 4, 2])])"
            ],
            "text/html": [
              "<p style=\"text-align:center;\">$\\left[ \\begin{array}{cccc}\\frac{18}{5}&- \\frac{32}{7}&0&1\\\\- \\frac{4}{5}&\\frac{47}{7}&5&-3\\\\\\frac{22}{5}&- \\frac{65}{7}&-6&4\\\\\\frac{26}{5}&- \\frac{64}{7}&-3&2\\\\ \\end{array} \\right]$</p>"
            ],
            "image/png": "$\\left[ \\begin{array}{cccc}\\frac{18}{5}&- \\frac{32}{7}&0&1\\\\- \\frac{4}{5}&\\frac{47}{7}&5&-3\\\\\\frac{22}{5}&- \\frac{65}{7}&-6&4\\\\\\frac{26}{5}&- \\frac{64}{7}&-3&2\\\\ \\end{array} \\right]$",
            "text/latex": "$\\left[ \\begin{array}{cccc}\\frac{18}{5}&- \\frac{32}{7}&0&1\\\\- \\frac{4}{5}&\\frac{47}{7}&5&-3\\\\\\frac{22}{5}&- \\frac{65}{7}&-6&4\\\\\\frac{26}{5}&- \\frac{64}{7}&-3&2\\\\ \\end{array} \\right]$"
          },
          "metadata": {},
          "execution_count": 4
        }
      ]
    },
    {
      "cell_type": "markdown",
      "source": [
        "$\\left[ \\begin{array}{cccc}1&0&0&0\\\\0&1&0&0\\\\0&0&1&0\\\\0&0&0&1\\\\ \\end{array} \\right]$"
      ],
      "metadata": {
        "id": "vd3lMzMjxFGG"
      }
    },
    {
      "cell_type": "markdown",
      "source": [
        "2. Escriba las siguientes matrices elementales de orden 4.\n",
        "\n",
        "\n",
        "(a) I τ\n",
        "[(−7)1+3]\n",
        "\n",
        "(b) I τ\n",
        "[(1)1+4]\n",
        "\n",
        "(c) I τ\n",
        "[(3)2+1]\n",
        "\n",
        "(d) I τ\n",
        "[(−10)3]"
      ],
      "metadata": {
        "id": "2wXEkEH9hXGe"
      }
    },
    {
      "cell_type": "markdown",
      "source": [
        "# 1.A"
      ],
      "metadata": {
        "id": "cF-732KLAgL4"
      }
    },
    {
      "cell_type": "code",
      "source": [
        "B = I(4)\n",
        "B"
      ],
      "metadata": {
        "colab": {
          "base_uri": "https://localhost:8080/",
          "height": 46
        },
        "id": "m-v3xjqSAktf",
        "outputId": "d414b7e1-212e-4bd7-fda3-9bfa20cc15b0"
      },
      "execution_count": 17,
      "outputs": [
        {
          "output_type": "execute_result",
          "data": {
            "text/plain": [
              "Matrix([Vector([1, 0, 0, 0]), Vector([0, 1, 0, 0]), Vector([0, 0, 1, 0]), Vector([0, 0, 0, 1])])"
            ],
            "text/html": [
              "<p style=\"text-align:center;\">$\\left[ \\begin{array}{cccc}1&0&0&0\\\\0&1&0&0\\\\0&0&1&0\\\\0&0&0&1\\\\ \\end{array} \\right]$</p>"
            ],
            "image/png": "$\\left[ \\begin{array}{cccc}1&0&0&0\\\\0&1&0&0\\\\0&0&1&0\\\\0&0&0&1\\\\ \\end{array} \\right]$",
            "text/latex": "$\\left[ \\begin{array}{cccc}1&0&0&0\\\\0&1&0&0\\\\0&0&1&0\\\\0&0&0&1\\\\ \\end{array} \\right]$"
          },
          "metadata": {},
          "execution_count": 17
        }
      ]
    },
    {
      "cell_type": "markdown",
      "source": [
        "$\\left[ \\begin{array}{cccc}1&0&0&0\\\\0&1&0&0\\\\0&0&1&0\\\\0&0&0&1\\\\ \\end{array} \\right]$"
      ],
      "metadata": {
        "id": "5yGpSS6uAwbs"
      }
    },
    {
      "cell_type": "code",
      "source": [
        "B&T((-7,1,3))"
      ],
      "metadata": {
        "colab": {
          "base_uri": "https://localhost:8080/",
          "height": 46
        },
        "id": "YNkxmmaKA5gn",
        "outputId": "678e208c-165a-489a-b445-d4f201bd01fa"
      },
      "execution_count": 7,
      "outputs": [
        {
          "output_type": "execute_result",
          "data": {
            "text/plain": [
              "Matrix([Vector([1, 0, 0, 0]), Vector([0, 1, 0, 0]), Vector([-7, 0, 1, 0]), Vector([0, 0, 0, 1])])"
            ],
            "text/html": [
              "<p style=\"text-align:center;\">$\\left[ \\begin{array}{cccc}1&0&-7&0\\\\0&1&0&0\\\\0&0&1&0\\\\0&0&0&1\\\\ \\end{array} \\right]$</p>"
            ],
            "image/png": "$\\left[ \\begin{array}{cccc}1&0&-7&0\\\\0&1&0&0\\\\0&0&1&0\\\\0&0&0&1\\\\ \\end{array} \\right]$",
            "text/latex": "$\\left[ \\begin{array}{cccc}1&0&-7&0\\\\0&1&0&0\\\\0&0&1&0\\\\0&0&0&1\\\\ \\end{array} \\right]$"
          },
          "metadata": {},
          "execution_count": 7
        }
      ]
    },
    {
      "cell_type": "markdown",
      "source": [
        "$\\left[ \\begin{array}{cccc}1&0&-7&0\\\\0&1&0&0\\\\0&0&1&0\\\\0&0&0&1\\\\ \\end{array} \\right]$"
      ],
      "metadata": {
        "id": "rjVPo99PA87c"
      }
    },
    {
      "cell_type": "markdown",
      "source": [
        "# 2.B"
      ],
      "metadata": {
        "id": "ls9NNFJmBCjD"
      }
    },
    {
      "cell_type": "code",
      "source": [
        "B&T((1,1,4))"
      ],
      "metadata": {
        "colab": {
          "base_uri": "https://localhost:8080/",
          "height": 46
        },
        "id": "oimB8qPWxWco",
        "outputId": "44e5202f-5908-4d8b-ac01-2d83f655f5ef"
      },
      "execution_count": 13,
      "outputs": [
        {
          "output_type": "execute_result",
          "data": {
            "text/plain": [
              "Matrix([Vector([1, 0, 0, 0]), Vector([0, 1, 0, 0]), Vector([0, 0, 1, 0]), Vector([1, 0, 0, 1])])"
            ],
            "text/html": [
              "<p style=\"text-align:center;\">$\\left[ \\begin{array}{cccc}1&0&0&1\\\\0&1&0&0\\\\0&0&1&0\\\\0&0&0&1\\\\ \\end{array} \\right]$</p>"
            ],
            "image/png": "$\\left[ \\begin{array}{cccc}1&0&0&1\\\\0&1&0&0\\\\0&0&1&0\\\\0&0&0&1\\\\ \\end{array} \\right]$",
            "text/latex": "$\\left[ \\begin{array}{cccc}1&0&0&1\\\\0&1&0&0\\\\0&0&1&0\\\\0&0&0&1\\\\ \\end{array} \\right]$"
          },
          "metadata": {},
          "execution_count": 13
        }
      ]
    },
    {
      "cell_type": "markdown",
      "source": [
        "$\\left[ \\begin{array}{cccc}1&0&0&1\\\\0&1&0&0\\\\0&0&1&0\\\\0&0&0&1\\\\ \\end{array} \\right]$"
      ],
      "metadata": {
        "id": "m5ttu_LOxjbl"
      }
    },
    {
      "cell_type": "markdown",
      "source": [
        "## 3.C"
      ],
      "metadata": {
        "id": "AZOUIQOnCeKa"
      }
    },
    {
      "cell_type": "code",
      "source": [
        "B&T((3,2,1))"
      ],
      "metadata": {
        "colab": {
          "base_uri": "https://localhost:8080/",
          "height": 46
        },
        "id": "xtczCqCRCiNz",
        "outputId": "45a6b110-df0a-4d69-8b01-387696b1fde1"
      },
      "execution_count": 16,
      "outputs": [
        {
          "output_type": "execute_result",
          "data": {
            "text/plain": [
              "Matrix([Vector([1, 3, 0, 0]), Vector([0, 1, 0, 0]), Vector([0, 0, 1, 0]), Vector([0, 0, 0, 1])])"
            ],
            "text/html": [
              "<p style=\"text-align:center;\">$\\left[ \\begin{array}{cccc}1&0&0&0\\\\3&1&0&0\\\\0&0&1&0\\\\0&0&0&1\\\\ \\end{array} \\right]$</p>"
            ],
            "image/png": "$\\left[ \\begin{array}{cccc}1&0&0&0\\\\3&1&0&0\\\\0&0&1&0\\\\0&0&0&1\\\\ \\end{array} \\right]$",
            "text/latex": "$\\left[ \\begin{array}{cccc}1&0&0&0\\\\3&1&0&0\\\\0&0&1&0\\\\0&0&0&1\\\\ \\end{array} \\right]$"
          },
          "metadata": {},
          "execution_count": 16
        }
      ]
    },
    {
      "cell_type": "markdown",
      "source": [
        "$\\left[ \\begin{array}{cccc}1&0&0&0\\\\3&1&0&0\\\\0&0&1&0\\\\0&0&0&1\\\\ \\end{array} \\right]$"
      ],
      "metadata": {
        "id": "yidxL2aux9_H"
      }
    },
    {
      "cell_type": "markdown",
      "source": [
        "# 4.D"
      ],
      "metadata": {
        "id": "u1SVemWCCt9K"
      }
    },
    {
      "cell_type": "code",
      "source": [
        "B&T((-10,3))"
      ],
      "metadata": {
        "colab": {
          "base_uri": "https://localhost:8080/",
          "height": 46
        },
        "id": "BTPs0Q3-C_CB",
        "outputId": "f3fae7b5-40d4-4de6-89fb-d27a994aa8c5"
      },
      "execution_count": 18,
      "outputs": [
        {
          "output_type": "execute_result",
          "data": {
            "text/plain": [
              "Matrix([Vector([1, 0, 0, 0]), Vector([0, 1, 0, 0]), Vector([0, 0, -10, 0]), Vector([0, 0, 0, 1])])"
            ],
            "text/html": [
              "<p style=\"text-align:center;\">$\\left[ \\begin{array}{cccc}1&0&0&0\\\\0&1&0&0\\\\0&0&-10&0\\\\0&0&0&1\\\\ \\end{array} \\right]$</p>"
            ],
            "image/png": "$\\left[ \\begin{array}{cccc}1&0&0&0\\\\0&1&0&0\\\\0&0&-10&0\\\\0&0&0&1\\\\ \\end{array} \\right]$",
            "text/latex": "$\\left[ \\begin{array}{cccc}1&0&0&0\\\\0&1&0&0\\\\0&0&-10&0\\\\0&0&0&1\\\\ \\end{array} \\right]$"
          },
          "metadata": {},
          "execution_count": 18
        }
      ]
    },
    {
      "cell_type": "markdown",
      "source": [
        "$\\left[ \\begin{array}{cccc}1&0&0&0\\\\0&1&0&0\\\\0&0&-10&0\\\\0&0&0&1\\\\ \\end{array} \\right]$"
      ],
      "metadata": {
        "id": "gq9llOLkyHxZ"
      }
    },
    {
      "cell_type": "markdown",
      "source": [
        "3. Sea la matriz A = $\\left[ \\begin{array}{cccc}1&1&1&1\\\\0&1&1&1\\\\1&2&3&4\\\\4&-4&1&2\\\\ \\end{array} \\right]$\n",
        ", exprese las siguientes transformaciones elementales de\n",
        "\n",
        "A como productos de A por matrices elementales y escriba el resultado:\n",
        "\n",
        "(a) Multiplicar la primera columna por 3. (b) Restar la primera columna de la segunda."
      ],
      "metadata": {
        "id": "pwJzrogtFnkN"
      }
    },
    {
      "cell_type": "code",
      "source": [
        "3*(A|1)"
      ],
      "metadata": {
        "colab": {
          "base_uri": "https://localhost:8080/",
          "height": 46
        },
        "id": "eo237JFV8hSu",
        "outputId": "4a9e4c65-6367-4df3-c194-2305a569ca2c"
      },
      "execution_count": null,
      "outputs": [
        {
          "output_type": "execute_result",
          "data": {
            "text/plain": [
              "Vector([3, 0, 3, 12])"
            ],
            "text/html": [
              "<p style=\"text-align:center;\">$\\begin{pmatrix}3\\\\ 0\\\\ 3\\\\ 12\\end{pmatrix}$</p>"
            ],
            "image/png": "$\\begin{pmatrix}3\\\\ 0\\\\ 3\\\\ 12\\end{pmatrix}$",
            "text/latex": "$\\begin{pmatrix}3\\\\ 0\\\\ 3\\\\ 12\\end{pmatrix}$"
          },
          "metadata": {},
          "execution_count": 46
        }
      ]
    },
    {
      "cell_type": "markdown",
      "source": [
        "$\\begin{pmatrix}3\\\\ 0\\\\ 3\\\\ 12\\end{pmatrix}$"
      ],
      "metadata": {
        "id": "0OjLwNbu8scf"
      }
    },
    {
      "cell_type": "code",
      "source": [
        "(A|1)-(A|2)\n"
      ],
      "metadata": {
        "colab": {
          "base_uri": "https://localhost:8080/",
          "height": 46
        },
        "id": "jG3yu6vd884R",
        "outputId": "c7c4b1ba-9137-4f0b-ef72-fb2ad387726a"
      },
      "execution_count": null,
      "outputs": [
        {
          "output_type": "execute_result",
          "data": {
            "text/plain": [
              "Vector([0, -1, -1, 8])"
            ],
            "text/html": [
              "<p style=\"text-align:center;\">$\\begin{pmatrix}0\\\\ -1\\\\ -1\\\\ 8\\end{pmatrix}$</p>"
            ],
            "image/png": "$\\begin{pmatrix}0\\\\ -1\\\\ -1\\\\ 8\\end{pmatrix}$",
            "text/latex": "$\\begin{pmatrix}0\\\\ -1\\\\ -1\\\\ 8\\end{pmatrix}$"
          },
          "metadata": {},
          "execution_count": 47
        }
      ]
    },
    {
      "cell_type": "markdown",
      "source": [
        "$\\begin{pmatrix}0\\\\ -1\\\\ -1\\\\ 8\\end{pmatrix}$"
      ],
      "metadata": {
        "id": "jVxM2zVB9HMl"
      }
    },
    {
      "cell_type": "code",
      "source": [
        "l= Vector((1,0,1,4)); m=Vector((1,1,2,-4)); n= Vector((1,1,3,1)); o=Vector((1,1,4,2))\n",
        "A= Matrix([l,m,n,o])\n",
        "A"
      ],
      "metadata": {
        "colab": {
          "base_uri": "https://localhost:8080/",
          "height": 46
        },
        "id": "aevhg6_mjP_O",
        "outputId": "f81f1fd9-7ecf-4035-851e-07b428effe79"
      },
      "execution_count": null,
      "outputs": [
        {
          "output_type": "execute_result",
          "data": {
            "text/plain": [
              "Matrix([Vector([1, 0, 1, 4]), Vector([1, 1, 2, -4]), Vector([1, 1, 3, 1]), Vector([1, 1, 4, 2])])"
            ],
            "text/html": [
              "<p style=\"text-align:center;\">$\\left[ \\begin{array}{cccc}1&1&1&1\\\\0&1&1&1\\\\1&2&3&4\\\\4&-4&1&2\\\\ \\end{array} \\right]$</p>"
            ],
            "image/png": "$\\left[ \\begin{array}{cccc}1&1&1&1\\\\0&1&1&1\\\\1&2&3&4\\\\4&-4&1&2\\\\ \\end{array} \\right]$",
            "text/latex": "$\\left[ \\begin{array}{cccc}1&1&1&1\\\\0&1&1&1\\\\1&2&3&4\\\\4&-4&1&2\\\\ \\end{array} \\right]$"
          },
          "metadata": {},
          "execution_count": 45
        }
      ]
    },
    {
      "cell_type": "markdown",
      "source": [
        "$\\left[ \\begin{array}{cccc}1&1&1&1\\\\0&1&1&1\\\\1&2&3&4\\\\4&-4&1&2\\\\ \\end{array} \\right]$"
      ],
      "metadata": {
        "id": "xyzWgr2Kj_O9"
      }
    },
    {
      "cell_type": "markdown",
      "source": [
        "4. Realiza el algoritmo de eliminación de Gauss-Jordan para la matriz del ejercicio 1, es decir continua las modificaciones de la matriz mediante operaciones elementales.\n",
        "Por cada paso del algoritmo escribe la celda de código correspondiente."
      ],
      "metadata": {
        "id": "NRMqK0VmB6px"
      }
    },
    {
      "cell_type": "code",
      "source": [
        "a= Vector((3,1,2,4)); b=Vector((-2,-1,1,-4)); c= Vector((2,-1,2,1)); d=Vector((1,-3,4,2))\n",
        "M= Matrix([a,b,c,d])\n",
        "M"
      ],
      "metadata": {
        "colab": {
          "base_uri": "https://localhost:8080/",
          "height": 46
        },
        "id": "fZx0AkM6_CDP",
        "outputId": "e759ba70-1298-4644-83ec-7e12badbbcf5"
      },
      "execution_count": null,
      "outputs": [
        {
          "output_type": "execute_result",
          "data": {
            "text/plain": [
              "Matrix([Vector([3, 1, 2, 4]), Vector([-2, -1, 1, -4]), Vector([2, -1, 2, 1]), Vector([1, -3, 4, 2])])"
            ],
            "text/html": [
              "<p style=\"text-align:center;\">$\\left[ \\begin{array}{cccc}3&-2&2&1\\\\1&-1&-1&-3\\\\2&1&2&4\\\\4&-4&1&2\\\\ \\end{array} \\right]$</p>"
            ],
            "image/png": "$\\left[ \\begin{array}{cccc}3&-2&2&1\\\\1&-1&-1&-3\\\\2&1&2&4\\\\4&-4&1&2\\\\ \\end{array} \\right]$",
            "text/latex": "$\\left[ \\begin{array}{cccc}3&-2&2&1\\\\1&-1&-1&-3\\\\2&1&2&4\\\\4&-4&1&2\\\\ \\end{array} \\right]$"
          },
          "metadata": {},
          "execution_count": 120
        }
      ]
    },
    {
      "cell_type": "markdown",
      "source": [
        "$\\left[ \\begin{array}{cccc}3&-2&2&1\\\\1&-1&-1&-3\\\\2&1&2&4\\\\4&-4&1&2\\\\ \\end{array} \\right]$"
      ],
      "metadata": {
        "id": "oXpAFjpR_RkA"
      }
    },
    {
      "cell_type": "code",
      "source": [
        "M&T((fracc(1,3),1))"
      ],
      "metadata": {
        "colab": {
          "base_uri": "https://localhost:8080/",
          "height": 46
        },
        "id": "BVBvaicxQQFE",
        "outputId": "e40a35b8-11a5-49a9-aec1-4074f43bb35e"
      },
      "execution_count": null,
      "outputs": [
        {
          "output_type": "execute_result",
          "data": {
            "text/plain": [
              "Matrix([Vector([1, 1/3, 2/3, 4/3]), Vector([-2, -1, 1, -4]), Vector([2, -1, 2, 1]), Vector([1, -3, 4, 2])])"
            ],
            "text/html": [
              "<p style=\"text-align:center;\">$\\left[ \\begin{array}{cccc}1&-2&2&1\\\\\\frac{1}{3}&-1&-1&-3\\\\\\frac{2}{3}&1&2&4\\\\\\frac{4}{3}&-4&1&2\\\\ \\end{array} \\right]$</p>"
            ],
            "image/png": "$\\left[ \\begin{array}{cccc}1&-2&2&1\\\\\\frac{1}{3}&-1&-1&-3\\\\\\frac{2}{3}&1&2&4\\\\\\frac{4}{3}&-4&1&2\\\\ \\end{array} \\right]$",
            "text/latex": "$\\left[ \\begin{array}{cccc}1&-2&2&1\\\\\\frac{1}{3}&-1&-1&-3\\\\\\frac{2}{3}&1&2&4\\\\\\frac{4}{3}&-4&1&2\\\\ \\end{array} \\right]$"
          },
          "metadata": {},
          "execution_count": 121
        }
      ]
    },
    {
      "cell_type": "markdown",
      "source": [
        "$\\left[ \\begin{array}{cccc}1&-2&2&1\\\\\\frac{1}{3}&-1&-1&-3\\\\\\frac{2}{3}&1&2&4\\\\\\frac{4}{3}&-4&1&2\\\\ \\end{array} \\right]$"
      ],
      "metadata": {
        "id": "QakJmZvUSGEa"
      }
    },
    {
      "cell_type": "code",
      "source": [
        "M&T((fracc(1,3),2,1))"
      ],
      "metadata": {
        "colab": {
          "base_uri": "https://localhost:8080/",
          "height": 46
        },
        "id": "Dzz8_RGMSXq4",
        "outputId": "52e971af-6f60-4f94-9a2b-499ecb1ed6eb"
      },
      "execution_count": null,
      "outputs": [
        {
          "output_type": "execute_result",
          "data": {
            "text/plain": [
              "Matrix([Vector([1/3, 0, 1, 0]), Vector([-2, -1, 1, -4]), Vector([2, -1, 2, 1]), Vector([1, -3, 4, 2])])"
            ],
            "text/html": [
              "<p style=\"text-align:center;\">$\\left[ \\begin{array}{cccc}\\frac{1}{3}&-2&2&1\\\\0&-1&-1&-3\\\\1&1&2&4\\\\0&-4&1&2\\\\ \\end{array} \\right]$</p>"
            ],
            "image/png": "$\\left[ \\begin{array}{cccc}\\frac{1}{3}&-2&2&1\\\\0&-1&-1&-3\\\\1&1&2&4\\\\0&-4&1&2\\\\ \\end{array} \\right]$",
            "text/latex": "$\\left[ \\begin{array}{cccc}\\frac{1}{3}&-2&2&1\\\\0&-1&-1&-3\\\\1&1&2&4\\\\0&-4&1&2\\\\ \\end{array} \\right]$"
          },
          "metadata": {},
          "execution_count": 122
        }
      ]
    },
    {
      "cell_type": "markdown",
      "source": [
        "$\\left[ \\begin{array}{cccc}\\frac{1}{3}&-2&2&1\\\\0&-1&-1&-3\\\\1&1&2&4\\\\0&-4&1&2\\\\ \\end{array} \\right]$"
      ],
      "metadata": {
        "id": "E8FsP9k3SwsT"
      }
    },
    {
      "cell_type": "code",
      "source": [
        "M&T((-1,2))"
      ],
      "metadata": {
        "colab": {
          "base_uri": "https://localhost:8080/",
          "height": 46
        },
        "id": "ITje57K1S4zg",
        "outputId": "87d1dbf7-e2c8-4797-da5d-db13f6b0df67"
      },
      "execution_count": null,
      "outputs": [
        {
          "output_type": "execute_result",
          "data": {
            "text/plain": [
              "Matrix([Vector([1/3, 0, 1, 0]), Vector([2, 1, -1, 4]), Vector([2, -1, 2, 1]), Vector([1, -3, 4, 2])])"
            ],
            "text/html": [
              "<p style=\"text-align:center;\">$\\left[ \\begin{array}{cccc}\\frac{1}{3}&2&2&1\\\\0&1&-1&-3\\\\1&-1&2&4\\\\0&4&1&2\\\\ \\end{array} \\right]$</p>"
            ],
            "image/png": "$\\left[ \\begin{array}{cccc}\\frac{1}{3}&2&2&1\\\\0&1&-1&-3\\\\1&-1&2&4\\\\0&4&1&2\\\\ \\end{array} \\right]$",
            "text/latex": "$\\left[ \\begin{array}{cccc}\\frac{1}{3}&2&2&1\\\\0&1&-1&-3\\\\1&-1&2&4\\\\0&4&1&2\\\\ \\end{array} \\right]$"
          },
          "metadata": {},
          "execution_count": 123
        }
      ]
    },
    {
      "cell_type": "markdown",
      "source": [
        "$\\left[ \\begin{array}{cccc}\\frac{1}{3}&2&2&1\\\\0&1&-1&-3\\\\1&-1&2&4\\\\0&4&1&2\\\\ \\end{array} \\right]$"
      ],
      "metadata": {
        "id": "rgDKl2Y6WDGr"
      }
    },
    {
      "cell_type": "code",
      "source": [
        "M&T((2,2,3))"
      ],
      "metadata": {
        "colab": {
          "base_uri": "https://localhost:8080/",
          "height": 46
        },
        "id": "8Gied0L-Wkcu",
        "outputId": "6ff0f147-eb28-4489-d238-a9a971df0851"
      },
      "execution_count": null,
      "outputs": [
        {
          "output_type": "execute_result",
          "data": {
            "text/plain": [
              "Matrix([Vector([1/3, 0, 1, 0]), Vector([2, 1, -1, 4]), Vector([6, 1, 0, 9]), Vector([1, -3, 4, 2])])"
            ],
            "text/html": [
              "<p style=\"text-align:center;\">$\\left[ \\begin{array}{cccc}\\frac{1}{3}&2&6&1\\\\0&1&1&-3\\\\1&-1&0&4\\\\0&4&9&2\\\\ \\end{array} \\right]$</p>"
            ],
            "image/png": "$\\left[ \\begin{array}{cccc}\\frac{1}{3}&2&6&1\\\\0&1&1&-3\\\\1&-1&0&4\\\\0&4&9&2\\\\ \\end{array} \\right]$",
            "text/latex": "$\\left[ \\begin{array}{cccc}\\frac{1}{3}&2&6&1\\\\0&1&1&-3\\\\1&-1&0&4\\\\0&4&9&2\\\\ \\end{array} \\right]$"
          },
          "metadata": {},
          "execution_count": 124
        }
      ]
    },
    {
      "cell_type": "markdown",
      "source": [
        "$\\left[ \\begin{array}{cccc}\\frac{1}{3}&2&6&1\\\\0&1&1&-3\\\\1&-1&0&4\\\\0&4&9&2\\\\ \\end{array} \\right]$"
      ],
      "metadata": {
        "id": "oMTETIfWYCyU"
      }
    },
    {
      "cell_type": "code",
      "source": [
        "M&T((-1,2,3))"
      ],
      "metadata": {
        "colab": {
          "base_uri": "https://localhost:8080/",
          "height": 46
        },
        "id": "UkIVlZwUZ5wp",
        "outputId": "3cf429d2-6d66-4c3d-ef83-ebcaac665bc4"
      },
      "execution_count": null,
      "outputs": [
        {
          "output_type": "execute_result",
          "data": {
            "text/plain": [
              "Matrix([Vector([1/3, 0, 1, 0]), Vector([2, 1, -1, 4]), Vector([4, 0, 1, 5]), Vector([1, -3, 4, 2])])"
            ],
            "text/html": [
              "<p style=\"text-align:center;\">$\\left[ \\begin{array}{cccc}\\frac{1}{3}&2&4&1\\\\0&1&0&-3\\\\1&-1&1&4\\\\0&4&5&2\\\\ \\end{array} \\right]$</p>"
            ],
            "image/png": "$\\left[ \\begin{array}{cccc}\\frac{1}{3}&2&4&1\\\\0&1&0&-3\\\\1&-1&1&4\\\\0&4&5&2\\\\ \\end{array} \\right]$",
            "text/latex": "$\\left[ \\begin{array}{cccc}\\frac{1}{3}&2&4&1\\\\0&1&0&-3\\\\1&-1&1&4\\\\0&4&5&2\\\\ \\end{array} \\right]$"
          },
          "metadata": {},
          "execution_count": 125
        }
      ]
    },
    {
      "cell_type": "markdown",
      "source": [
        "$\\left[ \\begin{array}{cccc}\\frac{1}{3}&2&4&1\\\\0&1&0&-3\\\\1&-1&1&4\\\\0&4&5&2\\\\ \\end{array} \\right]$"
      ],
      "metadata": {
        "id": "OyguciazaDGS"
      }
    },
    {
      "cell_type": "code",
      "source": [
        "M&T((1,3,2))"
      ],
      "metadata": {
        "colab": {
          "base_uri": "https://localhost:8080/",
          "height": 46
        },
        "id": "JF2yQs9Jaaim",
        "outputId": "2db2b7b0-d3cf-41ac-a310-c604571f22ac"
      },
      "execution_count": null,
      "outputs": [
        {
          "output_type": "execute_result",
          "data": {
            "text/plain": [
              "Matrix([Vector([1/3, 0, 1, 0]), Vector([6, 1, 0, 9]), Vector([4, 0, 1, 5]), Vector([1, -3, 4, 2])])"
            ],
            "text/html": [
              "<p style=\"text-align:center;\">$\\left[ \\begin{array}{cccc}\\frac{1}{3}&6&4&1\\\\0&1&0&-3\\\\1&0&1&4\\\\0&9&5&2\\\\ \\end{array} \\right]$</p>"
            ],
            "image/png": "$\\left[ \\begin{array}{cccc}\\frac{1}{3}&6&4&1\\\\0&1&0&-3\\\\1&0&1&4\\\\0&9&5&2\\\\ \\end{array} \\right]$",
            "text/latex": "$\\left[ \\begin{array}{cccc}\\frac{1}{3}&6&4&1\\\\0&1&0&-3\\\\1&0&1&4\\\\0&9&5&2\\\\ \\end{array} \\right]$"
          },
          "metadata": {},
          "execution_count": 126
        }
      ]
    },
    {
      "cell_type": "markdown",
      "source": [
        "$\\left[ \\begin{array}{cccc}\\frac{1}{3}&6&4&1\\\\0&1&0&-3\\\\1&0&1&4\\\\0&9&5&2\\\\ \\end{array} \\right]$"
      ],
      "metadata": {
        "id": "tXH4D7jBa6vO"
      }
    },
    {
      "cell_type": "code",
      "source": [
        "M&T((-4,3,4))"
      ],
      "metadata": {
        "colab": {
          "base_uri": "https://localhost:8080/",
          "height": 46
        },
        "id": "90CWSplMbT55",
        "outputId": "930631f6-abde-4434-9669-b588059d2a35"
      },
      "execution_count": null,
      "outputs": [
        {
          "output_type": "execute_result",
          "data": {
            "text/plain": [
              "Matrix([Vector([1/3, 0, 1, 0]), Vector([6, 1, 0, 9]), Vector([4, 0, 1, 5]), Vector([-15, -3, 0, -18])])"
            ],
            "text/html": [
              "<p style=\"text-align:center;\">$\\left[ \\begin{array}{cccc}\\frac{1}{3}&6&4&-15\\\\0&1&0&-3\\\\1&0&1&0\\\\0&9&5&-18\\\\ \\end{array} \\right]$</p>"
            ],
            "image/png": "$\\left[ \\begin{array}{cccc}\\frac{1}{3}&6&4&-15\\\\0&1&0&-3\\\\1&0&1&0\\\\0&9&5&-18\\\\ \\end{array} \\right]$",
            "text/latex": "$\\left[ \\begin{array}{cccc}\\frac{1}{3}&6&4&-15\\\\0&1&0&-3\\\\1&0&1&0\\\\0&9&5&-18\\\\ \\end{array} \\right]$"
          },
          "metadata": {},
          "execution_count": 127
        }
      ]
    },
    {
      "cell_type": "markdown",
      "source": [
        "$\\left[ \\begin{array}{cccc}\\frac{1}{3}&6&4&-15\\\\0&1&0&-3\\\\1&0&1&0\\\\0&9&5&-18\\\\ \\end{array} \\right]$"
      ],
      "metadata": {
        "id": "93JoiWaobikE"
      }
    },
    {
      "cell_type": "code",
      "source": [
        "M&T((-1,3,1))"
      ],
      "metadata": {
        "colab": {
          "base_uri": "https://localhost:8080/",
          "height": 46
        },
        "id": "-X-MnLWJcOvl",
        "outputId": "eb0d3963-b93e-4c28-f1af-d2fd07958f1a"
      },
      "execution_count": null,
      "outputs": [
        {
          "output_type": "execute_result",
          "data": {
            "text/plain": [
              "Matrix([Vector([-11/3, 0, 0, -5]), Vector([6, 1, 0, 9]), Vector([4, 0, 1, 5]), Vector([-15, -3, 0, -18])])"
            ],
            "text/html": [
              "<p style=\"text-align:center;\">$\\left[ \\begin{array}{cccc}- \\frac{11}{3}&6&4&-15\\\\0&1&0&-3\\\\0&0&1&0\\\\-5&9&5&-18\\\\ \\end{array} \\right]$</p>"
            ],
            "image/png": "$\\left[ \\begin{array}{cccc}- \\frac{11}{3}&6&4&-15\\\\0&1&0&-3\\\\0&0&1&0\\\\-5&9&5&-18\\\\ \\end{array} \\right]$",
            "text/latex": "$\\left[ \\begin{array}{cccc}- \\frac{11}{3}&6&4&-15\\\\0&1&0&-3\\\\0&0&1&0\\\\-5&9&5&-18\\\\ \\end{array} \\right]$"
          },
          "metadata": {},
          "execution_count": 128
        }
      ]
    },
    {
      "cell_type": "markdown",
      "source": [
        "$\\left[ \\begin{array}{cccc}- \\frac{11}{3}&6&4&-15\\\\0&1&0&-3\\\\0&0&1&0\\\\-5&9&5&-18\\\\ \\end{array} \\right]$"
      ],
      "metadata": {
        "id": "Oe2r-mj0ci3J"
      }
    },
    {
      "cell_type": "code",
      "source": [
        "M&T((fracc(-1,18),4))"
      ],
      "metadata": {
        "colab": {
          "base_uri": "https://localhost:8080/",
          "height": 46
        },
        "id": "EfXDHeuxcnTE",
        "outputId": "e51f8165-0d04-4a50-d592-fe9f665bb634"
      },
      "execution_count": null,
      "outputs": [
        {
          "output_type": "execute_result",
          "data": {
            "text/plain": [
              "Matrix([Vector([-11/3, 0, 0, -5]), Vector([6, 1, 0, 9]), Vector([4, 0, 1, 5]), Vector([5/6, 1/6, 0, 1])])"
            ],
            "text/html": [
              "<p style=\"text-align:center;\">$\\left[ \\begin{array}{cccc}- \\frac{11}{3}&6&4&\\frac{5}{6}\\\\0&1&0&\\frac{1}{6}\\\\0&0&1&0\\\\-5&9&5&1\\\\ \\end{array} \\right]$</p>"
            ],
            "image/png": "$\\left[ \\begin{array}{cccc}- \\frac{11}{3}&6&4&\\frac{5}{6}\\\\0&1&0&\\frac{1}{6}\\\\0&0&1&0\\\\-5&9&5&1\\\\ \\end{array} \\right]$",
            "text/latex": "$\\left[ \\begin{array}{cccc}- \\frac{11}{3}&6&4&\\frac{5}{6}\\\\0&1&0&\\frac{1}{6}\\\\0&0&1&0\\\\-5&9&5&1\\\\ \\end{array} \\right]$"
          },
          "metadata": {},
          "execution_count": 129
        }
      ]
    },
    {
      "cell_type": "markdown",
      "source": [
        "$\\left[ \\begin{array}{cccc}- \\frac{11}{3}&6&4&\\frac{5}{6}\\\\0&1&0&\\frac{1}{6}\\\\0&0&1&0\\\\-5&9&5&1\\\\ \\end{array} \\right]$"
      ],
      "metadata": {
        "id": "xf_cq1IWdHlb"
      }
    },
    {
      "cell_type": "code",
      "source": [
        "M&T((-5,4,3))\n",
        "M&T((-9,4,2))\n",
        "M&T((5,4,1))"
      ],
      "metadata": {
        "colab": {
          "base_uri": "https://localhost:8080/",
          "height": 46
        },
        "id": "v4QA7ZSHdNWU",
        "outputId": "e9da263d-9547-4987-a6d6-901682674578"
      },
      "execution_count": null,
      "outputs": [
        {
          "output_type": "execute_result",
          "data": {
            "text/plain": [
              "Matrix([Vector([1/2, 5/6, 0, 0]), Vector([-3/2, -1/2, 0, 0]), Vector([-1/6, -5/6, 1, 0]), Vector([5/6, 1/6, 0, 1])])"
            ],
            "text/html": [
              "<p style=\"text-align:center;\">$\\left[ \\begin{array}{cccc}\\frac{1}{2}&- \\frac{3}{2}&- \\frac{1}{6}&\\frac{5}{6}\\\\\\frac{5}{6}&- \\frac{1}{2}&- \\frac{5}{6}&\\frac{1}{6}\\\\0&0&1&0\\\\0&0&0&1\\\\ \\end{array} \\right]$</p>"
            ],
            "image/png": "$\\left[ \\begin{array}{cccc}\\frac{1}{2}&- \\frac{3}{2}&- \\frac{1}{6}&\\frac{5}{6}\\\\\\frac{5}{6}&- \\frac{1}{2}&- \\frac{5}{6}&\\frac{1}{6}\\\\0&0&1&0\\\\0&0&0&1\\\\ \\end{array} \\right]$",
            "text/latex": "$\\left[ \\begin{array}{cccc}\\frac{1}{2}&- \\frac{3}{2}&- \\frac{1}{6}&\\frac{5}{6}\\\\\\frac{5}{6}&- \\frac{1}{2}&- \\frac{5}{6}&\\frac{1}{6}\\\\0&0&1&0\\\\0&0&0&1\\\\ \\end{array} \\right]$"
          },
          "metadata": {},
          "execution_count": 130
        }
      ]
    },
    {
      "cell_type": "markdown",
      "source": [
        "$\\left[ \\begin{array}{cccc}\\frac{1}{2}&- \\frac{3}{2}&- \\frac{1}{6}&\\frac{5}{6}\\\\\\frac{5}{6}&- \\frac{1}{2}&- \\frac{5}{6}&\\frac{1}{6}\\\\0&0&1&0\\\\0&0&0&1\\\\ \\end{array} \\right]$"
      ],
      "metadata": {
        "id": "BDjCdn8ld3jQ"
      }
    },
    {
      "cell_type": "code",
      "source": [
        "M&T((fracc(-2,1),2))"
      ],
      "metadata": {
        "colab": {
          "base_uri": "https://localhost:8080/",
          "height": 46
        },
        "outputId": "8d55c19b-1dc0-43c1-ddcc-f0a63c469a31",
        "id": "mWP-Jutyen_R"
      },
      "execution_count": null,
      "outputs": [
        {
          "output_type": "execute_result",
          "data": {
            "text/plain": [
              "Matrix([Vector([1/2, 5/6, 0, 0]), Vector([3, 1, 0, 0]), Vector([-1/6, -5/6, 1, 0]), Vector([5/6, 1/6, 0, 1])])"
            ],
            "text/html": [
              "<p style=\"text-align:center;\">$\\left[ \\begin{array}{cccc}\\frac{1}{2}&3&- \\frac{1}{6}&\\frac{5}{6}\\\\\\frac{5}{6}&1&- \\frac{5}{6}&\\frac{1}{6}\\\\0&0&1&0\\\\0&0&0&1\\\\ \\end{array} \\right]$</p>"
            ],
            "image/png": "$\\left[ \\begin{array}{cccc}\\frac{1}{2}&3&- \\frac{1}{6}&\\frac{5}{6}\\\\\\frac{5}{6}&1&- \\frac{5}{6}&\\frac{1}{6}\\\\0&0&1&0\\\\0&0&0&1\\\\ \\end{array} \\right]$",
            "text/latex": "$\\left[ \\begin{array}{cccc}\\frac{1}{2}&3&- \\frac{1}{6}&\\frac{5}{6}\\\\\\frac{5}{6}&1&- \\frac{5}{6}&\\frac{1}{6}\\\\0&0&1&0\\\\0&0&0&1\\\\ \\end{array} \\right]$"
          },
          "metadata": {},
          "execution_count": 131
        }
      ]
    },
    {
      "cell_type": "markdown",
      "source": [
        "$\\left[ \\begin{array}{cccc}\\frac{1}{2}&3&- \\frac{1}{6}&\\frac{5}{6}\\\\\\frac{5}{6}&1&- \\frac{5}{6}&\\frac{1}{6}\\\\0&0&1&0\\\\0&0&0&1\\\\ \\end{array} \\right]$"
      ],
      "metadata": {
        "id": "L4b-tsm3fNBQ"
      }
    },
    {
      "cell_type": "code",
      "source": [
        "M&T((fracc(2,1),1))"
      ],
      "metadata": {
        "colab": {
          "base_uri": "https://localhost:8080/",
          "height": 46
        },
        "id": "3vz0SD6Rfhb6",
        "outputId": "6944af9a-7c49-4910-b19e-95e80cbfd568"
      },
      "execution_count": null,
      "outputs": [
        {
          "output_type": "execute_result",
          "data": {
            "text/plain": [
              "Matrix([Vector([1, 5/3, 0, 0]), Vector([3, 1, 0, 0]), Vector([-1/6, -5/6, 1, 0]), Vector([5/6, 1/6, 0, 1])])"
            ],
            "text/html": [
              "<p style=\"text-align:center;\">$\\left[ \\begin{array}{cccc}1&3&- \\frac{1}{6}&\\frac{5}{6}\\\\\\frac{5}{3}&1&- \\frac{5}{6}&\\frac{1}{6}\\\\0&0&1&0\\\\0&0&0&1\\\\ \\end{array} \\right]$</p>"
            ],
            "image/png": "$\\left[ \\begin{array}{cccc}1&3&- \\frac{1}{6}&\\frac{5}{6}\\\\\\frac{5}{3}&1&- \\frac{5}{6}&\\frac{1}{6}\\\\0&0&1&0\\\\0&0&0&1\\\\ \\end{array} \\right]$",
            "text/latex": "$\\left[ \\begin{array}{cccc}1&3&- \\frac{1}{6}&\\frac{5}{6}\\\\\\frac{5}{3}&1&- \\frac{5}{6}&\\frac{1}{6}\\\\0&0&1&0\\\\0&0&0&1\\\\ \\end{array} \\right]$"
          },
          "metadata": {},
          "execution_count": 132
        }
      ]
    },
    {
      "cell_type": "markdown",
      "source": [
        "$\\left[ \\begin{array}{cccc}1&3&- \\frac{1}{6}&\\frac{5}{6}\\\\\\frac{5}{3}&1&- \\frac{5}{6}&\\frac{1}{6}\\\\0&0&1&0\\\\0&0&0&1\\\\ \\end{array} \\right]$"
      ],
      "metadata": {
        "id": "PyKLkVIggYYN"
      }
    },
    {
      "cell_type": "code",
      "source": [
        "M&T((fracc(-5,3),2,1))"
      ],
      "metadata": {
        "colab": {
          "base_uri": "https://localhost:8080/",
          "height": 46
        },
        "id": "sFsagCW2gctm",
        "outputId": "4b82495f-5724-465e-e63f-b20a8dbf4b3f"
      },
      "execution_count": null,
      "outputs": [
        {
          "output_type": "execute_result",
          "data": {
            "text/plain": [
              "Matrix([Vector([-4, 0, 0, 0]), Vector([3, 1, 0, 0]), Vector([-1/6, -5/6, 1, 0]), Vector([5/6, 1/6, 0, 1])])"
            ],
            "text/html": [
              "<p style=\"text-align:center;\">$\\left[ \\begin{array}{cccc}-4&3&- \\frac{1}{6}&\\frac{5}{6}\\\\0&1&- \\frac{5}{6}&\\frac{1}{6}\\\\0&0&1&0\\\\0&0&0&1\\\\ \\end{array} \\right]$</p>"
            ],
            "image/png": "$\\left[ \\begin{array}{cccc}-4&3&- \\frac{1}{6}&\\frac{5}{6}\\\\0&1&- \\frac{5}{6}&\\frac{1}{6}\\\\0&0&1&0\\\\0&0&0&1\\\\ \\end{array} \\right]$",
            "text/latex": "$\\left[ \\begin{array}{cccc}-4&3&- \\frac{1}{6}&\\frac{5}{6}\\\\0&1&- \\frac{5}{6}&\\frac{1}{6}\\\\0&0&1&0\\\\0&0&0&1\\\\ \\end{array} \\right]$"
          },
          "metadata": {},
          "execution_count": 133
        }
      ]
    },
    {
      "cell_type": "markdown",
      "source": [
        "$\\left[ \\begin{array}{cccc}-4&3&- \\frac{1}{6}&\\frac{5}{6}\\\\0&1&- \\frac{5}{6}&\\frac{1}{6}\\\\0&0&1&0\\\\0&0&0&1\\\\ \\end{array} \\right]$"
      ],
      "metadata": {
        "id": "25PkjF_DhKgS"
      }
    },
    {
      "cell_type": "code",
      "source": [
        "M&T((fracc(-1,4),1))"
      ],
      "metadata": {
        "colab": {
          "base_uri": "https://localhost:8080/",
          "height": 46
        },
        "id": "AEeHbx5phO5X",
        "outputId": "af7495b7-1edf-45f7-9041-af2c0b7dfa9a"
      },
      "execution_count": null,
      "outputs": [
        {
          "output_type": "execute_result",
          "data": {
            "text/plain": [
              "Matrix([Vector([1, 0, 0, 0]), Vector([3, 1, 0, 0]), Vector([-1/6, -5/6, 1, 0]), Vector([5/6, 1/6, 0, 1])])"
            ],
            "text/html": [
              "<p style=\"text-align:center;\">$\\left[ \\begin{array}{cccc}1&3&- \\frac{1}{6}&\\frac{5}{6}\\\\0&1&- \\frac{5}{6}&\\frac{1}{6}\\\\0&0&1&0\\\\0&0&0&1\\\\ \\end{array} \\right]$</p>"
            ],
            "image/png": "$\\left[ \\begin{array}{cccc}1&3&- \\frac{1}{6}&\\frac{5}{6}\\\\0&1&- \\frac{5}{6}&\\frac{1}{6}\\\\0&0&1&0\\\\0&0&0&1\\\\ \\end{array} \\right]$",
            "text/latex": "$\\left[ \\begin{array}{cccc}1&3&- \\frac{1}{6}&\\frac{5}{6}\\\\0&1&- \\frac{5}{6}&\\frac{1}{6}\\\\0&0&1&0\\\\0&0&0&1\\\\ \\end{array} \\right]$"
          },
          "metadata": {},
          "execution_count": 134
        }
      ]
    },
    {
      "cell_type": "markdown",
      "source": [
        "$\\left[ \\begin{array}{cccc}1&3&- \\frac{1}{6}&\\frac{5}{6}\\\\0&1&- \\frac{5}{6}&\\frac{1}{6}\\\\0&0&1&0\\\\0&0&0&1\\\\ \\end{array} \\right]$"
      ],
      "metadata": {
        "id": "rXlR-4MFiGvC"
      }
    },
    {
      "cell_type": "markdown",
      "source": [
        "5. Compara tus resultados del ejercicio 1 con el metodo Elim()"
      ],
      "metadata": {
        "id": "C-GfuE9_Cw_H"
      }
    },
    {
      "cell_type": "markdown",
      "source": [
        " 6. Compara tus resultados del ejercicio 4 con el metodo ElimGJ()"
      ],
      "metadata": {
        "id": "LQ2qXfhaIRis"
      }
    },
    {
      "cell_type": "markdown",
      "source": [
        "7. Encuentra la inversa de la matriz del ejercicio 1."
      ],
      "metadata": {
        "id": "2F3XtwbpIhOO"
      }
    },
    {
      "cell_type": "code",
      "source": [
        "a= Vector((3,1,2,4,1,0,0,0)); b=Vector((-2,-1,1,-4,0,1,0,0)); c= Vector((2,-1,2,1,0,0,1,0)); d=Vector((1,-3,4,2,0,0,0,1))\n",
        "M= Matrix([a,b,c,d])\n",
        "M"
      ],
      "metadata": {
        "colab": {
          "base_uri": "https://localhost:8080/",
          "height": 46
        },
        "id": "_K1eOtUMkSiT",
        "outputId": "9914ac08-b330-4fe0-fb25-1fd58e80ca71"
      },
      "execution_count": null,
      "outputs": [
        {
          "output_type": "execute_result",
          "data": {
            "text/plain": [
              "Matrix([Vector([3, 1, 2, 4, 1, 0, 0, 0]), Vector([-2, -1, 1, -4, 0, 1, 0, 0]), Vector([2, -1, 2, 1, 0, 0, 1, 0]), Vector([1, -3, 4, 2, 0, 0, 0, 1])])"
            ],
            "text/html": [
              "<p style=\"text-align:center;\">$\\left[ \\begin{array}{cccc}3&-2&2&1\\\\1&-1&-1&-3\\\\2&1&2&4\\\\4&-4&1&2\\\\1&0&0&0\\\\0&1&0&0\\\\0&0&1&0\\\\0&0&0&1\\\\ \\end{array} \\right]$</p>"
            ],
            "image/png": "$\\left[ \\begin{array}{cccc}3&-2&2&1\\\\1&-1&-1&-3\\\\2&1&2&4\\\\4&-4&1&2\\\\1&0&0&0\\\\0&1&0&0\\\\0&0&1&0\\\\0&0&0&1\\\\ \\end{array} \\right]$",
            "text/latex": "$\\left[ \\begin{array}{cccc}3&-2&2&1\\\\1&-1&-1&-3\\\\2&1&2&4\\\\4&-4&1&2\\\\1&0&0&0\\\\0&1&0&0\\\\0&0&1&0\\\\0&0&0&1\\\\ \\end{array} \\right]$"
          },
          "metadata": {},
          "execution_count": 23
        }
      ]
    },
    {
      "cell_type": "markdown",
      "source": [
        "$\\left[ \\begin{array}{cccc}3&-2&2&1\\\\1&-1&-1&-3\\\\2&1&2&4\\\\4&-4&1&2\\\\1&0&0&0\\\\0&1&0&0\\\\0&0&1&0\\\\0&0&0&1\\\\ \\end{array} \\right]$"
      ],
      "metadata": {
        "id": "px3WyJlVm7aP"
      }
    },
    {
      "cell_type": "code",
      "source": [
        "M&T((2,4,2))"
      ],
      "metadata": {
        "colab": {
          "base_uri": "https://localhost:8080/",
          "height": 46
        },
        "id": "lZUGOu-irHdd",
        "outputId": "73b87b59-2b27-4869-b49b-5e0e4c569eeb"
      },
      "execution_count": null,
      "outputs": [
        {
          "output_type": "execute_result",
          "data": {
            "text/plain": [
              "Matrix([Vector([3, 1, 2, 4, 1, 0, 0, 0]), Vector([0, -7, 9, 0, 0, 1, 0, 2]), Vector([2, -1, 2, 1, 0, 0, 1, 0]), Vector([1, -3, 4, 2, 0, 0, 0, 1])])"
            ],
            "text/html": [
              "<p style=\"text-align:center;\">$\\left[ \\begin{array}{cccc}3&0&2&1\\\\1&-7&-1&-3\\\\2&9&2&4\\\\4&0&1&2\\\\1&0&0&0\\\\0&1&0&0\\\\0&0&1&0\\\\0&2&0&1\\\\ \\end{array} \\right]$</p>"
            ],
            "image/png": "$\\left[ \\begin{array}{cccc}3&0&2&1\\\\1&-7&-1&-3\\\\2&9&2&4\\\\4&0&1&2\\\\1&0&0&0\\\\0&1&0&0\\\\0&0&1&0\\\\0&2&0&1\\\\ \\end{array} \\right]$",
            "text/latex": "$\\left[ \\begin{array}{cccc}3&0&2&1\\\\1&-7&-1&-3\\\\2&9&2&4\\\\4&0&1&2\\\\1&0&0&0\\\\0&1&0&0\\\\0&0&1&0\\\\0&2&0&1\\\\ \\end{array} \\right]$"
          },
          "metadata": {},
          "execution_count": 24
        }
      ]
    },
    {
      "cell_type": "markdown",
      "source": [
        "$\\left[ \\begin{array}{cccc}3&0&2&1\\\\1&-7&-1&-3\\\\2&9&2&4\\\\4&0&1&2\\\\1&0&0&0\\\\0&1&0&0\\\\0&0&1&0\\\\0&2&0&1\\\\ \\end{array} \\right]$"
      ],
      "metadata": {
        "id": "9gxfk7A3sJwx"
      }
    },
    {
      "cell_type": "code",
      "source": [
        "M&T((-2,4,3))"
      ],
      "metadata": {
        "colab": {
          "base_uri": "https://localhost:8080/",
          "height": 46
        },
        "id": "o39VK_JcrnQw",
        "outputId": "53452cef-6576-48f4-9085-9234e5e6e1d9"
      },
      "execution_count": null,
      "outputs": [
        {
          "output_type": "execute_result",
          "data": {
            "text/plain": [
              "Matrix([Vector([3, 1, 2, 4, 1, 0, 0, 0]), Vector([0, -7, 9, 0, 0, 1, 0, 2]), Vector([0, 5, -6, -3, 0, 0, 1, -2]), Vector([1, -3, 4, 2, 0, 0, 0, 1])])"
            ],
            "text/html": [
              "<p style=\"text-align:center;\">$\\left[ \\begin{array}{cccc}3&0&0&1\\\\1&-7&5&-3\\\\2&9&-6&4\\\\4&0&-3&2\\\\1&0&0&0\\\\0&1&0&0\\\\0&0&1&0\\\\0&2&-2&1\\\\ \\end{array} \\right]$</p>"
            ],
            "image/png": "$\\left[ \\begin{array}{cccc}3&0&0&1\\\\1&-7&5&-3\\\\2&9&-6&4\\\\4&0&-3&2\\\\1&0&0&0\\\\0&1&0&0\\\\0&0&1&0\\\\0&2&-2&1\\\\ \\end{array} \\right]$",
            "text/latex": "$\\left[ \\begin{array}{cccc}3&0&0&1\\\\1&-7&5&-3\\\\2&9&-6&4\\\\4&0&-3&2\\\\1&0&0&0\\\\0&1&0&0\\\\0&0&1&0\\\\0&2&-2&1\\\\ \\end{array} \\right]$"
          },
          "metadata": {},
          "execution_count": 25
        }
      ]
    },
    {
      "cell_type": "markdown",
      "source": [
        "$\\left[ \\begin{array}{cccc}3&0&0&1\\\\1&-7&5&-3\\\\2&9&-6&4\\\\4&0&-3&2\\\\1&0&0&0\\\\0&1&0&0\\\\0&0&1&0\\\\0&2&-2&1\\\\ \\end{array} \\right]$"
      ],
      "metadata": {
        "id": "aJTrit2GsTpP"
      }
    },
    {
      "cell_type": "code",
      "source": [
        "M&T((fracc(1,3),1))"
      ],
      "metadata": {
        "colab": {
          "base_uri": "https://localhost:8080/",
          "height": 46
        },
        "id": "EHakxx-2sXo7",
        "outputId": "c3d1e96d-267c-4e9b-fbad-40402ca67a65"
      },
      "execution_count": null,
      "outputs": [
        {
          "output_type": "execute_result",
          "data": {
            "text/plain": [
              "Matrix([Vector([1, 1/3, 2/3, 4/3, 1/3, 0, 0, 0]), Vector([0, -7, 9, 0, 0, 1, 0, 2]), Vector([0, 5, -6, -3, 0, 0, 1, -2]), Vector([1, -3, 4, 2, 0, 0, 0, 1])])"
            ],
            "text/html": [
              "<p style=\"text-align:center;\">$\\left[ \\begin{array}{cccc}1&0&0&1\\\\\\frac{1}{3}&-7&5&-3\\\\\\frac{2}{3}&9&-6&4\\\\\\frac{4}{3}&0&-3&2\\\\\\frac{1}{3}&0&0&0\\\\0&1&0&0\\\\0&0&1&0\\\\0&2&-2&1\\\\ \\end{array} \\right]$</p>"
            ],
            "image/png": "$\\left[ \\begin{array}{cccc}1&0&0&1\\\\\\frac{1}{3}&-7&5&-3\\\\\\frac{2}{3}&9&-6&4\\\\\\frac{4}{3}&0&-3&2\\\\\\frac{1}{3}&0&0&0\\\\0&1&0&0\\\\0&0&1&0\\\\0&2&-2&1\\\\ \\end{array} \\right]$",
            "text/latex": "$\\left[ \\begin{array}{cccc}1&0&0&1\\\\\\frac{1}{3}&-7&5&-3\\\\\\frac{2}{3}&9&-6&4\\\\\\frac{4}{3}&0&-3&2\\\\\\frac{1}{3}&0&0&0\\\\0&1&0&0\\\\0&0&1&0\\\\0&2&-2&1\\\\ \\end{array} \\right]$"
          },
          "metadata": {},
          "execution_count": 26
        }
      ]
    },
    {
      "cell_type": "markdown",
      "source": [
        "$\\left[ \\begin{array}{cccc}1&0&0&1\\\\\\frac{1}{3}&-7&5&-3\\\\\\frac{2}{3}&9&-6&4\\\\\\frac{4}{3}&0&-3&2\\\\\\frac{1}{3}&0&0&0\\\\0&1&0&0\\\\0&0&1&0\\\\0&2&-2&1\\\\ \\end{array} \\right]$"
      ],
      "metadata": {
        "id": "6dKh5tsjsiB3"
      }
    },
    {
      "cell_type": "code",
      "source": [
        "M&T((-1,1,4))"
      ],
      "metadata": {
        "colab": {
          "base_uri": "https://localhost:8080/",
          "height": 64
        },
        "id": "hLTfl4qJsmi_",
        "outputId": "5d4ec4dc-99b2-4497-851d-5c840422f1d4"
      },
      "execution_count": null,
      "outputs": [
        {
          "output_type": "execute_result",
          "data": {
            "text/plain": [
              "Matrix([Vector([1, 1/3, 2/3, 4/3, 1/3, 0, 0, 0]), Vector([0, -7, 9, 0, 0, 1, 0, 2]), Vector([0, 5, -6, -3, 0, 0, 1, -2]), Vector([0, -10/3, 10/3, 2/3, -1/3, 0, 0, 1])])"
            ],
            "text/html": [
              "<p style=\"text-align:center;\">$\\left[ \\begin{array}{cccc}1&0&0&0\\\\\\frac{1}{3}&-7&5&- \\frac{10}{3}\\\\\\frac{2}{3}&9&-6&\\frac{10}{3}\\\\\\frac{4}{3}&0&-3&\\frac{2}{3}\\\\\\frac{1}{3}&0&0&- \\frac{1}{3}\\\\0&1&0&0\\\\0&0&1&0\\\\0&2&-2&1\\\\ \\end{array} \\right]$</p>"
            ],
            "image/png": "$\\left[ \\begin{array}{cccc}1&0&0&0\\\\\\frac{1}{3}&-7&5&- \\frac{10}{3}\\\\\\frac{2}{3}&9&-6&\\frac{10}{3}\\\\\\frac{4}{3}&0&-3&\\frac{2}{3}\\\\\\frac{1}{3}&0&0&- \\frac{1}{3}\\\\0&1&0&0\\\\0&0&1&0\\\\0&2&-2&1\\\\ \\end{array} \\right]$",
            "text/latex": "$\\left[ \\begin{array}{cccc}1&0&0&0\\\\\\frac{1}{3}&-7&5&- \\frac{10}{3}\\\\\\frac{2}{3}&9&-6&\\frac{10}{3}\\\\\\frac{4}{3}&0&-3&\\frac{2}{3}\\\\\\frac{1}{3}&0&0&- \\frac{1}{3}\\\\0&1&0&0\\\\0&0&1&0\\\\0&2&-2&1\\\\ \\end{array} \\right]$"
          },
          "metadata": {},
          "execution_count": 27
        }
      ]
    },
    {
      "cell_type": "markdown",
      "source": [
        "$\\left[ \\begin{array}{cccc}1&0&0&0\\\\\\frac{1}{3}&-7&5&- \\frac{10}{3}\\\\\\frac{2}{3}&9&-6&\\frac{10}{3}\\\\\\frac{4}{3}&0&-3&\\frac{2}{3}\\\\\\frac{1}{3}&0&0&- \\frac{1}{3}\\\\0&1&0&0\\\\0&0&1&0\\\\0&2&-2&1\\\\ \\end{array} \\right]$"
      ],
      "metadata": {
        "id": "cPRtbciWsu1r"
      }
    },
    {
      "cell_type": "code",
      "source": [
        "M&T((fracc(-3,10),4))"
      ],
      "metadata": {
        "colab": {
          "base_uri": "https://localhost:8080/",
          "height": 64
        },
        "id": "GsAA9U17s6DS",
        "outputId": "c63321c4-dbca-45e5-fe5d-317d370f54a0"
      },
      "execution_count": null,
      "outputs": [
        {
          "output_type": "execute_result",
          "data": {
            "text/plain": [
              "Matrix([Vector([1, 1/3, 2/3, 4/3, 1/3, 0, 0, 0]), Vector([0, -7, 9, 0, 0, 1, 0, 2]), Vector([0, 5, -6, -3, 0, 0, 1, -2]), Vector([0, 1, -1, -1/5, 1/10, 0, 0, -3/10])])"
            ],
            "text/html": [
              "<p style=\"text-align:center;\">$\\left[ \\begin{array}{cccc}1&0&0&0\\\\\\frac{1}{3}&-7&5&1\\\\\\frac{2}{3}&9&-6&-1\\\\\\frac{4}{3}&0&-3&- \\frac{1}{5}\\\\\\frac{1}{3}&0&0&\\frac{1}{10}\\\\0&1&0&0\\\\0&0&1&0\\\\0&2&-2&- \\frac{3}{10}\\\\ \\end{array} \\right]$</p>"
            ],
            "image/png": "$\\left[ \\begin{array}{cccc}1&0&0&0\\\\\\frac{1}{3}&-7&5&1\\\\\\frac{2}{3}&9&-6&-1\\\\\\frac{4}{3}&0&-3&- \\frac{1}{5}\\\\\\frac{1}{3}&0&0&\\frac{1}{10}\\\\0&1&0&0\\\\0&0&1&0\\\\0&2&-2&- \\frac{3}{10}\\\\ \\end{array} \\right]$",
            "text/latex": "$\\left[ \\begin{array}{cccc}1&0&0&0\\\\\\frac{1}{3}&-7&5&1\\\\\\frac{2}{3}&9&-6&-1\\\\\\frac{4}{3}&0&-3&- \\frac{1}{5}\\\\\\frac{1}{3}&0&0&\\frac{1}{10}\\\\0&1&0&0\\\\0&0&1&0\\\\0&2&-2&- \\frac{3}{10}\\\\ \\end{array} \\right]$"
          },
          "metadata": {},
          "execution_count": 28
        }
      ]
    },
    {
      "cell_type": "markdown",
      "source": [
        "$\\left[ \\begin{array}{cccc}1&0&0&0\\\\\\frac{1}{3}&-7&5&1\\\\\\frac{2}{3}&9&-6&-1\\\\\\frac{4}{3}&0&-3&- \\frac{1}{5}\\\\\\frac{1}{3}&0&0&\\frac{1}{10}\\\\0&1&0&0\\\\0&0&1&0\\\\0&2&-2&- \\frac{3}{10}\\\\ \\end{array} \\right]$"
      ],
      "metadata": {
        "id": "ltGZ6GHmtDqf"
      }
    },
    {
      "cell_type": "code",
      "source": [
        "M&T((-5,4,3))"
      ],
      "metadata": {
        "colab": {
          "base_uri": "https://localhost:8080/",
          "height": 64
        },
        "id": "Fbkq-yhQtRD9",
        "outputId": "3acaa120-e0ef-46a2-d705-906f6c9c1562"
      },
      "execution_count": null,
      "outputs": [
        {
          "output_type": "execute_result",
          "data": {
            "text/plain": [
              "Matrix([Vector([1, 1/3, 2/3, 4/3, 1/3, 0, 0, 0]), Vector([0, -7, 9, 0, 0, 1, 0, 2]), Vector([0, 0, -1, -2, -1/2, 0, 1, -1/2]), Vector([0, 1, -1, -1/5, 1/10, 0, 0, -3/10])])"
            ],
            "text/html": [
              "<p style=\"text-align:center;\">$\\left[ \\begin{array}{cccc}1&0&0&0\\\\\\frac{1}{3}&-7&0&1\\\\\\frac{2}{3}&9&-1&-1\\\\\\frac{4}{3}&0&-2&- \\frac{1}{5}\\\\\\frac{1}{3}&0&- \\frac{1}{2}&\\frac{1}{10}\\\\0&1&0&0\\\\0&0&1&0\\\\0&2&- \\frac{1}{2}&- \\frac{3}{10}\\\\ \\end{array} \\right]$</p>"
            ],
            "image/png": "$\\left[ \\begin{array}{cccc}1&0&0&0\\\\\\frac{1}{3}&-7&0&1\\\\\\frac{2}{3}&9&-1&-1\\\\\\frac{4}{3}&0&-2&- \\frac{1}{5}\\\\\\frac{1}{3}&0&- \\frac{1}{2}&\\frac{1}{10}\\\\0&1&0&0\\\\0&0&1&0\\\\0&2&- \\frac{1}{2}&- \\frac{3}{10}\\\\ \\end{array} \\right]$",
            "text/latex": "$\\left[ \\begin{array}{cccc}1&0&0&0\\\\\\frac{1}{3}&-7&0&1\\\\\\frac{2}{3}&9&-1&-1\\\\\\frac{4}{3}&0&-2&- \\frac{1}{5}\\\\\\frac{1}{3}&0&- \\frac{1}{2}&\\frac{1}{10}\\\\0&1&0&0\\\\0&0&1&0\\\\0&2&- \\frac{1}{2}&- \\frac{3}{10}\\\\ \\end{array} \\right]$"
          },
          "metadata": {},
          "execution_count": 29
        }
      ]
    },
    {
      "cell_type": "markdown",
      "source": [
        "$\\left[ \\begin{array}{cccc}1&0&0&0\\\\\\frac{1}{3}&-7&0&1\\\\\\frac{2}{3}&9&-1&-1\\\\\\frac{4}{3}&0&-2&- \\frac{1}{5}\\\\\\frac{1}{3}&0&- \\frac{1}{2}&\\frac{1}{10}\\\\0&1&0&0\\\\0&0&1&0\\\\0&2&- \\frac{1}{2}&- \\frac{3}{10}\\\\ \\end{array} \\right]$"
      ],
      "metadata": {
        "id": "epgkR3DHtdi9"
      }
    },
    {
      "cell_type": "code",
      "source": [
        "M&T((fracc(-1,3),4,1))"
      ],
      "metadata": {
        "colab": {
          "base_uri": "https://localhost:8080/",
          "height": 64
        },
        "id": "-hiKtIvwt1i8",
        "outputId": "1e51441d-9a4a-47de-829e-55027431d0a4"
      },
      "execution_count": null,
      "outputs": [
        {
          "output_type": "execute_result",
          "data": {
            "text/plain": [
              "Matrix([Vector([1, 0, 1, 7/5, 3/10, 0, 0, 1/10]), Vector([0, -7, 9, 0, 0, 1, 0, 2]), Vector([0, 0, -1, -2, -1/2, 0, 1, -1/2]), Vector([0, 1, -1, -1/5, 1/10, 0, 0, -3/10])])"
            ],
            "text/html": [
              "<p style=\"text-align:center;\">$\\left[ \\begin{array}{cccc}1&0&0&0\\\\0&-7&0&1\\\\1&9&-1&-1\\\\\\frac{7}{5}&0&-2&- \\frac{1}{5}\\\\\\frac{3}{10}&0&- \\frac{1}{2}&\\frac{1}{10}\\\\0&1&0&0\\\\0&0&1&0\\\\\\frac{1}{10}&2&- \\frac{1}{2}&- \\frac{3}{10}\\\\ \\end{array} \\right]$</p>"
            ],
            "image/png": "$\\left[ \\begin{array}{cccc}1&0&0&0\\\\0&-7&0&1\\\\1&9&-1&-1\\\\\\frac{7}{5}&0&-2&- \\frac{1}{5}\\\\\\frac{3}{10}&0&- \\frac{1}{2}&\\frac{1}{10}\\\\0&1&0&0\\\\0&0&1&0\\\\\\frac{1}{10}&2&- \\frac{1}{2}&- \\frac{3}{10}\\\\ \\end{array} \\right]$",
            "text/latex": "$\\left[ \\begin{array}{cccc}1&0&0&0\\\\0&-7&0&1\\\\1&9&-1&-1\\\\\\frac{7}{5}&0&-2&- \\frac{1}{5}\\\\\\frac{3}{10}&0&- \\frac{1}{2}&\\frac{1}{10}\\\\0&1&0&0\\\\0&0&1&0\\\\\\frac{1}{10}&2&- \\frac{1}{2}&- \\frac{3}{10}\\\\ \\end{array} \\right]$"
          },
          "metadata": {},
          "execution_count": 30
        }
      ]
    },
    {
      "cell_type": "markdown",
      "source": [
        "$\\left[ \\begin{array}{cccc}1&0&0&0\\\\0&-7&0&1\\\\1&9&-1&-1\\\\\\frac{7}{5}&0&-2&- \\frac{1}{5}\\\\\\frac{3}{10}&0&- \\frac{1}{2}&\\frac{1}{10}\\\\0&1&0&0\\\\0&0&1&0\\\\\\frac{1}{10}&2&- \\frac{1}{2}&- \\frac{3}{10}\\\\ \\end{array} \\right]$"
      ],
      "metadata": {
        "id": "tzlordQ_uABl"
      }
    },
    {
      "cell_type": "code",
      "source": [
        "M&T((fracc(-1,7),2))"
      ],
      "metadata": {
        "colab": {
          "base_uri": "https://localhost:8080/",
          "height": 64
        },
        "id": "cBFu3RIvuPBY",
        "outputId": "11efe46a-5ab6-46bc-fb68-f10061be7650"
      },
      "execution_count": null,
      "outputs": [
        {
          "output_type": "execute_result",
          "data": {
            "text/plain": [
              "Matrix([Vector([1, 0, 1, 7/5, 3/10, 0, 0, 1/10]), Vector([0, 1, -9/7, 0, 0, -1/7, 0, -2/7]), Vector([0, 0, -1, -2, -1/2, 0, 1, -1/2]), Vector([0, 1, -1, -1/5, 1/10, 0, 0, -3/10])])"
            ],
            "text/html": [
              "<p style=\"text-align:center;\">$\\left[ \\begin{array}{cccc}1&0&0&0\\\\0&1&0&1\\\\1&- \\frac{9}{7}&-1&-1\\\\\\frac{7}{5}&0&-2&- \\frac{1}{5}\\\\\\frac{3}{10}&0&- \\frac{1}{2}&\\frac{1}{10}\\\\0&- \\frac{1}{7}&0&0\\\\0&0&1&0\\\\\\frac{1}{10}&- \\frac{2}{7}&- \\frac{1}{2}&- \\frac{3}{10}\\\\ \\end{array} \\right]$</p>"
            ],
            "image/png": "$\\left[ \\begin{array}{cccc}1&0&0&0\\\\0&1&0&1\\\\1&- \\frac{9}{7}&-1&-1\\\\\\frac{7}{5}&0&-2&- \\frac{1}{5}\\\\\\frac{3}{10}&0&- \\frac{1}{2}&\\frac{1}{10}\\\\0&- \\frac{1}{7}&0&0\\\\0&0&1&0\\\\\\frac{1}{10}&- \\frac{2}{7}&- \\frac{1}{2}&- \\frac{3}{10}\\\\ \\end{array} \\right]$",
            "text/latex": "$\\left[ \\begin{array}{cccc}1&0&0&0\\\\0&1&0&1\\\\1&- \\frac{9}{7}&-1&-1\\\\\\frac{7}{5}&0&-2&- \\frac{1}{5}\\\\\\frac{3}{10}&0&- \\frac{1}{2}&\\frac{1}{10}\\\\0&- \\frac{1}{7}&0&0\\\\0&0&1&0\\\\\\frac{1}{10}&- \\frac{2}{7}&- \\frac{1}{2}&- \\frac{3}{10}\\\\ \\end{array} \\right]$"
          },
          "metadata": {},
          "execution_count": 31
        }
      ]
    },
    {
      "cell_type": "markdown",
      "source": [
        "$\\left[ \\begin{array}{cccc}1&0&0&0\\\\0&1&0&1\\\\1&- \\frac{9}{7}&-1&-1\\\\\\frac{7}{5}&0&-2&- \\frac{1}{5}\\\\\\frac{3}{10}&0&- \\frac{1}{2}&\\frac{1}{10}\\\\0&- \\frac{1}{7}&0&0\\\\0&0&1&0\\\\\\frac{1}{10}&- \\frac{2}{7}&- \\frac{1}{2}&- \\frac{3}{10}\\\\ \\end{array} \\right]$"
      ],
      "metadata": {
        "id": "XuNszAoquf9R"
      }
    },
    {
      "cell_type": "code",
      "source": [
        "M&T((-1,2,4))"
      ],
      "metadata": {
        "colab": {
          "base_uri": "https://localhost:8080/",
          "height": 64
        },
        "id": "JuYRVOrEuoE_",
        "outputId": "4c020b3a-4fff-4f74-c375-17f4b851325c"
      },
      "execution_count": null,
      "outputs": [
        {
          "output_type": "execute_result",
          "data": {
            "text/plain": [
              "Matrix([Vector([1, 0, 1, 7/5, 3/10, 0, 0, 1/10]), Vector([0, 1, -9/7, 0, 0, -1/7, 0, -2/7]), Vector([0, 0, -1, -2, -1/2, 0, 1, -1/2]), Vector([0, 0, 2/7, -1/5, 1/10, 1/7, 0, -1/70])])"
            ],
            "text/html": [
              "<p style=\"text-align:center;\">$\\left[ \\begin{array}{cccc}1&0&0&0\\\\0&1&0&0\\\\1&- \\frac{9}{7}&-1&\\frac{2}{7}\\\\\\frac{7}{5}&0&-2&- \\frac{1}{5}\\\\\\frac{3}{10}&0&- \\frac{1}{2}&\\frac{1}{10}\\\\0&- \\frac{1}{7}&0&\\frac{1}{7}\\\\0&0&1&0\\\\\\frac{1}{10}&- \\frac{2}{7}&- \\frac{1}{2}&- \\frac{1}{70}\\\\ \\end{array} \\right]$</p>"
            ],
            "image/png": "$\\left[ \\begin{array}{cccc}1&0&0&0\\\\0&1&0&0\\\\1&- \\frac{9}{7}&-1&\\frac{2}{7}\\\\\\frac{7}{5}&0&-2&- \\frac{1}{5}\\\\\\frac{3}{10}&0&- \\frac{1}{2}&\\frac{1}{10}\\\\0&- \\frac{1}{7}&0&\\frac{1}{7}\\\\0&0&1&0\\\\\\frac{1}{10}&- \\frac{2}{7}&- \\frac{1}{2}&- \\frac{1}{70}\\\\ \\end{array} \\right]$",
            "text/latex": "$\\left[ \\begin{array}{cccc}1&0&0&0\\\\0&1&0&0\\\\1&- \\frac{9}{7}&-1&\\frac{2}{7}\\\\\\frac{7}{5}&0&-2&- \\frac{1}{5}\\\\\\frac{3}{10}&0&- \\frac{1}{2}&\\frac{1}{10}\\\\0&- \\frac{1}{7}&0&\\frac{1}{7}\\\\0&0&1&0\\\\\\frac{1}{10}&- \\frac{2}{7}&- \\frac{1}{2}&- \\frac{1}{70}\\\\ \\end{array} \\right]$"
          },
          "metadata": {},
          "execution_count": 32
        }
      ]
    },
    {
      "cell_type": "markdown",
      "source": [
        "$\\left[ \\begin{array}{cccc}1&0&0&0\\\\0&1&0&0\\\\1&- \\frac{9}{7}&-1&\\frac{2}{7}\\\\\\frac{7}{5}&0&-2&- \\frac{1}{5}\\\\\\frac{3}{10}&0&- \\frac{1}{2}&\\frac{1}{10}\\\\0&- \\frac{1}{7}&0&\\frac{1}{7}\\\\0&0&1&0\\\\\\frac{1}{10}&- \\frac{2}{7}&- \\frac{1}{2}&- \\frac{1}{70}\\\\ \\end{array} \\right]$"
      ],
      "metadata": {
        "id": "o_H26U-Su5Lp"
      }
    },
    {
      "cell_type": "code",
      "source": [
        "M&T((fracc(-1,1),3))"
      ],
      "metadata": {
        "colab": {
          "base_uri": "https://localhost:8080/",
          "height": 64
        },
        "id": "MZV2UgcVu_tv",
        "outputId": "10d807f3-26cc-460e-b2b7-bf387f2284e4"
      },
      "execution_count": null,
      "outputs": [
        {
          "output_type": "execute_result",
          "data": {
            "text/plain": [
              "Matrix([Vector([1, 0, 1, 7/5, 3/10, 0, 0, 1/10]), Vector([0, 1, -9/7, 0, 0, -1/7, 0, -2/7]), Vector([0, 0, 1, 2, 1/2, 0, -1, 1/2]), Vector([0, 0, 2/7, -1/5, 1/10, 1/7, 0, -1/70])])"
            ],
            "text/html": [
              "<p style=\"text-align:center;\">$\\left[ \\begin{array}{cccc}1&0&0&0\\\\0&1&0&0\\\\1&- \\frac{9}{7}&1&\\frac{2}{7}\\\\\\frac{7}{5}&0&2&- \\frac{1}{5}\\\\\\frac{3}{10}&0&\\frac{1}{2}&\\frac{1}{10}\\\\0&- \\frac{1}{7}&0&\\frac{1}{7}\\\\0&0&-1&0\\\\\\frac{1}{10}&- \\frac{2}{7}&\\frac{1}{2}&- \\frac{1}{70}\\\\ \\end{array} \\right]$</p>"
            ],
            "image/png": "$\\left[ \\begin{array}{cccc}1&0&0&0\\\\0&1&0&0\\\\1&- \\frac{9}{7}&1&\\frac{2}{7}\\\\\\frac{7}{5}&0&2&- \\frac{1}{5}\\\\\\frac{3}{10}&0&\\frac{1}{2}&\\frac{1}{10}\\\\0&- \\frac{1}{7}&0&\\frac{1}{7}\\\\0&0&-1&0\\\\\\frac{1}{10}&- \\frac{2}{7}&\\frac{1}{2}&- \\frac{1}{70}\\\\ \\end{array} \\right]$",
            "text/latex": "$\\left[ \\begin{array}{cccc}1&0&0&0\\\\0&1&0&0\\\\1&- \\frac{9}{7}&1&\\frac{2}{7}\\\\\\frac{7}{5}&0&2&- \\frac{1}{5}\\\\\\frac{3}{10}&0&\\frac{1}{2}&\\frac{1}{10}\\\\0&- \\frac{1}{7}&0&\\frac{1}{7}\\\\0&0&-1&0\\\\\\frac{1}{10}&- \\frac{2}{7}&\\frac{1}{2}&- \\frac{1}{70}\\\\ \\end{array} \\right]$"
          },
          "metadata": {},
          "execution_count": 33
        }
      ]
    },
    {
      "cell_type": "markdown",
      "source": [
        "$\\left[ \\begin{array}{cccc}1&0&0&0\\\\0&1&0&0\\\\1&- \\frac{9}{7}&1&\\frac{2}{7}\\\\\\frac{7}{5}&0&2&- \\frac{1}{5}\\\\\\frac{3}{10}&0&\\frac{1}{2}&\\frac{1}{10}\\\\0&- \\frac{1}{7}&0&\\frac{1}{7}\\\\0&0&-1&0\\\\\\frac{1}{10}&- \\frac{2}{7}&\\frac{1}{2}&- \\frac{1}{70}\\\\ \\end{array} \\right]$"
      ],
      "metadata": {
        "id": "GNaa5kBtvP3A"
      }
    },
    {
      "cell_type": "code",
      "source": [
        "M&T((-1,3,1))"
      ],
      "metadata": {
        "colab": {
          "base_uri": "https://localhost:8080/",
          "height": 64
        },
        "id": "AD8zrNsmvW93",
        "outputId": "4f569248-9bf5-474e-a6ef-04de7d05e0fd"
      },
      "execution_count": null,
      "outputs": [
        {
          "output_type": "execute_result",
          "data": {
            "text/plain": [
              "Matrix([Vector([1, 0, 0, -3/5, -1/5, 0, 1, -2/5]), Vector([0, 1, -9/7, 0, 0, -1/7, 0, -2/7]), Vector([0, 0, 1, 2, 1/2, 0, -1, 1/2]), Vector([0, 0, 2/7, -1/5, 1/10, 1/7, 0, -1/70])])"
            ],
            "text/html": [
              "<p style=\"text-align:center;\">$\\left[ \\begin{array}{cccc}1&0&0&0\\\\0&1&0&0\\\\0&- \\frac{9}{7}&1&\\frac{2}{7}\\\\- \\frac{3}{5}&0&2&- \\frac{1}{5}\\\\- \\frac{1}{5}&0&\\frac{1}{2}&\\frac{1}{10}\\\\0&- \\frac{1}{7}&0&\\frac{1}{7}\\\\1&0&-1&0\\\\- \\frac{2}{5}&- \\frac{2}{7}&\\frac{1}{2}&- \\frac{1}{70}\\\\ \\end{array} \\right]$</p>"
            ],
            "image/png": "$\\left[ \\begin{array}{cccc}1&0&0&0\\\\0&1&0&0\\\\0&- \\frac{9}{7}&1&\\frac{2}{7}\\\\- \\frac{3}{5}&0&2&- \\frac{1}{5}\\\\- \\frac{1}{5}&0&\\frac{1}{2}&\\frac{1}{10}\\\\0&- \\frac{1}{7}&0&\\frac{1}{7}\\\\1&0&-1&0\\\\- \\frac{2}{5}&- \\frac{2}{7}&\\frac{1}{2}&- \\frac{1}{70}\\\\ \\end{array} \\right]$",
            "text/latex": "$\\left[ \\begin{array}{cccc}1&0&0&0\\\\0&1&0&0\\\\0&- \\frac{9}{7}&1&\\frac{2}{7}\\\\- \\frac{3}{5}&0&2&- \\frac{1}{5}\\\\- \\frac{1}{5}&0&\\frac{1}{2}&\\frac{1}{10}\\\\0&- \\frac{1}{7}&0&\\frac{1}{7}\\\\1&0&-1&0\\\\- \\frac{2}{5}&- \\frac{2}{7}&\\frac{1}{2}&- \\frac{1}{70}\\\\ \\end{array} \\right]$"
          },
          "metadata": {},
          "execution_count": 34
        }
      ]
    },
    {
      "cell_type": "markdown",
      "source": [
        "$\\left[ \\begin{array}{cccc}1&0&0&0\\\\0&1&0&0\\\\0&- \\frac{9}{7}&1&\\frac{2}{7}\\\\- \\frac{3}{5}&0&2&- \\frac{1}{5}\\\\- \\frac{1}{5}&0&\\frac{1}{2}&\\frac{1}{10}\\\\0&- \\frac{1}{7}&0&\\frac{1}{7}\\\\1&0&-1&0\\\\- \\frac{2}{5}&- \\frac{2}{7}&\\frac{1}{2}&- \\frac{1}{70}\\\\ \\end{array} \\right]$"
      ],
      "metadata": {
        "id": "-KNzOH1KvkRk"
      }
    },
    {
      "cell_type": "code",
      "source": [
        "M&T((fracc(9,7),3,2))"
      ],
      "metadata": {
        "id": "bMQJezPlvo_D",
        "colab": {
          "base_uri": "https://localhost:8080/",
          "height": 64
        },
        "outputId": "1c4a2eb3-be07-4aa3-f242-bd30e046f146"
      },
      "execution_count": null,
      "outputs": [
        {
          "output_type": "execute_result",
          "data": {
            "text/plain": [
              "Matrix([Vector([1, 0, 0, -3/5, -1/5, 0, 1, -2/5]), Vector([0, 1, 0, 18/7, 9/14, -1/7, -9/7, 5/14]), Vector([0, 0, 1, 2, 1/2, 0, -1, 1/2]), Vector([0, 0, 2/7, -1/5, 1/10, 1/7, 0, -1/70])])"
            ],
            "text/html": [
              "<p style=\"text-align:center;\">$\\left[ \\begin{array}{cccc}1&0&0&0\\\\0&1&0&0\\\\0&0&1&\\frac{2}{7}\\\\- \\frac{3}{5}&\\frac{18}{7}&2&- \\frac{1}{5}\\\\- \\frac{1}{5}&\\frac{9}{14}&\\frac{1}{2}&\\frac{1}{10}\\\\0&- \\frac{1}{7}&0&\\frac{1}{7}\\\\1&- \\frac{9}{7}&-1&0\\\\- \\frac{2}{5}&\\frac{5}{14}&\\frac{1}{2}&- \\frac{1}{70}\\\\ \\end{array} \\right]$</p>"
            ],
            "image/png": "$\\left[ \\begin{array}{cccc}1&0&0&0\\\\0&1&0&0\\\\0&0&1&\\frac{2}{7}\\\\- \\frac{3}{5}&\\frac{18}{7}&2&- \\frac{1}{5}\\\\- \\frac{1}{5}&\\frac{9}{14}&\\frac{1}{2}&\\frac{1}{10}\\\\0&- \\frac{1}{7}&0&\\frac{1}{7}\\\\1&- \\frac{9}{7}&-1&0\\\\- \\frac{2}{5}&\\frac{5}{14}&\\frac{1}{2}&- \\frac{1}{70}\\\\ \\end{array} \\right]$",
            "text/latex": "$\\left[ \\begin{array}{cccc}1&0&0&0\\\\0&1&0&0\\\\0&0&1&\\frac{2}{7}\\\\- \\frac{3}{5}&\\frac{18}{7}&2&- \\frac{1}{5}\\\\- \\frac{1}{5}&\\frac{9}{14}&\\frac{1}{2}&\\frac{1}{10}\\\\0&- \\frac{1}{7}&0&\\frac{1}{7}\\\\1&- \\frac{9}{7}&-1&0\\\\- \\frac{2}{5}&\\frac{5}{14}&\\frac{1}{2}&- \\frac{1}{70}\\\\ \\end{array} \\right]$"
          },
          "metadata": {},
          "execution_count": 35
        }
      ]
    },
    {
      "cell_type": "markdown",
      "source": [
        "$\\left[ \\begin{array}{cccc}1&0&0&0\\\\0&1&0&0\\\\0&0&1&\\frac{2}{7}\\\\- \\frac{3}{5}&\\frac{18}{7}&2&- \\frac{1}{5}\\\\- \\frac{1}{5}&\\frac{9}{14}&\\frac{1}{2}&\\frac{1}{10}\\\\0&- \\frac{1}{7}&0&\\frac{1}{7}\\\\1&- \\frac{9}{7}&-1&0\\\\- \\frac{2}{5}&\\frac{5}{14}&\\frac{1}{2}&- \\frac{1}{70}\\\\ \\end{array} \\right]$"
      ],
      "metadata": {
        "id": "HiGpNrHAOA_7"
      }
    },
    {
      "cell_type": "code",
      "source": [
        "M&T((fracc(-2,7),3,4))"
      ],
      "metadata": {
        "colab": {
          "base_uri": "https://localhost:8080/",
          "height": 64
        },
        "id": "-fDsCA6cOKba",
        "outputId": "373d446d-1ce6-4726-f037-68df1569c483"
      },
      "execution_count": null,
      "outputs": [
        {
          "output_type": "execute_result",
          "data": {
            "text/plain": [
              "Matrix([Vector([1, 0, 0, -3/5, -1/5, 0, 1, -2/5]), Vector([0, 1, 0, 18/7, 9/14, -1/7, -9/7, 5/14]), Vector([0, 0, 1, 2, 1/2, 0, -1, 1/2]), Vector([0, 0, 0, -27/35, -3/70, 1/7, 2/7, -11/70])])"
            ],
            "text/html": [
              "<p style=\"text-align:center;\">$\\left[ \\begin{array}{cccc}1&0&0&0\\\\0&1&0&0\\\\0&0&1&0\\\\- \\frac{3}{5}&\\frac{18}{7}&2&- \\frac{27}{35}\\\\- \\frac{1}{5}&\\frac{9}{14}&\\frac{1}{2}&- \\frac{3}{70}\\\\0&- \\frac{1}{7}&0&\\frac{1}{7}\\\\1&- \\frac{9}{7}&-1&\\frac{2}{7}\\\\- \\frac{2}{5}&\\frac{5}{14}&\\frac{1}{2}&- \\frac{11}{70}\\\\ \\end{array} \\right]$</p>"
            ],
            "image/png": "$\\left[ \\begin{array}{cccc}1&0&0&0\\\\0&1&0&0\\\\0&0&1&0\\\\- \\frac{3}{5}&\\frac{18}{7}&2&- \\frac{27}{35}\\\\- \\frac{1}{5}&\\frac{9}{14}&\\frac{1}{2}&- \\frac{3}{70}\\\\0&- \\frac{1}{7}&0&\\frac{1}{7}\\\\1&- \\frac{9}{7}&-1&\\frac{2}{7}\\\\- \\frac{2}{5}&\\frac{5}{14}&\\frac{1}{2}&- \\frac{11}{70}\\\\ \\end{array} \\right]$",
            "text/latex": "$\\left[ \\begin{array}{cccc}1&0&0&0\\\\0&1&0&0\\\\0&0&1&0\\\\- \\frac{3}{5}&\\frac{18}{7}&2&- \\frac{27}{35}\\\\- \\frac{1}{5}&\\frac{9}{14}&\\frac{1}{2}&- \\frac{3}{70}\\\\0&- \\frac{1}{7}&0&\\frac{1}{7}\\\\1&- \\frac{9}{7}&-1&\\frac{2}{7}\\\\- \\frac{2}{5}&\\frac{5}{14}&\\frac{1}{2}&- \\frac{11}{70}\\\\ \\end{array} \\right]$"
          },
          "metadata": {},
          "execution_count": 36
        }
      ]
    },
    {
      "cell_type": "markdown",
      "source": [
        "$\\left[ \\begin{array}{cccc}1&0&0&0\\\\0&1&0&0\\\\0&0&1&0\\\\- \\frac{3}{5}&\\frac{18}{7}&2&- \\frac{27}{35}\\\\- \\frac{1}{5}&\\frac{9}{14}&\\frac{1}{2}&- \\frac{3}{70}\\\\0&- \\frac{1}{7}&0&\\frac{1}{7}\\\\1&- \\frac{9}{7}&-1&\\frac{2}{7}\\\\- \\frac{2}{5}&\\frac{5}{14}&\\frac{1}{2}&- \\frac{11}{70}\\\\ \\end{array} \\right]$"
      ],
      "metadata": {
        "id": "bFCluQgxOU5Q"
      }
    },
    {
      "cell_type": "code",
      "source": [
        "M&T((fracc(-35,27),4))"
      ],
      "metadata": {
        "colab": {
          "base_uri": "https://localhost:8080/",
          "height": 64
        },
        "id": "KE-Q_xV2OZWv",
        "outputId": "7691f517-d657-4197-deb6-d21a99ac7785"
      },
      "execution_count": null,
      "outputs": [
        {
          "output_type": "execute_result",
          "data": {
            "text/plain": [
              "Matrix([Vector([1, 0, 0, -3/5, -1/5, 0, 1, -2/5]), Vector([0, 1, 0, 18/7, 9/14, -1/7, -9/7, 5/14]), Vector([0, 0, 1, 2, 1/2, 0, -1, 1/2]), Vector([0, 0, 0, 1, 1/18, -5/27, -10/27, 11/54])])"
            ],
            "text/html": [
              "<p style=\"text-align:center;\">$\\left[ \\begin{array}{cccc}1&0&0&0\\\\0&1&0&0\\\\0&0&1&0\\\\- \\frac{3}{5}&\\frac{18}{7}&2&1\\\\- \\frac{1}{5}&\\frac{9}{14}&\\frac{1}{2}&\\frac{1}{18}\\\\0&- \\frac{1}{7}&0&- \\frac{5}{27}\\\\1&- \\frac{9}{7}&-1&- \\frac{10}{27}\\\\- \\frac{2}{5}&\\frac{5}{14}&\\frac{1}{2}&\\frac{11}{54}\\\\ \\end{array} \\right]$</p>"
            ],
            "image/png": "$\\left[ \\begin{array}{cccc}1&0&0&0\\\\0&1&0&0\\\\0&0&1&0\\\\- \\frac{3}{5}&\\frac{18}{7}&2&1\\\\- \\frac{1}{5}&\\frac{9}{14}&\\frac{1}{2}&\\frac{1}{18}\\\\0&- \\frac{1}{7}&0&- \\frac{5}{27}\\\\1&- \\frac{9}{7}&-1&- \\frac{10}{27}\\\\- \\frac{2}{5}&\\frac{5}{14}&\\frac{1}{2}&\\frac{11}{54}\\\\ \\end{array} \\right]$",
            "text/latex": "$\\left[ \\begin{array}{cccc}1&0&0&0\\\\0&1&0&0\\\\0&0&1&0\\\\- \\frac{3}{5}&\\frac{18}{7}&2&1\\\\- \\frac{1}{5}&\\frac{9}{14}&\\frac{1}{2}&\\frac{1}{18}\\\\0&- \\frac{1}{7}&0&- \\frac{5}{27}\\\\1&- \\frac{9}{7}&-1&- \\frac{10}{27}\\\\- \\frac{2}{5}&\\frac{5}{14}&\\frac{1}{2}&\\frac{11}{54}\\\\ \\end{array} \\right]$"
          },
          "metadata": {},
          "execution_count": 37
        }
      ]
    },
    {
      "cell_type": "markdown",
      "source": [
        "$\\left[ \\begin{array}{cccc}1&0&0&0\\\\0&1&0&0\\\\0&0&1&0\\\\- \\frac{3}{5}&\\frac{18}{7}&2&1\\\\- \\frac{1}{5}&\\frac{9}{14}&\\frac{1}{2}&\\frac{1}{18}\\\\0&- \\frac{1}{7}&0&- \\frac{5}{27}\\\\1&- \\frac{9}{7}&-1&- \\frac{10}{27}\\\\- \\frac{2}{5}&\\frac{5}{14}&\\frac{1}{2}&\\frac{11}{54}\\\\ \\end{array} \\right]$"
      ],
      "metadata": {
        "id": "9JxP9sBdOkdT"
      }
    },
    {
      "cell_type": "code",
      "source": [
        "M&T((fracc(3,5),4,1))\n",
        "M&T((fracc(-18,7),4,2))\n",
        "M&T((-2,4,3))"
      ],
      "metadata": {
        "id": "yHzvCj0HoHrb",
        "colab": {
          "base_uri": "https://localhost:8080/",
          "height": 64
        },
        "outputId": "7ea32151-3997-41de-b0b9-da9c4aa5f672"
      },
      "execution_count": null,
      "outputs": [
        {
          "output_type": "execute_result",
          "data": {
            "text/plain": [
              "Matrix([Vector([1, 0, 0, 0, -1/6, -1/9, 7/9, -5/18]), Vector([0, 1, 0, 0, 1/2, 1/3, -1/3, -1/6]), Vector([0, 0, 1, 0, 7/18, 10/27, -7/27, 5/54]), Vector([0, 0, 0, 1, 1/18, -5/27, -10/27, 11/54])])"
            ],
            "text/html": [
              "<p style=\"text-align:center;\">$\\left[ \\begin{array}{cccc}1&0&0&0\\\\0&1&0&0\\\\0&0&1&0\\\\0&0&0&1\\\\- \\frac{1}{6}&\\frac{1}{2}&\\frac{7}{18}&\\frac{1}{18}\\\\- \\frac{1}{9}&\\frac{1}{3}&\\frac{10}{27}&- \\frac{5}{27}\\\\\\frac{7}{9}&- \\frac{1}{3}&- \\frac{7}{27}&- \\frac{10}{27}\\\\- \\frac{5}{18}&- \\frac{1}{6}&\\frac{5}{54}&\\frac{11}{54}\\\\ \\end{array} \\right]$</p>"
            ],
            "image/png": "$\\left[ \\begin{array}{cccc}1&0&0&0\\\\0&1&0&0\\\\0&0&1&0\\\\0&0&0&1\\\\- \\frac{1}{6}&\\frac{1}{2}&\\frac{7}{18}&\\frac{1}{18}\\\\- \\frac{1}{9}&\\frac{1}{3}&\\frac{10}{27}&- \\frac{5}{27}\\\\\\frac{7}{9}&- \\frac{1}{3}&- \\frac{7}{27}&- \\frac{10}{27}\\\\- \\frac{5}{18}&- \\frac{1}{6}&\\frac{5}{54}&\\frac{11}{54}\\\\ \\end{array} \\right]$",
            "text/latex": "$\\left[ \\begin{array}{cccc}1&0&0&0\\\\0&1&0&0\\\\0&0&1&0\\\\0&0&0&1\\\\- \\frac{1}{6}&\\frac{1}{2}&\\frac{7}{18}&\\frac{1}{18}\\\\- \\frac{1}{9}&\\frac{1}{3}&\\frac{10}{27}&- \\frac{5}{27}\\\\\\frac{7}{9}&- \\frac{1}{3}&- \\frac{7}{27}&- \\frac{10}{27}\\\\- \\frac{5}{18}&- \\frac{1}{6}&\\frac{5}{54}&\\frac{11}{54}\\\\ \\end{array} \\right]$"
          },
          "metadata": {},
          "execution_count": 38
        }
      ]
    },
    {
      "cell_type": "markdown",
      "source": [
        "$\\left[ \\begin{array}{cccc}1&0&0&0\\\\0&1&0&0\\\\0&0&1&0\\\\0&0&0&1\\\\- \\frac{1}{6}&\\frac{1}{2}&\\frac{7}{18}&\\frac{1}{18}\\\\- \\frac{1}{9}&\\frac{1}{3}&\\frac{10}{27}&- \\frac{5}{27}\\\\\\frac{7}{9}&- \\frac{1}{3}&- \\frac{7}{27}&- \\frac{10}{27}\\\\- \\frac{5}{18}&- \\frac{1}{6}&\\frac{5}{54}&\\frac{11}{54}\\\\ \\end{array} \\right]$"
      ],
      "metadata": {
        "id": "9XpfOrRdOsEo"
      }
    },
    {
      "cell_type": "markdown",
      "source": [
        "8. Resuelva el siguiente sistema de ecuaciones:\n",
        "\n",
        "$$ \\begin{array}{ccc}5x&+7y&-z&=6\\\\2x&+10y&-2z&=4\\\\x&+y&+z&=0\\\\ \\end{array} $$"
      ],
      "metadata": {
        "id": "tABrI61xarPE"
      }
    },
    {
      "cell_type": "code",
      "source": [
        "r= Vector((5,2,1)); t=Vector((7,10,1)); m= Vector((-1,-2,1)); n=Vector((6,4,0))\n",
        "L= Matrix([r,t,m,n])\n",
        "L"
      ],
      "metadata": {
        "colab": {
          "base_uri": "https://localhost:8080/",
          "height": 46
        },
        "id": "uYHufJyeR7Rw",
        "outputId": "52491aa1-3e7d-47be-ae4a-f2c64712c0ac"
      },
      "execution_count": null,
      "outputs": [
        {
          "output_type": "execute_result",
          "data": {
            "text/plain": [
              "Matrix([Vector([5, 2, 1]), Vector([7, 10, 1]), Vector([-1, -2, 1]), Vector([6, 4, 0])])"
            ],
            "text/html": [
              "<p style=\"text-align:center;\">$\\left[ \\begin{array}{cccc}5&7&-1&6\\\\2&10&-2&4\\\\1&1&1&0\\\\ \\end{array} \\right]$</p>"
            ],
            "image/png": "$\\left[ \\begin{array}{cccc}5&7&-1&6\\\\2&10&-2&4\\\\1&1&1&0\\\\ \\end{array} \\right]$",
            "text/latex": "$\\left[ \\begin{array}{cccc}5&7&-1&6\\\\2&10&-2&4\\\\1&1&1&0\\\\ \\end{array} \\right]$"
          },
          "metadata": {},
          "execution_count": 28
        }
      ]
    },
    {
      "cell_type": "markdown",
      "source": [
        "$\\left[ \\begin{array}{cccc}5&7&-1&6\\\\2&10&-2&4\\\\1&1&1&0\\\\ \\end{array} \\right]$"
      ],
      "metadata": {
        "id": "rYuS2k3TSxPk"
      }
    },
    {
      "cell_type": "code",
      "source": [
        "T((fracc(-1,2),2))&L\n"
      ],
      "metadata": {
        "colab": {
          "base_uri": "https://localhost:8080/",
          "height": 46
        },
        "id": "emgmLjCnXOQR",
        "outputId": "691d6234-eb49-489f-fe48-a29e05aed7ab"
      },
      "execution_count": null,
      "outputs": [
        {
          "output_type": "execute_result",
          "data": {
            "text/plain": [
              "Matrix([Vector([5, -1, 1]), Vector([7, -5, 1]), Vector([-1, 1, 1]), Vector([6, -2, 0])])"
            ],
            "text/html": [
              "<p style=\"text-align:center;\">$\\left[ \\begin{array}{cccc}5&7&-1&6\\\\-1&-5&1&-2\\\\1&1&1&0\\\\ \\end{array} \\right]$</p>"
            ],
            "image/png": "$\\left[ \\begin{array}{cccc}5&7&-1&6\\\\-1&-5&1&-2\\\\1&1&1&0\\\\ \\end{array} \\right]$",
            "text/latex": "$\\left[ \\begin{array}{cccc}5&7&-1&6\\\\-1&-5&1&-2\\\\1&1&1&0\\\\ \\end{array} \\right]$"
          },
          "metadata": {},
          "execution_count": 29
        }
      ]
    },
    {
      "cell_type": "markdown",
      "source": [
        "$\\left[ \\begin{array}{cccc}5&7&-1&6\\\\-1&-5&1&-2\\\\1&1&1&0\\\\ \\end{array} \\right]$"
      ],
      "metadata": {
        "id": "fAd5reVojtWu"
      }
    },
    {
      "cell_type": "code",
      "source": [
        "T((1,2,3))&L"
      ],
      "metadata": {
        "colab": {
          "base_uri": "https://localhost:8080/",
          "height": 46
        },
        "id": "qgOGoAmoj0hH",
        "outputId": "80cdcd85-3a56-450d-84e7-cea24992cafc"
      },
      "execution_count": null,
      "outputs": [
        {
          "output_type": "execute_result",
          "data": {
            "text/plain": [
              "Matrix([Vector([5, -1, 0]), Vector([7, -5, -4]), Vector([-1, 1, 2]), Vector([6, -2, -2])])"
            ],
            "text/html": [
              "<p style=\"text-align:center;\">$\\left[ \\begin{array}{cccc}5&7&-1&6\\\\-1&-5&1&-2\\\\0&-4&2&-2\\\\ \\end{array} \\right]$</p>"
            ],
            "image/png": "$\\left[ \\begin{array}{cccc}5&7&-1&6\\\\-1&-5&1&-2\\\\0&-4&2&-2\\\\ \\end{array} \\right]$",
            "text/latex": "$\\left[ \\begin{array}{cccc}5&7&-1&6\\\\-1&-5&1&-2\\\\0&-4&2&-2\\\\ \\end{array} \\right]$"
          },
          "metadata": {},
          "execution_count": 30
        }
      ]
    },
    {
      "cell_type": "markdown",
      "source": [
        "$\\left[ \\begin{array}{cccc}5&7&-1&6\\\\-1&-5&1&-2\\\\0&-4&2&-2\\\\ \\end{array} \\right]$"
      ],
      "metadata": {
        "id": "o65-I0T3lZ_e"
      }
    },
    {
      "cell_type": "code",
      "source": [
        "T((fracc(-1,5),2))&L"
      ],
      "metadata": {
        "colab": {
          "base_uri": "https://localhost:8080/",
          "height": 46
        },
        "id": "_rS7wqqFlqVa",
        "outputId": "08106188-5dab-419a-b6b1-e866f05a8112"
      },
      "execution_count": null,
      "outputs": [
        {
          "output_type": "execute_result",
          "data": {
            "text/plain": [
              "Matrix([Vector([5, 1/5, 0]), Vector([7, 1, -4]), Vector([-1, -1/5, 2]), Vector([6, 2/5, -2])])"
            ],
            "text/html": [
              "<p style=\"text-align:center;\">$\\left[ \\begin{array}{cccc}5&7&-1&6\\\\\\frac{1}{5}&1&- \\frac{1}{5}&\\frac{2}{5}\\\\0&-4&2&-2\\\\ \\end{array} \\right]$</p>"
            ],
            "image/png": "$\\left[ \\begin{array}{cccc}5&7&-1&6\\\\\\frac{1}{5}&1&- \\frac{1}{5}&\\frac{2}{5}\\\\0&-4&2&-2\\\\ \\end{array} \\right]$",
            "text/latex": "$\\left[ \\begin{array}{cccc}5&7&-1&6\\\\\\frac{1}{5}&1&- \\frac{1}{5}&\\frac{2}{5}\\\\0&-4&2&-2\\\\ \\end{array} \\right]$"
          },
          "metadata": {},
          "execution_count": 31
        }
      ]
    },
    {
      "cell_type": "markdown",
      "source": [
        "$\\left[ \\begin{array}{cccc}5&7&-1&6\\\\\\frac{1}{5}&1&- \\frac{1}{5}&\\frac{2}{5}\\\\0&-4&2&-2\\\\ \\end{array} \\right]$"
      ],
      "metadata": {
        "id": "zawOwKOpoUEu"
      }
    },
    {
      "cell_type": "code",
      "source": [
        "T((4,2,3))&L"
      ],
      "metadata": {
        "colab": {
          "base_uri": "https://localhost:8080/",
          "height": 46
        },
        "id": "vBcMDQTMoa7Q",
        "outputId": "662f2cda-ddca-4f9a-cef0-1d49188313e7"
      },
      "execution_count": null,
      "outputs": [
        {
          "output_type": "execute_result",
          "data": {
            "text/plain": [
              "Matrix([Vector([5, 1/5, 4/5]), Vector([7, 1, 0]), Vector([-1, -1/5, 6/5]), Vector([6, 2/5, -2/5])])"
            ],
            "text/html": [
              "<p style=\"text-align:center;\">$\\left[ \\begin{array}{cccc}5&7&-1&6\\\\\\frac{1}{5}&1&- \\frac{1}{5}&\\frac{2}{5}\\\\\\frac{4}{5}&0&\\frac{6}{5}&- \\frac{2}{5}\\\\ \\end{array} \\right]$</p>"
            ],
            "image/png": "$\\left[ \\begin{array}{cccc}5&7&-1&6\\\\\\frac{1}{5}&1&- \\frac{1}{5}&\\frac{2}{5}\\\\\\frac{4}{5}&0&\\frac{6}{5}&- \\frac{2}{5}\\\\ \\end{array} \\right]$",
            "text/latex": "$\\left[ \\begin{array}{cccc}5&7&-1&6\\\\\\frac{1}{5}&1&- \\frac{1}{5}&\\frac{2}{5}\\\\\\frac{4}{5}&0&\\frac{6}{5}&- \\frac{2}{5}\\\\ \\end{array} \\right]$"
          },
          "metadata": {},
          "execution_count": 32
        }
      ]
    },
    {
      "cell_type": "markdown",
      "source": [
        "$\\left[ \\begin{array}{cccc}5&7&-1&6\\\\\\frac{1}{5}&1&- \\frac{1}{5}&\\frac{2}{5}\\\\\\frac{4}{5}&0&\\frac{6}{5}&- \\frac{2}{5}\\\\ \\end{array} \\right]$"
      ],
      "metadata": {
        "id": "gk1yyadao2E6"
      }
    },
    {
      "cell_type": "code",
      "source": [
        "T((fracc(1,5),1))&L"
      ],
      "metadata": {
        "colab": {
          "base_uri": "https://localhost:8080/",
          "height": 46
        },
        "id": "2mKfEJ5EpOOA",
        "outputId": "8d8d6ffc-946a-485c-c93d-645f651e5793"
      },
      "execution_count": null,
      "outputs": [
        {
          "output_type": "execute_result",
          "data": {
            "text/plain": [
              "Matrix([Vector([1, 1/5, 4/5]), Vector([7/5, 1, 0]), Vector([-1/5, -1/5, 6/5]), Vector([6/5, 2/5, -2/5])])"
            ],
            "text/html": [
              "<p style=\"text-align:center;\">$\\left[ \\begin{array}{cccc}1&\\frac{7}{5}&- \\frac{1}{5}&\\frac{6}{5}\\\\\\frac{1}{5}&1&- \\frac{1}{5}&\\frac{2}{5}\\\\\\frac{4}{5}&0&\\frac{6}{5}&- \\frac{2}{5}\\\\ \\end{array} \\right]$</p>"
            ],
            "image/png": "$\\left[ \\begin{array}{cccc}1&\\frac{7}{5}&- \\frac{1}{5}&\\frac{6}{5}\\\\\\frac{1}{5}&1&- \\frac{1}{5}&\\frac{2}{5}\\\\\\frac{4}{5}&0&\\frac{6}{5}&- \\frac{2}{5}\\\\ \\end{array} \\right]$",
            "text/latex": "$\\left[ \\begin{array}{cccc}1&\\frac{7}{5}&- \\frac{1}{5}&\\frac{6}{5}\\\\\\frac{1}{5}&1&- \\frac{1}{5}&\\frac{2}{5}\\\\\\frac{4}{5}&0&\\frac{6}{5}&- \\frac{2}{5}\\\\ \\end{array} \\right]$"
          },
          "metadata": {},
          "execution_count": 33
        }
      ]
    },
    {
      "cell_type": "markdown",
      "source": [
        "$\\left[ \\begin{array}{cccc}1&\\frac{7}{5}&- \\frac{1}{5}&\\frac{6}{5}\\\\\\frac{1}{5}&1&- \\frac{1}{5}&\\frac{2}{5}\\\\\\frac{4}{5}&0&\\frac{6}{5}&- \\frac{2}{5}\\\\ \\end{array} \\right]$"
      ],
      "metadata": {
        "id": "5rJBDXb5_72R"
      }
    },
    {
      "cell_type": "code",
      "source": [
        "T((fracc(5,6),3))&L"
      ],
      "metadata": {
        "colab": {
          "base_uri": "https://localhost:8080/",
          "height": 46
        },
        "id": "XLmnKQu_AAYe",
        "outputId": "7fec575a-f55c-4d9e-c114-a3fa4c652f0c"
      },
      "execution_count": null,
      "outputs": [
        {
          "output_type": "execute_result",
          "data": {
            "text/plain": [
              "Matrix([Vector([1, 1/5, 2/3]), Vector([7/5, 1, 0]), Vector([-1/5, -1/5, 1]), Vector([6/5, 2/5, -1/3])])"
            ],
            "text/html": [
              "<p style=\"text-align:center;\">$\\left[ \\begin{array}{cccc}1&\\frac{7}{5}&- \\frac{1}{5}&\\frac{6}{5}\\\\\\frac{1}{5}&1&- \\frac{1}{5}&\\frac{2}{5}\\\\\\frac{2}{3}&0&1&- \\frac{1}{3}\\\\ \\end{array} \\right]$</p>"
            ],
            "image/png": "$\\left[ \\begin{array}{cccc}1&\\frac{7}{5}&- \\frac{1}{5}&\\frac{6}{5}\\\\\\frac{1}{5}&1&- \\frac{1}{5}&\\frac{2}{5}\\\\\\frac{2}{3}&0&1&- \\frac{1}{3}\\\\ \\end{array} \\right]$",
            "text/latex": "$\\left[ \\begin{array}{cccc}1&\\frac{7}{5}&- \\frac{1}{5}&\\frac{6}{5}\\\\\\frac{1}{5}&1&- \\frac{1}{5}&\\frac{2}{5}\\\\\\frac{2}{3}&0&1&- \\frac{1}{3}\\\\ \\end{array} \\right]$"
          },
          "metadata": {},
          "execution_count": 34
        }
      ]
    },
    {
      "cell_type": "markdown",
      "source": [
        "$\\left[ \\begin{array}{cccc}1&\\frac{7}{5}&- \\frac{1}{5}&\\frac{6}{5}\\\\\\frac{1}{5}&1&- \\frac{1}{5}&\\frac{2}{5}\\\\\\frac{2}{3}&0&1&- \\frac{1}{3}\\\\ \\end{array} \\right]$"
      ],
      "metadata": {
        "id": "7zkgCeLvA2Hr"
      }
    },
    {
      "cell_type": "code",
      "source": [
        "T((fracc(1,5),3,2))&L"
      ],
      "metadata": {
        "colab": {
          "base_uri": "https://localhost:8080/",
          "height": 46
        },
        "id": "e58n5tRCBA6F",
        "outputId": "c3db0976-906a-4e03-eb7f-0bedcdde8809"
      },
      "execution_count": null,
      "outputs": [
        {
          "output_type": "execute_result",
          "data": {
            "text/plain": [
              "Matrix([Vector([1, 1/3, 2/3]), Vector([7/5, 1, 0]), Vector([-1/5, 0, 1]), Vector([6/5, 1/3, -1/3])])"
            ],
            "text/html": [
              "<p style=\"text-align:center;\">$\\left[ \\begin{array}{cccc}1&\\frac{7}{5}&- \\frac{1}{5}&\\frac{6}{5}\\\\\\frac{1}{3}&1&0&\\frac{1}{3}\\\\\\frac{2}{3}&0&1&- \\frac{1}{3}\\\\ \\end{array} \\right]$</p>"
            ],
            "image/png": "$\\left[ \\begin{array}{cccc}1&\\frac{7}{5}&- \\frac{1}{5}&\\frac{6}{5}\\\\\\frac{1}{3}&1&0&\\frac{1}{3}\\\\\\frac{2}{3}&0&1&- \\frac{1}{3}\\\\ \\end{array} \\right]$",
            "text/latex": "$\\left[ \\begin{array}{cccc}1&\\frac{7}{5}&- \\frac{1}{5}&\\frac{6}{5}\\\\\\frac{1}{3}&1&0&\\frac{1}{3}\\\\\\frac{2}{3}&0&1&- \\frac{1}{3}\\\\ \\end{array} \\right]$"
          },
          "metadata": {},
          "execution_count": 35
        }
      ]
    },
    {
      "cell_type": "markdown",
      "source": [
        "$\\left[ \\begin{array}{cccc}1&\\frac{7}{5}&- \\frac{1}{5}&\\frac{6}{5}\\\\\\frac{1}{3}&1&0&\\frac{1}{3}\\\\\\frac{2}{3}&0&1&- \\frac{1}{3}\\\\ \\end{array} \\right]$"
      ],
      "metadata": {
        "id": "VPWDjAP6BajJ"
      }
    },
    {
      "cell_type": "code",
      "source": [
        "T((fracc(-1,3),1,2))&L"
      ],
      "metadata": {
        "colab": {
          "base_uri": "https://localhost:8080/",
          "height": 46
        },
        "id": "LC3NrFXluZCo",
        "outputId": "758b2fd6-1460-473d-976a-dde2bc0bd8a5"
      },
      "execution_count": null,
      "outputs": [
        {
          "output_type": "execute_result",
          "data": {
            "text/plain": [
              "Matrix([Vector([1, 0, 2/3]), Vector([7/5, 8/15, 0]), Vector([-1/5, 1/15, 1]), Vector([6/5, -1/15, -1/3])])"
            ],
            "text/html": [
              "<p style=\"text-align:center;\">$\\left[ \\begin{array}{cccc}1&\\frac{7}{5}&- \\frac{1}{5}&\\frac{6}{5}\\\\0&\\frac{8}{15}&\\frac{1}{15}&- \\frac{1}{15}\\\\\\frac{2}{3}&0&1&- \\frac{1}{3}\\\\ \\end{array} \\right]$</p>"
            ],
            "image/png": "$\\left[ \\begin{array}{cccc}1&\\frac{7}{5}&- \\frac{1}{5}&\\frac{6}{5}\\\\0&\\frac{8}{15}&\\frac{1}{15}&- \\frac{1}{15}\\\\\\frac{2}{3}&0&1&- \\frac{1}{3}\\\\ \\end{array} \\right]$",
            "text/latex": "$\\left[ \\begin{array}{cccc}1&\\frac{7}{5}&- \\frac{1}{5}&\\frac{6}{5}\\\\0&\\frac{8}{15}&\\frac{1}{15}&- \\frac{1}{15}\\\\\\frac{2}{3}&0&1&- \\frac{1}{3}\\\\ \\end{array} \\right]$"
          },
          "metadata": {},
          "execution_count": 36
        }
      ]
    },
    {
      "cell_type": "markdown",
      "source": [
        "$\\left[ \\begin{array}{cccc}1&\\frac{7}{5}&- \\frac{1}{5}&\\frac{6}{5}\\\\0&\\frac{8}{15}&\\frac{1}{15}&- \\frac{1}{15}\\\\\\frac{2}{3}&0&1&- \\frac{1}{3}\\\\ \\end{array} \\right]$"
      ],
      "metadata": {
        "id": "44nLoqvpwUGc"
      }
    },
    {
      "cell_type": "code",
      "source": [
        "T((fracc(-2,3),1,3))&L"
      ],
      "metadata": {
        "colab": {
          "base_uri": "https://localhost:8080/",
          "height": 46
        },
        "id": "2GtyDzrEwhn6",
        "outputId": "a9389a2b-c52c-42a9-a978-f2c99c8bfebf"
      },
      "execution_count": null,
      "outputs": [
        {
          "output_type": "execute_result",
          "data": {
            "text/plain": [
              "Matrix([Vector([1, 0, 0]), Vector([7/5, 8/15, -14/15]), Vector([-1/5, 1/15, 17/15]), Vector([6/5, -1/15, -17/15])])"
            ],
            "text/html": [
              "<p style=\"text-align:center;\">$\\left[ \\begin{array}{cccc}1&\\frac{7}{5}&- \\frac{1}{5}&\\frac{6}{5}\\\\0&\\frac{8}{15}&\\frac{1}{15}&- \\frac{1}{15}\\\\0&- \\frac{14}{15}&\\frac{17}{15}&- \\frac{17}{15}\\\\ \\end{array} \\right]$</p>"
            ],
            "image/png": "$\\left[ \\begin{array}{cccc}1&\\frac{7}{5}&- \\frac{1}{5}&\\frac{6}{5}\\\\0&\\frac{8}{15}&\\frac{1}{15}&- \\frac{1}{15}\\\\0&- \\frac{14}{15}&\\frac{17}{15}&- \\frac{17}{15}\\\\ \\end{array} \\right]$",
            "text/latex": "$\\left[ \\begin{array}{cccc}1&\\frac{7}{5}&- \\frac{1}{5}&\\frac{6}{5}\\\\0&\\frac{8}{15}&\\frac{1}{15}&- \\frac{1}{15}\\\\0&- \\frac{14}{15}&\\frac{17}{15}&- \\frac{17}{15}\\\\ \\end{array} \\right]$"
          },
          "metadata": {},
          "execution_count": 37
        }
      ]
    },
    {
      "cell_type": "markdown",
      "source": [
        "$\\left[ \\begin{array}{cccc}1&\\frac{7}{5}&- \\frac{1}{5}&\\frac{6}{5}\\\\0&\\frac{8}{15}&\\frac{1}{15}&- \\frac{1}{15}\\\\0&- \\frac{14}{15}&\\frac{17}{15}&- \\frac{17}{15}\\\\ \\end{array} \\right]$"
      ],
      "metadata": {
        "id": "-iHhNV3Sw9eo"
      }
    },
    {
      "cell_type": "code",
      "source": [
        "T((fracc(15,8),2))&L"
      ],
      "metadata": {
        "colab": {
          "base_uri": "https://localhost:8080/",
          "height": 46
        },
        "id": "8fPYowDNxF6O",
        "outputId": "6c09deaf-d273-45ee-8e6c-5e98a17aba42"
      },
      "execution_count": null,
      "outputs": [
        {
          "output_type": "execute_result",
          "data": {
            "text/plain": [
              "Matrix([Vector([1, 0, 0]), Vector([7/5, 1, -14/15]), Vector([-1/5, 1/8, 17/15]), Vector([6/5, -1/8, -17/15])])"
            ],
            "text/html": [
              "<p style=\"text-align:center;\">$\\left[ \\begin{array}{cccc}1&\\frac{7}{5}&- \\frac{1}{5}&\\frac{6}{5}\\\\0&1&\\frac{1}{8}&- \\frac{1}{8}\\\\0&- \\frac{14}{15}&\\frac{17}{15}&- \\frac{17}{15}\\\\ \\end{array} \\right]$</p>"
            ],
            "image/png": "$\\left[ \\begin{array}{cccc}1&\\frac{7}{5}&- \\frac{1}{5}&\\frac{6}{5}\\\\0&1&\\frac{1}{8}&- \\frac{1}{8}\\\\0&- \\frac{14}{15}&\\frac{17}{15}&- \\frac{17}{15}\\\\ \\end{array} \\right]$",
            "text/latex": "$\\left[ \\begin{array}{cccc}1&\\frac{7}{5}&- \\frac{1}{5}&\\frac{6}{5}\\\\0&1&\\frac{1}{8}&- \\frac{1}{8}\\\\0&- \\frac{14}{15}&\\frac{17}{15}&- \\frac{17}{15}\\\\ \\end{array} \\right]$"
          },
          "metadata": {},
          "execution_count": 38
        }
      ]
    },
    {
      "cell_type": "markdown",
      "source": [
        "$\\left[ \\begin{array}{cccc}1&\\frac{7}{5}&- \\frac{1}{5}&\\frac{6}{5}\\\\0&1&\\frac{1}{8}&- \\frac{1}{8}\\\\0&- \\frac{14}{15}&\\frac{17}{15}&- \\frac{17}{15}\\\\ \\end{array} \\right]$"
      ],
      "metadata": {
        "id": "jhClddBmxfi_"
      }
    },
    {
      "cell_type": "code",
      "source": [
        "T((fracc(-7,5),2,1))&L"
      ],
      "metadata": {
        "colab": {
          "base_uri": "https://localhost:8080/",
          "height": 46
        },
        "id": "GpC8Z7-zxsa1",
        "outputId": "b89f393b-f9fe-4e05-c150-1139251926bc"
      },
      "execution_count": null,
      "outputs": [
        {
          "output_type": "execute_result",
          "data": {
            "text/plain": [
              "Matrix([Vector([1, 0, 0]), Vector([0, 1, -14/15]), Vector([-3/8, 1/8, 17/15]), Vector([11/8, -1/8, -17/15])])"
            ],
            "text/html": [
              "<p style=\"text-align:center;\">$\\left[ \\begin{array}{cccc}1&0&- \\frac{3}{8}&\\frac{11}{8}\\\\0&1&\\frac{1}{8}&- \\frac{1}{8}\\\\0&- \\frac{14}{15}&\\frac{17}{15}&- \\frac{17}{15}\\\\ \\end{array} \\right]$</p>"
            ],
            "image/png": "$\\left[ \\begin{array}{cccc}1&0&- \\frac{3}{8}&\\frac{11}{8}\\\\0&1&\\frac{1}{8}&- \\frac{1}{8}\\\\0&- \\frac{14}{15}&\\frac{17}{15}&- \\frac{17}{15}\\\\ \\end{array} \\right]$",
            "text/latex": "$\\left[ \\begin{array}{cccc}1&0&- \\frac{3}{8}&\\frac{11}{8}\\\\0&1&\\frac{1}{8}&- \\frac{1}{8}\\\\0&- \\frac{14}{15}&\\frac{17}{15}&- \\frac{17}{15}\\\\ \\end{array} \\right]$"
          },
          "metadata": {},
          "execution_count": 39
        }
      ]
    },
    {
      "cell_type": "markdown",
      "source": [
        "$\\left[ \\begin{array}{cccc}1&0&- \\frac{3}{8}&\\frac{11}{8}\\\\0&1&\\frac{1}{8}&- \\frac{1}{8}\\\\0&- \\frac{14}{15}&\\frac{17}{15}&- \\frac{17}{15}\\\\ \\end{array} \\right]$"
      ],
      "metadata": {
        "id": "jMbAjyfVx25K"
      }
    },
    {
      "cell_type": "code",
      "source": [
        "T((fracc(14,15),2,3))&L"
      ],
      "metadata": {
        "colab": {
          "base_uri": "https://localhost:8080/",
          "height": 46
        },
        "id": "JYKSaBbwx-re",
        "outputId": "10b7b156-3d30-47f2-8425-65fc03d6119f"
      },
      "execution_count": null,
      "outputs": [
        {
          "output_type": "execute_result",
          "data": {
            "text/plain": [
              "Matrix([Vector([1, 0, 0]), Vector([0, 1, 0]), Vector([-3/8, 1/8, 5/4]), Vector([11/8, -1/8, -5/4])])"
            ],
            "text/html": [
              "<p style=\"text-align:center;\">$\\left[ \\begin{array}{cccc}1&0&- \\frac{3}{8}&\\frac{11}{8}\\\\0&1&\\frac{1}{8}&- \\frac{1}{8}\\\\0&0&\\frac{5}{4}&- \\frac{5}{4}\\\\ \\end{array} \\right]$</p>"
            ],
            "image/png": "$\\left[ \\begin{array}{cccc}1&0&- \\frac{3}{8}&\\frac{11}{8}\\\\0&1&\\frac{1}{8}&- \\frac{1}{8}\\\\0&0&\\frac{5}{4}&- \\frac{5}{4}\\\\ \\end{array} \\right]$",
            "text/latex": "$\\left[ \\begin{array}{cccc}1&0&- \\frac{3}{8}&\\frac{11}{8}\\\\0&1&\\frac{1}{8}&- \\frac{1}{8}\\\\0&0&\\frac{5}{4}&- \\frac{5}{4}\\\\ \\end{array} \\right]$"
          },
          "metadata": {},
          "execution_count": 40
        }
      ]
    },
    {
      "cell_type": "markdown",
      "source": [
        "$\\left[ \\begin{array}{cccc}1&0&- \\frac{3}{8}&\\frac{11}{8}\\\\0&1&\\frac{1}{8}&- \\frac{1}{8}\\\\0&0&\\frac{5}{4}&- \\frac{5}{4}\\\\ \\end{array} \\right]$"
      ],
      "metadata": {
        "id": "MC04VTmPyJj6"
      }
    },
    {
      "cell_type": "code",
      "source": [
        "T((fracc(4,5),3))&L"
      ],
      "metadata": {
        "colab": {
          "base_uri": "https://localhost:8080/",
          "height": 46
        },
        "id": "_yM0QedSyVR8",
        "outputId": "53caf07c-81e5-4454-e5b0-6e39992abc8d"
      },
      "execution_count": null,
      "outputs": [
        {
          "output_type": "execute_result",
          "data": {
            "text/plain": [
              "Matrix([Vector([1, 0, 0]), Vector([0, 1, 0]), Vector([-3/8, 1/8, 1]), Vector([11/8, -1/8, -1])])"
            ],
            "text/html": [
              "<p style=\"text-align:center;\">$\\left[ \\begin{array}{cccc}1&0&- \\frac{3}{8}&\\frac{11}{8}\\\\0&1&\\frac{1}{8}&- \\frac{1}{8}\\\\0&0&1&-1\\\\ \\end{array} \\right]$</p>"
            ],
            "image/png": "$\\left[ \\begin{array}{cccc}1&0&- \\frac{3}{8}&\\frac{11}{8}\\\\0&1&\\frac{1}{8}&- \\frac{1}{8}\\\\0&0&1&-1\\\\ \\end{array} \\right]$",
            "text/latex": "$\\left[ \\begin{array}{cccc}1&0&- \\frac{3}{8}&\\frac{11}{8}\\\\0&1&\\frac{1}{8}&- \\frac{1}{8}\\\\0&0&1&-1\\\\ \\end{array} \\right]$"
          },
          "metadata": {},
          "execution_count": 41
        }
      ]
    },
    {
      "cell_type": "markdown",
      "source": [
        "$\\left[ \\begin{array}{cccc}1&0&- \\frac{3}{8}&\\frac{11}{8}\\\\0&1&\\frac{1}{8}&- \\frac{1}{8}\\\\0&0&1&-1\\\\ \\end{array} \\right]$"
      ],
      "metadata": {
        "id": "01e4JJh7ylLZ"
      }
    },
    {
      "cell_type": "code",
      "source": [
        "T((fracc(-1,8),3,2))&L"
      ],
      "metadata": {
        "colab": {
          "base_uri": "https://localhost:8080/",
          "height": 46
        },
        "id": "gA0l1w4Yyp6M",
        "outputId": "9e88070c-c00c-4ebd-d428-760c7ee618c6"
      },
      "execution_count": null,
      "outputs": [
        {
          "output_type": "execute_result",
          "data": {
            "text/plain": [
              "Matrix([Vector([1, 0, 0]), Vector([0, 1, 0]), Vector([-3/8, 0, 1]), Vector([11/8, 0, -1])])"
            ],
            "text/html": [
              "<p style=\"text-align:center;\">$\\left[ \\begin{array}{cccc}1&0&- \\frac{3}{8}&\\frac{11}{8}\\\\0&1&0&0\\\\0&0&1&-1\\\\ \\end{array} \\right]$</p>"
            ],
            "image/png": "$\\left[ \\begin{array}{cccc}1&0&- \\frac{3}{8}&\\frac{11}{8}\\\\0&1&0&0\\\\0&0&1&-1\\\\ \\end{array} \\right]$",
            "text/latex": "$\\left[ \\begin{array}{cccc}1&0&- \\frac{3}{8}&\\frac{11}{8}\\\\0&1&0&0\\\\0&0&1&-1\\\\ \\end{array} \\right]$"
          },
          "metadata": {},
          "execution_count": 42
        }
      ]
    },
    {
      "cell_type": "markdown",
      "source": [
        "$\\left[ \\begin{array}{cccc}1&0&- \\frac{3}{8}&\\frac{11}{8}\\\\0&1&0&0\\\\0&0&1&-1\\\\ \\end{array} \\right]$"
      ],
      "metadata": {
        "id": "j1zI6tKtz37d"
      }
    },
    {
      "cell_type": "code",
      "source": [
        "T((fracc(3,8),3,1))&L"
      ],
      "metadata": {
        "colab": {
          "base_uri": "https://localhost:8080/",
          "height": 46
        },
        "id": "XVAeFcojzEtb",
        "outputId": "8af93b88-53ca-4182-ce7a-0400a8777ed7"
      },
      "execution_count": null,
      "outputs": [
        {
          "output_type": "execute_result",
          "data": {
            "text/plain": [
              "Matrix([Vector([1, 0, 0]), Vector([0, 1, 0]), Vector([0, 0, 1]), Vector([1, 0, -1])])"
            ],
            "text/html": [
              "<p style=\"text-align:center;\">$\\left[ \\begin{array}{cccc}1&0&0&1\\\\0&1&0&0\\\\0&0&1&-1\\\\ \\end{array} \\right]$</p>"
            ],
            "image/png": "$\\left[ \\begin{array}{cccc}1&0&0&1\\\\0&1&0&0\\\\0&0&1&-1\\\\ \\end{array} \\right]$",
            "text/latex": "$\\left[ \\begin{array}{cccc}1&0&0&1\\\\0&1&0&0\\\\0&0&1&-1\\\\ \\end{array} \\right]$"
          },
          "metadata": {},
          "execution_count": 43
        }
      ]
    },
    {
      "cell_type": "markdown",
      "source": [
        "$\\left[ \\begin{array}{cccc}1&0&0&1\\\\0&1&0&0\\\\0&0&1&-1\\\\ \\end{array} \\right]$"
      ],
      "metadata": {
        "id": "K6EX07T50Bdj"
      }
    },
    {
      "cell_type": "markdown",
      "source": [
        "# x=1\n",
        "# y=0\n",
        "# z=-1"
      ],
      "metadata": {
        "id": "lo2MBYYg3Y2y"
      }
    }
  ]
}